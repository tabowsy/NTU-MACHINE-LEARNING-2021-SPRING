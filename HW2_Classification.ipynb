{
  "nbformat": 4,
  "nbformat_minor": 0,
  "metadata": {
    "colab": {
      "name": "r09631017_hw2.ipynb",
      "provenance": [],
      "collapsed_sections": [
        "7JYBblNaznY7",
        "LI5y1ag50LG2",
        "Ft3KiA2Y1EeY"
      ],
      "toc_visible": true,
      "authorship_tag": "ABX9TyOx9cMYNEV8KHKAvo1pn7Ww",
      "include_colab_link": true
    },
    "kernelspec": {
      "display_name": "Python 3",
      "name": "python3"
    },
    "accelerator": "GPU"
  },
  "cells": [
    {
      "cell_type": "markdown",
      "metadata": {
        "id": "view-in-github",
        "colab_type": "text"
      },
      "source": [
        "<a href=\"https://colab.research.google.com/github/tabowsy/NTU-MACHINE-LEARNING-2021-SPRING/blob/main/HW2_Classification.ipynb\" target=\"_parent\"><img src=\"https://colab.research.google.com/assets/colab-badge.svg\" alt=\"Open In Colab\"/></a>"
      ]
    },
    {
      "cell_type": "markdown",
      "metadata": {
        "id": "bfteIXGMy1HY"
      },
      "source": [
        "# Data"
      ]
    },
    {
      "cell_type": "markdown",
      "metadata": {
        "id": "47aqORudzIMV"
      },
      "source": [
        "##download"
      ]
    },
    {
      "cell_type": "code",
      "metadata": {
        "id": "K7GSF0k9yqMa",
        "colab": {
          "base_uri": "https://localhost:8080/"
        },
        "outputId": "5852c6f0-a1be-4cba-eb30-7811c3fc6ecd"
      },
      "source": [
        "!gdown --id '1aQZ9sY4MD_Z9QTcJCO7gdkD6Jwcixy6k&export=download' --output data.zip\n",
        "!unzip data.zip\n",
        "!ls "
      ],
      "execution_count": null,
      "outputs": [
        {
          "output_type": "stream",
          "text": [
            "Downloading...\n",
            "From: https://drive.google.com/uc?id=1aQZ9sY4MD_Z9QTcJCO7gdkD6Jwcixy6k&export=download\n",
            "To: /content/data.zip\n",
            "372MB [00:06, 58.8MB/s]\n",
            "Archive:  data.zip\n",
            "   creating: timit_11/\n",
            "  inflating: timit_11/train_11.npy   \n",
            "  inflating: timit_11/test_11.npy    \n",
            "  inflating: timit_11/train_label_11.npy  \n",
            "data.zip  sample_data  timit_11\n"
          ],
          "name": "stdout"
        }
      ]
    },
    {
      "cell_type": "markdown",
      "metadata": {
        "id": "-9OfMTdTzK6G"
      },
      "source": [
        "## Load np. file"
      ]
    },
    {
      "cell_type": "code",
      "metadata": {
        "id": "Dx2_pPaXzC1W",
        "colab": {
          "base_uri": "https://localhost:8080/"
        },
        "outputId": "0ea6bb6f-501a-4137-e621-62a03e972df9"
      },
      "source": [
        "import numpy as np\n",
        "\n",
        "print('Loading data ...')\n",
        "\n",
        "data_root='./timit_11/'\n",
        "train = np.load(data_root + 'train_11.npy')\n",
        "train_label = np.load(data_root + 'train_label_11.npy')\n",
        "test = np.load(data_root + 'test_11.npy')\n",
        "\n",
        "print('Size of training data: {}'.format(train.shape))\n",
        "print('Size of testing data: {}'.format(test.shape))"
      ],
      "execution_count": null,
      "outputs": [
        {
          "output_type": "stream",
          "text": [
            "Loading data ...\n",
            "Size of training data: (1229932, 429)\n",
            "Size of testing data: (451552, 429)\n"
          ],
          "name": "stdout"
        }
      ]
    },
    {
      "cell_type": "markdown",
      "metadata": {
        "id": "7JYBblNaznY7"
      },
      "source": [
        "## prepare Dataset"
      ]
    },
    {
      "cell_type": "code",
      "metadata": {
        "id": "Z9b9AfHEzF5r"
      },
      "source": [
        "import torch\n",
        "from torch.utils.data import Dataset\n",
        "\n",
        "class TIMITDataset(Dataset):\n",
        "    def __init__(self, X, y=None):\n",
        "        self.data = torch.from_numpy(X).float()\n",
        "        if y is not None:\n",
        "            y = y.astype(np.int)\n",
        "            self.label = torch.LongTensor(y)\n",
        "        else:\n",
        "            self.label = None\n",
        "\n",
        "    def __getitem__(self, idx):\n",
        "        if self.label is not None:\n",
        "            return self.data[idx], self.label[idx]\n",
        "        else:\n",
        "            return self.data[idx]\n",
        "\n",
        "    def __len__(self):\n",
        "        return len(self.data)"
      ],
      "execution_count": null,
      "outputs": []
    },
    {
      "cell_type": "markdown",
      "metadata": {
        "id": "z-zHCj0_z3lz"
      },
      "source": [
        "##`VAL_RATIO`"
      ]
    },
    {
      "cell_type": "code",
      "metadata": {
        "id": "SGGVRyiPzv24",
        "colab": {
          "base_uri": "https://localhost:8080/"
        },
        "outputId": "7b12089f-9802-46c6-8abb-40096e295b0a"
      },
      "source": [
        "VAL_RATIO = 0.015\n",
        "\n",
        "percent = int(train.shape[0] * (1 - VAL_RATIO))\n",
        "train_x, train_y, val_x, val_y = train[:percent], train_label[:percent], train[percent:], train_label[percent:]\n",
        "print('Size of training set: {}'.format(train_x.shape))\n",
        "print('Size of validation set: {}'.format(val_x.shape))"
      ],
      "execution_count": null,
      "outputs": [
        {
          "output_type": "stream",
          "text": [
            "Size of training set: (1217632, 429)\n",
            "Size of validation set: (12300, 429)\n"
          ],
          "name": "stdout"
        }
      ]
    },
    {
      "cell_type": "markdown",
      "metadata": {
        "id": "UUfVYXONz5gd"
      },
      "source": [
        "##`BATCH_SIZE`"
      ]
    },
    {
      "cell_type": "code",
      "metadata": {
        "id": "5BrOx1pgz8jC"
      },
      "source": [
        "BATCH_SIZE = 32\n",
        "\n",
        "from torch.utils.data import DataLoader\n",
        "\n",
        "train_set = TIMITDataset(train_x, train_y)\n",
        "val_set = TIMITDataset(val_x, val_y)\n",
        "train_loader = DataLoader(train_set, batch_size=BATCH_SIZE, shuffle=True) #only shuffle the training data\n",
        "val_loader = DataLoader(val_set, batch_size=BATCH_SIZE, shuffle=False)"
      ],
      "execution_count": null,
      "outputs": []
    },
    {
      "cell_type": "markdown",
      "metadata": {
        "id": "LI5y1ag50LG2"
      },
      "source": [
        "##cleanup memory"
      ]
    },
    {
      "cell_type": "code",
      "metadata": {
        "id": "D3Zuz1CM0Kk3",
        "colab": {
          "base_uri": "https://localhost:8080/"
        },
        "outputId": "980548fc-2774-421d-8f9f-731a36d69513"
      },
      "source": [
        "import gc\n",
        "\n",
        "del train, train_label, train_x, train_y, val_x, val_y\n",
        "gc.collect()"
      ],
      "execution_count": null,
      "outputs": [
        {
          "output_type": "execute_result",
          "data": {
            "text/plain": [
              "153"
            ]
          },
          "metadata": {
            "tags": []
          },
          "execution_count": 6
        }
      ]
    },
    {
      "cell_type": "markdown",
      "metadata": {
        "id": "HLUE50nL0TaU"
      },
      "source": [
        "# Model"
      ]
    },
    {
      "cell_type": "code",
      "metadata": {
        "id": "eRUdieCg0c5X"
      },
      "source": [
        "import torch\n",
        "import torch.nn as nn\n",
        "\n",
        "class Classifier(nn.Module):\n",
        "    def __init__(self):\n",
        "        super(Classifier, self).__init__()\n",
        "        self.layer1 = nn.Linear(429, 2048)\n",
        "        self.layer2 = nn.Linear(2048, 1024)\n",
        "        self.layer3 = nn.Linear(1024, 512)\n",
        "        self.layer4 = nn.Linear(512, 256)\n",
        "        self.layer5 = nn.Linear(256, 128)\n",
        "        self.out = nn.Linear(128, 39)\n",
        "        self.drop = nn.Dropout(0.25)\n",
        "\n",
        "        self.bn1 = nn.BatchNorm1d(2048)\n",
        "        self.bn2 = nn.BatchNorm1d(1024)\n",
        "        self.bn3 = nn.BatchNorm1d(512)\n",
        "        self.bn4 = nn.BatchNorm1d(256)\n",
        "        self.bn5 = nn.BatchNorm1d(128)\n",
        "\n",
        "        self.act_fn = nn.SELU()\n",
        "\n",
        "    def forward(self, x):\n",
        "        x = self.layer1(x)\n",
        "        x = self.bn1(x)\n",
        "        x = self.act_fn(x)\n",
        "        x = self.drop(x)\n",
        "\n",
        "        x = self.layer2(x)\n",
        "        x = self.bn2(x)\n",
        "        x = self.act_fn(x)\n",
        "        x = self.drop(x)\n",
        "\n",
        "        x = self.layer3(x)\n",
        "        x = self.bn3(x)\n",
        "        x = self.act_fn(x)\n",
        "        x = self.drop(x)\n",
        "\n",
        "        x = self.layer4(x)\n",
        "        x = self.bn4(x)\n",
        "        x = self.act_fn(x)\n",
        "        x = self.drop(x)\n",
        "\n",
        "        x = self.layer5(x)\n",
        "        x = self.bn5(x)\n",
        "        x = self.act_fn(x)\n",
        "        x = self.drop(x)\n",
        "\n",
        "        x = self.out(x)\n",
        "\n",
        "        return x"
      ],
      "execution_count": null,
      "outputs": []
    },
    {
      "cell_type": "markdown",
      "metadata": {
        "id": "8BYdgpck0gay"
      },
      "source": [
        "# Training and Valiating"
      ]
    },
    {
      "cell_type": "code",
      "metadata": {
        "id": "Y2LkZGJI0r0A"
      },
      "source": [
        "#check device\n",
        "def get_device():\n",
        "  return 'cuda' if torch.cuda.is_available() else 'cpu'"
      ],
      "execution_count": null,
      "outputs": []
    },
    {
      "cell_type": "code",
      "metadata": {
        "id": "vKDi8_f640Bu"
      },
      "source": [
        "# fix random seed\n",
        "def same_seeds(seed):\n",
        "    torch.manual_seed(seed)\n",
        "    if torch.cuda.is_available():\n",
        "        torch.cuda.manual_seed(seed)\n",
        "        torch.cuda.manual_seed_all(seed)  \n",
        "    np.random.seed(seed)  \n",
        "    torch.backends.cudnn.benchmark = False\n",
        "    torch.backends.cudnn.deterministic = True"
      ],
      "execution_count": null,
      "outputs": []
    },
    {
      "cell_type": "markdown",
      "metadata": {
        "id": "rAsmxScL00qJ"
      },
      "source": [
        "Config"
      ]
    },
    {
      "cell_type": "code",
      "metadata": {
        "id": "SNUwDRr20u5m",
        "colab": {
          "base_uri": "https://localhost:8080/"
        },
        "outputId": "cba2986c-3c3e-4813-dc1d-6369452e0307"
      },
      "source": [
        "# fix random seed for reproducibility\n",
        "same_seeds(0)\n",
        "\n",
        "# get device \n",
        "device = get_device()\n",
        "print(f'DEVICE: {device}')\n",
        "\n",
        "# training parameters\n",
        "num_epoch = 100               # number of training epoch\n",
        "learning_rate = 0.0001       # learning rate\n",
        "\n",
        "# the path where checkpoint saved\n",
        "model_path = './model.ckpt'\n",
        "\n",
        "# create model, define a loss function, and optimizer\n",
        "model = Classifier().to(device)\n",
        "criterion = nn.CrossEntropyLoss() \n",
        "optimizer = torch.optim.Adamax(model.parameters(), lr=learning_rate)#, weight_decay=0.0001)"
      ],
      "execution_count": null,
      "outputs": [
        {
          "output_type": "stream",
          "text": [
            "DEVICE: cuda\n"
          ],
          "name": "stdout"
        }
      ]
    },
    {
      "cell_type": "markdown",
      "metadata": {
        "id": "hb3KjSMD09nW"
      },
      "source": [
        "##start training"
      ]
    },
    {
      "cell_type": "code",
      "metadata": {
        "id": "stgc4_Jc1APe",
        "colab": {
          "base_uri": "https://localhost:8080/"
        },
        "outputId": "131f4384-b642-4e13-fd34-13edb4eec83f"
      },
      "source": [
        "# start training\n",
        "\n",
        "best_acc = 0.0\n",
        "for epoch in range(num_epoch):\n",
        "    train_acc = 0.0\n",
        "    train_loss = 0.0\n",
        "    val_acc = 0.0\n",
        "    val_loss = 0.0\n",
        "\n",
        "    # training\n",
        "    model.train() # set the model to training mode\n",
        "    for i, data in enumerate(train_loader):\n",
        "        inputs, labels = data\n",
        "        inputs, labels = inputs.to(device), labels.to(device)\n",
        "        optimizer.zero_grad() \n",
        "        outputs = model(inputs) \n",
        "        batch_loss = criterion(outputs, labels)\n",
        "        _, train_pred = torch.max(outputs, 1) # get the index of the class with the highest probability\n",
        "        batch_loss.backward() \n",
        "        optimizer.step() \n",
        "\n",
        "        train_acc += (train_pred.cpu() == labels.cpu()).sum().item()\n",
        "        train_loss += batch_loss.item()\n",
        "\n",
        "    # validation\n",
        "    if len(val_set) > 0:\n",
        "        model.eval() # set the model to evaluation mode\n",
        "        with torch.no_grad():\n",
        "            for i, data in enumerate(val_loader):\n",
        "                inputs, labels = data\n",
        "                inputs, labels = inputs.to(device), labels.to(device)\n",
        "                outputs = model(inputs)\n",
        "                batch_loss = criterion(outputs, labels) \n",
        "                _, val_pred = torch.max(outputs, 1) \n",
        "            \n",
        "                val_acc += (val_pred.cpu() == labels.cpu()).sum().item() # get the index of the class with the highest probability\n",
        "                val_loss += batch_loss.item()\n",
        "\n",
        "            print('[{:03d}/{:03d}] Train Acc: {:3.6f} Loss: {:3.6f} | Val Acc: {:3.6f} loss: {:3.6f}'.format(\n",
        "                epoch + 1, num_epoch, train_acc/len(train_set), train_loss/len(train_loader), val_acc/len(val_set), val_loss/len(val_loader)\n",
        "            ))\n",
        "\n",
        "            # if the model improves, save a checkpoint at this epoch\n",
        "            if val_acc > best_acc:\n",
        "                best_acc = val_acc\n",
        "                torch.save(model.state_dict(), model_path)\n",
        "                print('saving model with acc {:.3f}'.format(best_acc/len(val_set)))\n",
        "    else:\n",
        "        print('[{:03d}/{:03d}] Train Acc: {:3.6f} Loss: {:3.6f}'.format(\n",
        "            epoch + 1, num_epoch, train_acc/len(train_set), train_loss/len(train_loader)\n",
        "        ))\n",
        "\n",
        "# if not validating, save the last epoch\n",
        "if len(val_set) == 0:\n",
        "    torch.save(model.state_dict(), model_path)\n",
        "    print('saving model at last epoch')"
      ],
      "execution_count": null,
      "outputs": [
        {
          "output_type": "stream",
          "text": [
            "[001/100] Train Acc: 0.508556 Loss: 1.686300 | Val Acc: 0.620407 loss: 1.260968\n",
            "saving model with acc 0.620\n",
            "[002/100] Train Acc: 0.568334 Loss: 1.433458 | Val Acc: 0.648049 loss: 1.156321\n",
            "saving model with acc 0.648\n",
            "[003/100] Train Acc: 0.589997 Loss: 1.348169 | Val Acc: 0.659431 loss: 1.105294\n",
            "saving model with acc 0.659\n",
            "[004/100] Train Acc: 0.603954 Loss: 1.296101 | Val Acc: 0.662033 loss: 1.084895\n",
            "saving model with acc 0.662\n",
            "[005/100] Train Acc: 0.614117 Loss: 1.259443 | Val Acc: 0.663740 loss: 1.069692\n",
            "saving model with acc 0.664\n",
            "[006/100] Train Acc: 0.621722 Loss: 1.230991 | Val Acc: 0.669350 loss: 1.041534\n",
            "saving model with acc 0.669\n",
            "[007/100] Train Acc: 0.627967 Loss: 1.208690 | Val Acc: 0.682195 loss: 1.018143\n",
            "saving model with acc 0.682\n",
            "[008/100] Train Acc: 0.633044 Loss: 1.189239 | Val Acc: 0.677317 loss: 1.010307\n",
            "[009/100] Train Acc: 0.637861 Loss: 1.170773 | Val Acc: 0.683577 loss: 0.993922\n",
            "saving model with acc 0.684\n",
            "[010/100] Train Acc: 0.642624 Loss: 1.154835 | Val Acc: 0.684715 loss: 0.992105\n",
            "saving model with acc 0.685\n",
            "[011/100] Train Acc: 0.646709 Loss: 1.139811 | Val Acc: 0.691057 loss: 0.969836\n",
            "saving model with acc 0.691\n",
            "[012/100] Train Acc: 0.650266 Loss: 1.127461 | Val Acc: 0.689431 loss: 0.956426\n",
            "[013/100] Train Acc: 0.653553 Loss: 1.115319 | Val Acc: 0.693171 loss: 0.965469\n",
            "saving model with acc 0.693\n",
            "[014/100] Train Acc: 0.656659 Loss: 1.104334 | Val Acc: 0.696016 loss: 0.936863\n",
            "saving model with acc 0.696\n",
            "[015/100] Train Acc: 0.659272 Loss: 1.093978 | Val Acc: 0.696098 loss: 0.939659\n",
            "saving model with acc 0.696\n",
            "[016/100] Train Acc: 0.661494 Loss: 1.085229 | Val Acc: 0.691057 loss: 0.949013\n",
            "[017/100] Train Acc: 0.664570 Loss: 1.074835 | Val Acc: 0.696667 loss: 0.942413\n",
            "saving model with acc 0.697\n",
            "[018/100] Train Acc: 0.666782 Loss: 1.066055 | Val Acc: 0.697805 loss: 0.929736\n",
            "saving model with acc 0.698\n",
            "[019/100] Train Acc: 0.668998 Loss: 1.059228 | Val Acc: 0.706992 loss: 0.914804\n",
            "saving model with acc 0.707\n",
            "[020/100] Train Acc: 0.671779 Loss: 1.049959 | Val Acc: 0.707480 loss: 0.911469\n",
            "saving model with acc 0.707\n",
            "[021/100] Train Acc: 0.672635 Loss: 1.043006 | Val Acc: 0.702602 loss: 0.914175\n",
            "[022/100] Train Acc: 0.675150 Loss: 1.035714 | Val Acc: 0.705854 loss: 0.916251\n",
            "[023/100] Train Acc: 0.677172 Loss: 1.028799 | Val Acc: 0.711789 loss: 0.898574\n",
            "saving model with acc 0.712\n",
            "[024/100] Train Acc: 0.679374 Loss: 1.021708 | Val Acc: 0.704228 loss: 0.903017\n",
            "[025/100] Train Acc: 0.680667 Loss: 1.016534 | Val Acc: 0.710163 loss: 0.892002\n",
            "[026/100] Train Acc: 0.682191 Loss: 1.010703 | Val Acc: 0.710976 loss: 0.891965\n",
            "[027/100] Train Acc: 0.684231 Loss: 1.003422 | Val Acc: 0.713171 loss: 0.882675\n",
            "saving model with acc 0.713\n",
            "[028/100] Train Acc: 0.685900 Loss: 0.998240 | Val Acc: 0.713740 loss: 0.882052\n",
            "saving model with acc 0.714\n",
            "[029/100] Train Acc: 0.687013 Loss: 0.992732 | Val Acc: 0.712358 loss: 0.888127\n",
            "[030/100] Train Acc: 0.688166 Loss: 0.987941 | Val Acc: 0.705854 loss: 0.888753\n",
            "[031/100] Train Acc: 0.690215 Loss: 0.982696 | Val Acc: 0.712439 loss: 0.880535\n",
            "[032/100] Train Acc: 0.691380 Loss: 0.977329 | Val Acc: 0.710732 loss: 0.881551\n",
            "[033/100] Train Acc: 0.692335 Loss: 0.974257 | Val Acc: 0.712846 loss: 0.874774\n",
            "[034/100] Train Acc: 0.694702 Loss: 0.967542 | Val Acc: 0.716748 loss: 0.872643\n",
            "saving model with acc 0.717\n",
            "[035/100] Train Acc: 0.695189 Loss: 0.963761 | Val Acc: 0.714797 loss: 0.877595\n",
            "[036/100] Train Acc: 0.696156 Loss: 0.960811 | Val Acc: 0.717236 loss: 0.854831\n",
            "saving model with acc 0.717\n",
            "[037/100] Train Acc: 0.697683 Loss: 0.955980 | Val Acc: 0.717398 loss: 0.859120\n",
            "saving model with acc 0.717\n",
            "[038/100] Train Acc: 0.698726 Loss: 0.951688 | Val Acc: 0.719187 loss: 0.862755\n",
            "saving model with acc 0.719\n",
            "[039/100] Train Acc: 0.700068 Loss: 0.945583 | Val Acc: 0.718211 loss: 0.857234\n",
            "[040/100] Train Acc: 0.701203 Loss: 0.942609 | Val Acc: 0.722358 loss: 0.846934\n",
            "saving model with acc 0.722\n",
            "[041/100] Train Acc: 0.701751 Loss: 0.940284 | Val Acc: 0.714715 loss: 0.857067\n",
            "[042/100] Train Acc: 0.702319 Loss: 0.936459 | Val Acc: 0.716260 loss: 0.863192\n",
            "[043/100] Train Acc: 0.703875 Loss: 0.931341 | Val Acc: 0.725935 loss: 0.845376\n",
            "saving model with acc 0.726\n",
            "[044/100] Train Acc: 0.704898 Loss: 0.928391 | Val Acc: 0.723740 loss: 0.846071\n",
            "[045/100] Train Acc: 0.705978 Loss: 0.925427 | Val Acc: 0.722358 loss: 0.845924\n",
            "[046/100] Train Acc: 0.706741 Loss: 0.921401 | Val Acc: 0.726829 loss: 0.840066\n",
            "saving model with acc 0.727\n"
          ],
          "name": "stdout"
        }
      ]
    },
    {
      "cell_type": "markdown",
      "metadata": {
        "id": "Ft3KiA2Y1EeY"
      },
      "source": [
        "#Testing"
      ]
    },
    {
      "cell_type": "code",
      "metadata": {
        "id": "_uv0bDZI1F54"
      },
      "source": [
        "# create testing dataset\n",
        "test_set = TIMITDataset(test, None)\n",
        "test_loader = DataLoader(test_set, batch_size=BATCH_SIZE, shuffle=False)\n",
        "\n",
        "# create model and load weights from checkpoint\n",
        "model = Classifier().to(device)\n",
        "model.load_state_dict(torch.load(model_path))"
      ],
      "execution_count": null,
      "outputs": []
    },
    {
      "cell_type": "code",
      "metadata": {
        "id": "Qcn7tmLa1Hno"
      },
      "source": [
        "predict = []\n",
        "model.eval() # set the model to evaluation mode\n",
        "with torch.no_grad():\n",
        "    for i, data in enumerate(test_loader):\n",
        "        inputs = data\n",
        "        inputs = inputs.to(device)\n",
        "        outputs = model(inputs)\n",
        "        _, test_pred = torch.max(outputs, 1) # get the index of the class with the highest probability\n",
        "\n",
        "        for y in test_pred.cpu().numpy():\n",
        "            predict.append(y)"
      ],
      "execution_count": null,
      "outputs": []
    },
    {
      "cell_type": "code",
      "metadata": {
        "id": "_2iP9apD1KxY"
      },
      "source": [
        "with open('prediction.csv', 'w') as f:\n",
        "    f.write('Id,Class\\n')\n",
        "    for i, y in enumerate(predict):\n",
        "        f.write('{},{}\\n'.format(i, y))"
      ],
      "execution_count": null,
      "outputs": []
    }
  ]
}