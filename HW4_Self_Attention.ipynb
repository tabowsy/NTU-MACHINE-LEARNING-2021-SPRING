{
 "cells": [
  {
   "cell_type": "markdown",
   "metadata": {
    "slideshow": {
     "slide_type": "-"
    }
   },
   "source": [
    "# Data"
   ]
  },
  {
   "cell_type": "code",
   "execution_count": 9,
   "metadata": {},
   "outputs": [],
   "source": [
    "import os\n",
    "import json\n",
    "import torch\n",
    "import random\n",
    "from pathlib import Path\n",
    "from torch.utils.data import Dataset\n",
    "from torch.nn.utils.rnn import pad_sequence\n",
    "\n",
    "class myDataset(Dataset):\n",
    "  def __init__(self, data_dir, segment_len=128):\n",
    "    self.data_dir = data_dir\n",
    "    self.segment_len = segment_len\n",
    " \n",
    "    # Load the mapping from speaker neme to their corresponding id. \n",
    "    mapping_path = Path(data_dir) / \"mapping.json\"\n",
    "    mapping = json.load(mapping_path.open())\n",
    "    self.speaker2id = mapping[\"speaker2id\"]\n",
    " \n",
    "    # Load metadata of training data.\n",
    "    metadata_path = Path(data_dir) / \"metadata.json\"\n",
    "    metadata = json.load(open(metadata_path))[\"speakers\"]\n",
    " \n",
    "    # Get the total number of speaker.\n",
    "    self.speaker_num = len(metadata.keys())\n",
    "    self.data = []\n",
    "    for speaker in metadata.keys():\n",
    "      for utterances in metadata[speaker]:\n",
    "        self.data.append([utterances[\"feature_path\"], self.speaker2id[speaker]])\n",
    " \n",
    "  def __len__(self):\n",
    "    return len(self.data)\n",
    " \n",
    "  def __getitem__(self, index):\n",
    "    feat_path, speaker = self.data[index]\n",
    "    # Load preprocessed mel-spectrogram.\n",
    "    mel = torch.load(os.path.join(self.data_dir, feat_path))\n",
    " \n",
    "    # Segmemt mel-spectrogram into \"segment_len\" frames.\n",
    "    if len(mel) > self.segment_len:\n",
    "      # Randomly get the starting point of the segment.\n",
    "      start = random.randint(0, len(mel) - self.segment_len)\n",
    "      # Get a segment with \"segment_len\" frames.\n",
    "      mel = torch.FloatTensor(mel[start:start+self.segment_len])\n",
    "    else:\n",
    "      mel = torch.FloatTensor(mel)\n",
    "    # Turn the speaker id into long for computing loss later.\n",
    "    speaker = torch.FloatTensor([speaker]).long()\n",
    "    return mel, speaker\n",
    " \n",
    "  def get_speaker_number(self):\n",
    "    return self.speaker_num"
   ]
  },
  {
   "cell_type": "code",
   "execution_count": 10,
   "metadata": {},
   "outputs": [],
   "source": [
    "import torch\n",
    "from torch.utils.data import DataLoader, random_split\n",
    "from torch.nn.utils.rnn import pad_sequence\n",
    "\n",
    "\n",
    "def collate_batch(batch):\n",
    "  # Process features within a batch.\n",
    "  \"\"\"Collate a batch of data.\"\"\"\n",
    "  mel, speaker = zip(*batch)\n",
    "  # Because we train the model batch by batch, we need to pad the features in the same batch to make their lengths the same.\n",
    "  mel = pad_sequence(mel, batch_first=True, padding_value=-20)    # pad log 10^(-20) which is very small value.\n",
    "  # mel: (batch size, length, 40)\n",
    "  return mel, torch.FloatTensor(speaker).long()\n",
    "\n",
    "\n",
    "def get_dataloader(data_dir, batch_size, n_workers):\n",
    "  \"\"\"Generate dataloader\"\"\"\n",
    "  dataset = myDataset(data_dir)\n",
    "  speaker_num = dataset.get_speaker_number()\n",
    "  # Split dataset into training dataset and validation dataset\n",
    "  trainlen = int(0.9 * len(dataset))\n",
    "  lengths = [trainlen, len(dataset) - trainlen]\n",
    "  trainset, validset = random_split(dataset, lengths)\n",
    "\n",
    "  train_loader = DataLoader(\n",
    "    trainset,\n",
    "    batch_size=batch_size,\n",
    "    shuffle=True,\n",
    "    drop_last=True,\n",
    "    num_workers=n_workers,\n",
    "    pin_memory=True,\n",
    "    collate_fn=collate_batch,\n",
    "  )\n",
    "  valid_loader = DataLoader(\n",
    "    validset,\n",
    "    batch_size=batch_size,\n",
    "    num_workers=n_workers,\n",
    "    drop_last=True,\n",
    "    pin_memory=True,\n",
    "    collate_fn=collate_batch,\n",
    "  )\n",
    "\n",
    "  return train_loader, valid_loader, speaker_num"
   ]
  },
  {
   "cell_type": "markdown",
   "metadata": {},
   "source": [
    "# Model"
   ]
  },
  {
   "cell_type": "code",
   "execution_count": 11,
   "metadata": {},
   "outputs": [],
   "source": [
    "import torch\n",
    "import torch.nn as nn\n",
    "import torch.nn.functional as F\n",
    "from conformer import ConformerBlock\n",
    "\n",
    "\n",
    "class Classifier(nn.Module):\n",
    "  def __init__(self, d_model=110, n_spks=600, dropout=0.1):\n",
    "    super().__init__()\n",
    "    # Project the dimension of features from that of input into d_model.\n",
    "    self.prenet = nn.Linear(40, d_model)\n",
    "\n",
    "    self.encoder_layer = nn.TransformerEncoderLayer(\n",
    "      d_model=d_model, dim_feedforward=256, nhead=2\n",
    "    )\n",
    "    self.encoder = nn.TransformerEncoder(self.encoder_layer, num_layers=4)\n",
    "  \n",
    "\n",
    "    self.block = ConformerBlock(\n",
    "        dim = d_model,\n",
    "        dim_head = 256,\n",
    "        heads = 2,\n",
    "        ff_mult = 4,\n",
    "        conv_expansion_factor = 2,\n",
    "        conv_kernel_size = 31,\n",
    "        attn_dropout = 0.3,\n",
    "        ff_dropout = 0.3,\n",
    "        conv_dropout = 0.3\n",
    "    )\n",
    "\n",
    "    # Project the the dimension of features from d_model into speaker nums.\n",
    "    self.pred_layer = nn.Sequential(\n",
    "      nn.Linear(d_model, d_model),\n",
    "      nn.ReLU(),\n",
    "      nn.Linear(d_model, n_spks),\n",
    "    )\n",
    "\n",
    "  def forward(self, mels):\n",
    "    \"\"\"\n",
    "    args:\n",
    "      mels: (batch size, length, 40)\n",
    "    return:\n",
    "      out: (batch size, n_spks)\n",
    "    \"\"\"\n",
    "    # out: (batch size, length, d_model)\n",
    "    out = self.prenet(mels)\n",
    "    # out: (length, batch size, d_model)\n",
    "    out = out.permute(1, 0, 2)\n",
    "    # The encoder layer expect features in the shape of (length, batch size, d_model).\n",
    "    out = self.encoder(out)\n",
    "    #out = self.block(out)\n",
    "    # out: (batch size, length, d_model)\n",
    "    out = out.transpose(0, 1)\n",
    "    # mean pooling\n",
    "    stats = out.mean(dim=1)\n",
    "\n",
    "    # out: (batch, n_spks)\n",
    "    out = self.pred_layer(stats)\n",
    "    return out"
   ]
  },
  {
   "cell_type": "code",
   "execution_count": 12,
   "metadata": {},
   "outputs": [],
   "source": [
    "import torch\n",
    "from torch.utils.data import DataLoader, random_split\n",
    "from torch.nn.utils.rnn import pad_sequence\n",
    "\n",
    "\n",
    "def collate_batch(batch):\n",
    "  # Process features within a batch.\n",
    "  \"\"\"Collate a batch of data.\"\"\"\n",
    "  mel, speaker = zip(*batch)\n",
    "  # Because we train the model batch by batch, we need to pad the features in the same batch to make their lengths the same.\n",
    "  mel = pad_sequence(mel, batch_first=True, padding_value=-20)    # pad log 10^(-20) which is very small value.\n",
    "  # mel: (batch size, length, 40)\n",
    "  return mel, torch.FloatTensor(speaker).long()\n",
    "\n",
    "\n",
    "def get_dataloader(data_dir, batch_size, n_workers):\n",
    "  \"\"\"Generate dataloader\"\"\"\n",
    "  dataset = myDataset(data_dir)\n",
    "  speaker_num = dataset.get_speaker_number()\n",
    "  # Split dataset into training dataset and validation dataset\n",
    "  trainlen = int(0.9 * len(dataset))\n",
    "  lengths = [trainlen, len(dataset) - trainlen]\n",
    "  trainset, validset = random_split(dataset, lengths)\n",
    "\n",
    "  train_loader = DataLoader(\n",
    "    trainset,\n",
    "    batch_size=batch_size,\n",
    "    shuffle=True,\n",
    "    drop_last=True,\n",
    "    num_workers=n_workers,\n",
    "    pin_memory=True,\n",
    "    collate_fn=collate_batch,\n",
    "  )\n",
    "  valid_loader = DataLoader(\n",
    "    validset,\n",
    "    batch_size=batch_size,\n",
    "    num_workers=n_workers,\n",
    "    drop_last=True,\n",
    "    pin_memory=True,\n",
    "    collate_fn=collate_batch,\n",
    "  )\n",
    "\n",
    "  return train_loader, valid_loader, speaker_num"
   ]
  },
  {
   "cell_type": "markdown",
   "metadata": {},
   "source": [
    "# schedule lr"
   ]
  },
  {
   "cell_type": "code",
   "execution_count": 13,
   "metadata": {},
   "outputs": [],
   "source": [
    "import math\n",
    "\n",
    "import torch\n",
    "from torch.optim import Optimizer\n",
    "from torch.optim.lr_scheduler import LambdaLR\n",
    "\n",
    "\n",
    "def get_cosine_schedule_with_warmup(\n",
    "  optimizer: Optimizer,\n",
    "  num_warmup_steps: int,\n",
    "  num_training_steps: int,\n",
    "  num_cycles: float = 0.5,\n",
    "  last_epoch: int = -1,\n",
    "):\n",
    "  \"\"\"\n",
    "  Create a schedule with a learning rate that decreases following the values of the cosine function between the\n",
    "  initial lr set in the optimizer to 0, after a warmup period during which it increases linearly between 0 and the\n",
    "  initial lr set in the optimizer.\n",
    "\n",
    "  Args:\n",
    "    optimizer (:class:`~torch.optim.Optimizer`):\n",
    "      The optimizer for which to schedule the learning rate.\n",
    "    num_warmup_steps (:obj:`int`):\n",
    "      The number of steps for the warmup phase.\n",
    "    num_training_steps (:obj:`int`):\n",
    "      The total number of training steps.\n",
    "    num_cycles (:obj:`float`, `optional`, defaults to 0.5):\n",
    "      The number of waves in the cosine schedule (the defaults is to just decrease from the max value to 0\n",
    "      following a half-cosine).\n",
    "    last_epoch (:obj:`int`, `optional`, defaults to -1):\n",
    "      The index of the last epoch when resuming training.\n",
    "\n",
    "  Return:\n",
    "    :obj:`torch.optim.lr_scheduler.LambdaLR` with the appropriate schedule.\n",
    "  \"\"\"\n",
    "\n",
    "  def lr_lambda(current_step):\n",
    "    # Warmup\n",
    "    if current_step < num_warmup_steps:\n",
    "      return float(current_step) / float(max(1, num_warmup_steps))\n",
    "    # decadence\n",
    "    progress = float(current_step - num_warmup_steps) / float(\n",
    "      max(1, num_training_steps - num_warmup_steps)\n",
    "    )\n",
    "    return max(\n",
    "      0.0, 0.5 * (1.0 + math.cos(math.pi * float(num_cycles) * 2.0 * progress))\n",
    "    )\n",
    "\n",
    "  return LambdaLR(optimizer, lr_lambda, last_epoch)"
   ]
  },
  {
   "cell_type": "markdown",
   "metadata": {},
   "source": [
    "# other"
   ]
  },
  {
   "cell_type": "code",
   "execution_count": 14,
   "metadata": {},
   "outputs": [],
   "source": [
    "import torch\n",
    "\n",
    "\n",
    "def model_fn(batch, model, criterion, device):\n",
    "  \"\"\"Forward a batch through the model.\"\"\"\n",
    "\n",
    "  mels, labels = batch\n",
    "  mels = mels.to(device)\n",
    "  labels = labels.to(device)\n",
    "\n",
    "  outs = model(mels)\n",
    "\n",
    "  loss = criterion(outs, labels)\n",
    "\n",
    "  # Get the speaker id with highest probability.\n",
    "  preds = outs.argmax(1)\n",
    "  # Compute accuracy.\n",
    "  accuracy = torch.mean((preds == labels).float())\n",
    "\n",
    "  return loss, accuracy"
   ]
  },
  {
   "cell_type": "code",
   "execution_count": 15,
   "metadata": {},
   "outputs": [],
   "source": [
    "from tqdm import tqdm\n",
    "import torch\n",
    "\n",
    "\n",
    "def valid(dataloader, model, criterion, device): \n",
    "  \"\"\"Validate on validation set.\"\"\"\n",
    "\n",
    "  model.eval()\n",
    "  running_loss = 0.0\n",
    "  running_accuracy = 0.0\n",
    "  pbar = tqdm(total=len(dataloader.dataset), ncols=0, desc=\"Valid\", unit=\" uttr\")\n",
    "\n",
    "  for i, batch in enumerate(dataloader):\n",
    "    with torch.no_grad():\n",
    "      loss, accuracy = model_fn(batch, model, criterion, device)\n",
    "      running_loss += loss.item()\n",
    "      running_accuracy += accuracy.item()\n",
    "\n",
    "    pbar.update(dataloader.batch_size)\n",
    "    pbar.set_postfix(\n",
    "      loss=f\"{running_loss / (i+1):.2f}\",\n",
    "      accuracy=f\"{running_accuracy / (i+1):.2f}\",\n",
    "    )\n",
    "\n",
    "  pbar.close()\n",
    "  model.train()\n",
    "\n",
    "  return running_accuracy / len(dataloader)"
   ]
  },
  {
   "cell_type": "markdown",
   "metadata": {},
   "source": [
    "# Main()"
   ]
  },
  {
   "cell_type": "code",
   "execution_count": 16,
   "metadata": {
    "scrolled": false
   },
   "outputs": [
    {
     "name": "stdout",
     "output_type": "stream",
     "text": [
      "[Info]: Use cuda now!\n",
      "[Info]: Finish loading data!\n",
      "[Info]: Finish creating model!\n"
     ]
    },
    {
     "name": "stderr",
     "output_type": "stream",
     "text": [
      "Train: 100% 2000/2000 [00:30<00:00, 65.01 step/s, accuracy=0.28, loss=3.90, step=2000]\n",
      "Valid: 100% 6944/6944 [00:01<00:00, 5073.86 uttr/s, accuracy=0.18, loss=3.94]\n",
      "Train: 100% 2000/2000 [00:30<00:00, 65.94 step/s, accuracy=0.25, loss=3.16, step=4000]\n",
      "Valid: 100% 6944/6944 [00:01<00:00, 2604.37 uttr/s, accuracy=0.34, loss=3.01]\n",
      "Train: 100% 2000/2000 [00:30<00:00, 65.97 step/s, accuracy=0.44, loss=2.81, step=6000]\n",
      "Valid: 100% 6944/6944 [00:01<00:00, 5089.62 uttr/s, accuracy=0.44, loss=2.48]\n",
      "Train: 100% 2000/2000 [00:30<00:00, 66.39 step/s, accuracy=0.38, loss=2.39, step=8000]\n",
      "Valid: 100% 6944/6944 [00:01<00:00, 5176.88 uttr/s, accuracy=0.49, loss=2.25]\n",
      "Train: 100% 2000/2000 [00:30<00:00, 67.48 step/s, accuracy=0.56, loss=2.35, step=1e+4]\n",
      "Valid: 100% 6944/6944 [00:01<00:00, 5248.73 uttr/s, accuracy=0.52, loss=2.09]\n",
      "Train:   1% 13/2000 [00:00<00:33, 59.14 step/s, accuracy=0.41, loss=2.31, step=1e+4]"
     ]
    },
    {
     "name": "stdout",
     "output_type": "stream",
     "text": [
      "Step 10000, best model saved. (accuracy=0.5151)\n"
     ]
    },
    {
     "name": "stderr",
     "output_type": "stream",
     "text": [
      "Train: 100% 2000/2000 [00:30<00:00, 66.44 step/s, accuracy=0.53, loss=1.51, step=12000]\n",
      "Valid: 100% 6944/6944 [00:01<00:00, 5278.90 uttr/s, accuracy=0.55, loss=1.95]\n",
      "Train: 100% 2000/2000 [00:30<00:00, 66.00 step/s, accuracy=0.62, loss=1.44, step=14000]\n",
      "Valid: 100% 6944/6944 [00:01<00:00, 5328.76 uttr/s, accuracy=0.58, loss=1.78]\n",
      "Train: 100% 2000/2000 [00:30<00:00, 65.87 step/s, accuracy=0.66, loss=1.52, step=16000]\n",
      "Valid: 100% 6944/6944 [00:01<00:00, 5278.34 uttr/s, accuracy=0.58, loss=1.79]\n",
      "Train: 100% 2000/2000 [00:30<00:00, 66.02 step/s, accuracy=0.72, loss=1.43, step=18000]\n",
      "Valid: 100% 6944/6944 [00:01<00:00, 5172.33 uttr/s, accuracy=0.61, loss=1.64]\n",
      "Train: 100% 2000/2000 [00:30<00:00, 65.84 step/s, accuracy=0.62, loss=1.77, step=2e+4] \n",
      "Valid: 100% 6944/6944 [00:01<00:00, 5031.55 uttr/s, accuracy=0.59, loss=1.76]\n",
      "Train:   1% 13/2000 [00:00<00:33, 59.40 step/s, accuracy=0.59, loss=1.62, step=2e+4]"
     ]
    },
    {
     "name": "stdout",
     "output_type": "stream",
     "text": [
      "Step 20000, best model saved. (accuracy=0.6120)\n"
     ]
    },
    {
     "name": "stderr",
     "output_type": "stream",
     "text": [
      "Train: 100% 2000/2000 [00:30<00:00, 66.20 step/s, accuracy=0.56, loss=1.52, step=22000]\n",
      "Valid: 100% 6944/6944 [00:01<00:00, 5060.47 uttr/s, accuracy=0.62, loss=1.56]\n",
      "Train: 100% 2000/2000 [00:30<00:00, 66.04 step/s, accuracy=0.50, loss=1.47, step=24000]\n",
      "Valid: 100% 6944/6944 [00:01<00:00, 2427.34 uttr/s, accuracy=0.65, loss=1.49]\n",
      "Train: 100% 2000/2000 [00:30<00:00, 66.05 step/s, accuracy=0.62, loss=1.70, step=26000]\n",
      "Valid: 100% 6944/6944 [00:01<00:00, 5320.84 uttr/s, accuracy=0.65, loss=1.49]\n",
      "Train: 100% 2000/2000 [00:30<00:00, 66.19 step/s, accuracy=0.72, loss=1.37, step=28000]\n",
      "Valid: 100% 6944/6944 [00:01<00:00, 5367.41 uttr/s, accuracy=0.66, loss=1.43]\n",
      "Train: 100% 2000/2000 [00:30<00:00, 67.51 step/s, accuracy=0.78, loss=1.00, step=3e+4] \n",
      "Valid: 100% 6944/6944 [00:01<00:00, 5329.26 uttr/s, accuracy=0.68, loss=1.37]\n",
      "Train:   1% 13/2000 [00:00<00:33, 59.71 step/s, accuracy=0.59, loss=1.46, step=3e+4]"
     ]
    },
    {
     "name": "stdout",
     "output_type": "stream",
     "text": [
      "Step 30000, best model saved. (accuracy=0.6816)\n"
     ]
    },
    {
     "name": "stderr",
     "output_type": "stream",
     "text": [
      "Train: 100% 2000/2000 [00:30<00:00, 65.60 step/s, accuracy=0.69, loss=1.24, step=32000]\n",
      "Valid: 100% 6944/6944 [00:01<00:00, 5314.74 uttr/s, accuracy=0.67, loss=1.39]\n",
      "Train: 100% 2000/2000 [00:30<00:00, 66.03 step/s, accuracy=0.72, loss=1.43, step=34000]\n",
      "Valid: 100% 6944/6944 [00:01<00:00, 5325.27 uttr/s, accuracy=0.69, loss=1.28]\n",
      "Train: 100% 2000/2000 [00:30<00:00, 66.54 step/s, accuracy=0.81, loss=0.82, step=36000]\n",
      "Valid: 100% 6944/6944 [00:01<00:00, 5284.70 uttr/s, accuracy=0.68, loss=1.33]\n",
      "Train: 100% 2000/2000 [00:30<00:00, 65.86 step/s, accuracy=0.72, loss=1.33, step=38000]\n",
      "Valid: 100% 6944/6944 [00:01<00:00, 5164.56 uttr/s, accuracy=0.69, loss=1.28]\n",
      "Train: 100% 2000/2000 [00:30<00:00, 66.00 step/s, accuracy=0.84, loss=0.61, step=4e+4] \n",
      "Valid: 100% 6944/6944 [00:01<00:00, 5083.20 uttr/s, accuracy=0.69, loss=1.31]\n",
      "Train:   1% 13/2000 [00:00<00:32, 60.59 step/s, accuracy=0.81, loss=0.85, step=4e+4]"
     ]
    },
    {
     "name": "stdout",
     "output_type": "stream",
     "text": [
      "Step 40000, best model saved. (accuracy=0.6938)\n"
     ]
    },
    {
     "name": "stderr",
     "output_type": "stream",
     "text": [
      "Train: 100% 2000/2000 [00:30<00:00, 66.01 step/s, accuracy=0.66, loss=1.50, step=42000]\n",
      "Valid: 100% 6944/6944 [00:01<00:00, 5097.97 uttr/s, accuracy=0.70, loss=1.29]\n",
      "Train: 100% 2000/2000 [00:30<00:00, 66.15 step/s, accuracy=0.78, loss=0.85, step=44000]\n",
      "Valid: 100% 6944/6944 [00:01<00:00, 2580.82 uttr/s, accuracy=0.70, loss=1.25]\n",
      "Train: 100% 2000/2000 [00:29<00:00, 66.70 step/s, accuracy=0.69, loss=1.33, step=46000]\n",
      "Valid: 100% 6944/6944 [00:01<00:00, 5219.18 uttr/s, accuracy=0.69, loss=1.30]\n",
      "Train: 100% 2000/2000 [00:30<00:00, 66.06 step/s, accuracy=0.75, loss=0.88, step=48000]\n",
      "Valid: 100% 6944/6944 [00:01<00:00, 5300.26 uttr/s, accuracy=0.71, loss=1.24]\n",
      "Train: 100% 2000/2000 [00:30<00:00, 66.01 step/s, accuracy=0.72, loss=1.06, step=5e+4] \n",
      "Valid: 100% 6944/6944 [00:01<00:00, 5326.48 uttr/s, accuracy=0.72, loss=1.20]\n",
      "Train:   1% 13/2000 [00:00<00:32, 60.50 step/s, accuracy=0.72, loss=0.93, step=5e+4]"
     ]
    },
    {
     "name": "stdout",
     "output_type": "stream",
     "text": [
      "Step 50000, best model saved. (accuracy=0.7173)\n"
     ]
    },
    {
     "name": "stderr",
     "output_type": "stream",
     "text": [
      "Train: 100% 2000/2000 [00:30<00:00, 69.36 step/s, accuracy=0.75, loss=1.11, step=52000]\n",
      "Valid: 100% 6944/6944 [00:01<00:00, 5265.77 uttr/s, accuracy=0.71, loss=1.23]\n",
      "Train: 100% 2000/2000 [00:30<00:00, 66.12 step/s, accuracy=0.75, loss=0.90, step=54000]\n",
      "Valid: 100% 6944/6944 [00:01<00:00, 5304.90 uttr/s, accuracy=0.71, loss=1.23]\n",
      "Train: 100% 2000/2000 [00:30<00:00, 66.29 step/s, accuracy=0.72, loss=1.08, step=56000]\n",
      "Valid: 100% 6944/6944 [00:01<00:00, 5194.76 uttr/s, accuracy=0.72, loss=1.16]\n",
      "Train: 100% 2000/2000 [00:30<00:00, 66.45 step/s, accuracy=0.75, loss=1.03, step=58000]\n",
      "Valid: 100% 6944/6944 [00:01<00:00, 5157.76 uttr/s, accuracy=0.72, loss=1.18]\n",
      "Train: 100% 2000/2000 [00:30<00:00, 66.14 step/s, accuracy=0.69, loss=0.97, step=6e+4] \n",
      "Valid: 100% 6944/6944 [00:01<00:00, 5165.96 uttr/s, accuracy=0.73, loss=1.13]\n",
      "Train:   1% 12/2000 [00:00<00:35, 55.56 step/s, accuracy=0.84, loss=0.76, step=6e+4]"
     ]
    },
    {
     "name": "stdout",
     "output_type": "stream",
     "text": [
      "Step 60000, best model saved. (accuracy=0.7332)\n"
     ]
    },
    {
     "name": "stderr",
     "output_type": "stream",
     "text": [
      "Train: 100% 2000/2000 [00:29<00:00, 66.68 step/s, accuracy=0.88, loss=0.74, step=62000]\n",
      "Valid: 100% 6944/6944 [00:01<00:00, 5165.53 uttr/s, accuracy=0.73, loss=1.14]\n",
      "Train: 100% 2000/2000 [00:30<00:00, 66.10 step/s, accuracy=0.72, loss=1.14, step=64000]\n",
      "Valid: 100% 6944/6944 [00:01<00:00, 5360.22 uttr/s, accuracy=0.73, loss=1.13]\n",
      "Train: 100% 2000/2000 [00:30<00:00, 66.39 step/s, accuracy=0.81, loss=0.63, step=66000]\n",
      "Valid: 100% 6944/6944 [00:01<00:00, 5257.13 uttr/s, accuracy=0.75, loss=1.06]\n",
      "Train: 100% 2000/2000 [00:30<00:00, 65.91 step/s, accuracy=0.84, loss=0.64, step=68000]\n",
      "Valid: 100% 6944/6944 [00:01<00:00, 5298.08 uttr/s, accuracy=0.73, loss=1.14]\n",
      "Train: 100% 2000/2000 [00:30<00:00, 65.86 step/s, accuracy=0.78, loss=0.93, step=7e+4] \n",
      "Valid: 100% 6944/6944 [00:01<00:00, 5328.20 uttr/s, accuracy=0.75, loss=1.05]\n",
      "Train:   1% 13/2000 [00:00<00:32, 60.84 step/s, accuracy=0.75, loss=0.79, step=7e+4]"
     ]
    },
    {
     "name": "stdout",
     "output_type": "stream",
     "text": [
      "Step 70000, best model saved. (accuracy=0.7512)\n"
     ]
    },
    {
     "name": "stderr",
     "output_type": "stream",
     "text": [
      "Train: 100% 2000/2000 [00:30<00:00, 65.59 step/s, accuracy=0.66, loss=1.23, step=72000]\n",
      "Valid: 100% 6944/6944 [00:01<00:00, 5290.12 uttr/s, accuracy=0.73, loss=1.15]\n",
      "Train: 100% 2000/2000 [00:30<00:00, 66.51 step/s, accuracy=0.84, loss=0.79, step=74000]\n",
      "Valid: 100% 6944/6944 [00:01<00:00, 5109.61 uttr/s, accuracy=0.74, loss=1.09]\n",
      "Train: 100% 2000/2000 [00:30<00:00, 66.55 step/s, accuracy=0.78, loss=1.03, step=76000]\n",
      "Valid: 100% 6944/6944 [00:01<00:00, 5193.77 uttr/s, accuracy=0.75, loss=1.11]\n",
      "Train: 100% 2000/2000 [00:29<00:00, 68.25 step/s, accuracy=0.69, loss=1.07, step=78000]\n",
      "Valid: 100% 6944/6944 [00:01<00:00, 5281.23 uttr/s, accuracy=0.75, loss=1.07]\n",
      "Train: 100% 2000/2000 [00:29<00:00, 67.50 step/s, accuracy=0.72, loss=1.48, step=8e+4] \n",
      "Valid: 100% 6944/6944 [00:01<00:00, 5390.58 uttr/s, accuracy=0.74, loss=1.13]\n",
      "Train:   1% 13/2000 [00:00<00:32, 61.30 step/s, accuracy=0.84, loss=0.54, step=8e+4]"
     ]
    },
    {
     "name": "stdout",
     "output_type": "stream",
     "text": [
      "Step 80000, best model saved. (accuracy=0.7512)\n"
     ]
    },
    {
     "name": "stderr",
     "output_type": "stream",
     "text": [
      "Train: 100% 2000/2000 [00:30<00:00, 66.54 step/s, accuracy=0.81, loss=0.77, step=82000]\n",
      "Valid: 100% 6944/6944 [00:01<00:00, 5383.61 uttr/s, accuracy=0.73, loss=1.10]\n",
      "Train: 100% 2000/2000 [00:29<00:00, 67.38 step/s, accuracy=0.91, loss=0.63, step=84000]\n",
      "Valid: 100% 6944/6944 [00:01<00:00, 5425.41 uttr/s, accuracy=0.76, loss=1.06]\n",
      "Train: 100% 2000/2000 [00:29<00:00, 67.43 step/s, accuracy=0.84, loss=0.73, step=86000]\n",
      "Valid: 100% 6944/6944 [00:01<00:00, 5342.89 uttr/s, accuracy=0.74, loss=1.11]\n",
      "Train: 100% 2000/2000 [00:29<00:00, 67.80 step/s, accuracy=0.91, loss=0.41, step=88000]\n",
      "Valid: 100% 6944/6944 [00:01<00:00, 5419.89 uttr/s, accuracy=0.75, loss=1.06]\n",
      "Train: 100% 2000/2000 [00:29<00:00, 67.64 step/s, accuracy=0.78, loss=0.81, step=9e+4] \n",
      "Valid: 100% 6944/6944 [00:01<00:00, 5249.19 uttr/s, accuracy=0.75, loss=1.09]\n",
      "Train:   1% 13/2000 [00:00<00:32, 60.44 step/s, accuracy=0.81, loss=0.65, step=9e+4]"
     ]
    },
    {
     "name": "stdout",
     "output_type": "stream",
     "text": [
      "Step 90000, best model saved. (accuracy=0.7553)\n"
     ]
    },
    {
     "name": "stderr",
     "output_type": "stream",
     "text": [
      "Train: 100% 2000/2000 [00:29<00:00, 66.99 step/s, accuracy=0.75, loss=0.93, step=92000]\n",
      "Valid: 100% 6944/6944 [00:01<00:00, 5358.10 uttr/s, accuracy=0.74, loss=1.12]\n",
      "Train: 100% 2000/2000 [00:29<00:00, 67.56 step/s, accuracy=0.81, loss=0.78, step=94000]\n",
      "Valid: 100% 6944/6944 [00:01<00:00, 5464.71 uttr/s, accuracy=0.76, loss=1.02]\n",
      "Train: 100% 2000/2000 [00:29<00:00, 67.26 step/s, accuracy=0.78, loss=0.73, step=96000]\n",
      "Valid: 100% 6944/6944 [00:01<00:00, 5407.33 uttr/s, accuracy=0.75, loss=1.06]\n",
      "Train: 100% 2000/2000 [00:29<00:00, 67.25 step/s, accuracy=0.75, loss=1.04, step=98000]\n",
      "Valid: 100% 6944/6944 [00:01<00:00, 5340.78 uttr/s, accuracy=0.75, loss=1.06]\n",
      "Train: 100% 2000/2000 [00:29<00:00, 67.37 step/s, accuracy=0.72, loss=1.13, step=1e+5] \n",
      "Valid: 100% 6944/6944 [00:01<00:00, 5425.68 uttr/s, accuracy=0.74, loss=1.13]\n",
      "Train:   1% 13/2000 [00:00<00:32, 61.88 step/s, accuracy=0.75, loss=0.77, step=1e+5]"
     ]
    },
    {
     "name": "stdout",
     "output_type": "stream",
     "text": [
      "Step 100000, best model saved. (accuracy=0.7596)\n"
     ]
    },
    {
     "name": "stderr",
     "output_type": "stream",
     "text": [
      "Train: 100% 2000/2000 [00:29<00:00, 67.37 step/s, accuracy=0.78, loss=1.05, step=102000]\n",
      "Valid: 100% 6944/6944 [00:01<00:00, 5384.77 uttr/s, accuracy=0.74, loss=1.16]\n",
      "Train: 100% 2000/2000 [00:29<00:00, 67.31 step/s, accuracy=0.72, loss=1.17, step=104000]\n",
      "Valid: 100% 6944/6944 [00:01<00:00, 5329.05 uttr/s, accuracy=0.74, loss=1.16]\n",
      "Train: 100% 2000/2000 [00:29<00:00, 67.73 step/s, accuracy=0.78, loss=0.93, step=106000]\n",
      "Valid: 100% 6944/6944 [00:01<00:00, 5418.11 uttr/s, accuracy=0.76, loss=1.05]\n",
      "Train: 100% 2000/2000 [00:29<00:00, 67.18 step/s, accuracy=0.72, loss=0.83, step=108000]\n",
      "Valid: 100% 6944/6944 [00:01<00:00, 5471.64 uttr/s, accuracy=0.76, loss=1.00]\n",
      "Train: 100% 2000/2000 [00:29<00:00, 67.22 step/s, accuracy=0.81, loss=0.82, step=110000]\n",
      "Valid: 100% 6944/6944 [00:01<00:00, 5299.38 uttr/s, accuracy=0.75, loss=1.10]\n",
      "Train:   1% 13/2000 [00:00<00:32, 61.61 step/s, accuracy=0.81, loss=0.71, step=110013]"
     ]
    },
    {
     "name": "stdout",
     "output_type": "stream",
     "text": [
      "Step 110000, best model saved. (accuracy=0.7622)\n"
     ]
    },
    {
     "name": "stderr",
     "output_type": "stream",
     "text": [
      "Train: 100% 2000/2000 [00:29<00:00, 69.34 step/s, accuracy=0.91, loss=0.33, step=112000]\n",
      "Valid: 100% 6944/6944 [00:01<00:00, 5595.60 uttr/s, accuracy=0.76, loss=1.03]\n",
      "Train: 100% 2000/2000 [00:29<00:00, 68.26 step/s, accuracy=0.84, loss=0.44, step=114000]\n",
      "Valid: 100% 6944/6944 [00:01<00:00, 5494.33 uttr/s, accuracy=0.77, loss=0.96]\n",
      "Train: 100% 2000/2000 [00:29<00:00, 67.41 step/s, accuracy=0.81, loss=0.73, step=116000]\n",
      "Valid: 100% 6944/6944 [00:01<00:00, 5527.22 uttr/s, accuracy=0.77, loss=0.97]\n",
      "Train: 100% 2000/2000 [00:29<00:00, 67.88 step/s, accuracy=0.75, loss=1.01, step=118000]\n",
      "Valid: 100% 6944/6944 [00:01<00:00, 5220.65 uttr/s, accuracy=0.76, loss=1.00]\n",
      "Train: 100% 2000/2000 [00:29<00:00, 67.58 step/s, accuracy=0.69, loss=0.96, step=120000]\n",
      "Valid: 100% 6944/6944 [00:01<00:00, 5432.58 uttr/s, accuracy=0.77, loss=0.97]\n",
      "Train:   1% 14/2000 [00:00<00:31, 62.40 step/s, accuracy=0.88, loss=0.46, step=120014]"
     ]
    },
    {
     "name": "stdout",
     "output_type": "stream",
     "text": [
      "Step 120000, best model saved. (accuracy=0.7733)\n"
     ]
    },
    {
     "name": "stderr",
     "output_type": "stream",
     "text": [
      "Train: 100% 2000/2000 [00:29<00:00, 68.12 step/s, accuracy=0.69, loss=1.08, step=122000]\n",
      "Valid: 100% 6944/6944 [00:01<00:00, 5309.16 uttr/s, accuracy=0.78, loss=0.95]\n",
      "Train: 100% 2000/2000 [00:29<00:00, 67.60 step/s, accuracy=0.88, loss=0.42, step=124000]\n",
      "Valid: 100% 6944/6944 [00:01<00:00, 2085.64 uttr/s, accuracy=0.76, loss=1.04]\n",
      "Train: 100% 2000/2000 [00:29<00:00, 68.72 step/s, accuracy=0.78, loss=0.82, step=126000]\n",
      "Valid: 100% 6944/6944 [00:01<00:00, 5477.62 uttr/s, accuracy=0.76, loss=1.00]\n",
      "Train: 100% 2000/2000 [00:29<00:00, 70.71 step/s, accuracy=0.91, loss=0.62, step=128000]\n",
      "Valid: 100% 6944/6944 [00:01<00:00, 5464.42 uttr/s, accuracy=0.78, loss=0.94]\n",
      "Train: 100% 2000/2000 [00:29<00:00, 68.93 step/s, accuracy=0.75, loss=1.01, step=130000]\n",
      "Valid: 100% 6944/6944 [00:01<00:00, 5563.22 uttr/s, accuracy=0.77, loss=0.98]\n",
      "Train:   1% 14/2000 [00:00<00:31, 63.01 step/s, accuracy=0.78, loss=0.80, step=130014]"
     ]
    },
    {
     "name": "stdout",
     "output_type": "stream",
     "text": [
      "Step 130000, best model saved. (accuracy=0.7785)\n"
     ]
    },
    {
     "name": "stderr",
     "output_type": "stream",
     "text": [
      "Train: 100% 2000/2000 [00:29<00:00, 68.11 step/s, accuracy=0.84, loss=0.90, step=132000]\n",
      "Valid: 100% 6944/6944 [00:01<00:00, 5465.20 uttr/s, accuracy=0.77, loss=1.01]\n",
      "Train: 100% 2000/2000 [00:29<00:00, 69.94 step/s, accuracy=0.78, loss=0.65, step=134000]\n",
      "Valid: 100% 6944/6944 [00:01<00:00, 5423.64 uttr/s, accuracy=0.76, loss=1.04]\n",
      "Train: 100% 2000/2000 [00:29<00:00, 67.20 step/s, accuracy=0.78, loss=0.94, step=136000]\n",
      "Valid: 100% 6944/6944 [00:01<00:00, 5646.30 uttr/s, accuracy=0.77, loss=0.99]\n",
      "Train: 100% 2000/2000 [00:29<00:00, 67.59 step/s, accuracy=0.91, loss=0.34, step=138000]\n",
      "Valid: 100% 6944/6944 [00:01<00:00, 5312.17 uttr/s, accuracy=0.77, loss=0.97]\n",
      "Train: 100% 2000/2000 [00:29<00:00, 71.52 step/s, accuracy=0.91, loss=0.54, step=140000]\n",
      "Valid: 100% 6944/6944 [00:01<00:00, 5610.08 uttr/s, accuracy=0.77, loss=0.97]\n",
      "Train:   1% 13/2000 [00:00<00:33, 59.55 step/s, accuracy=0.88, loss=0.72, step=140013]"
     ]
    },
    {
     "name": "stdout",
     "output_type": "stream",
     "text": [
      "Step 140000, best model saved. (accuracy=0.7785)\n"
     ]
    },
    {
     "name": "stderr",
     "output_type": "stream",
     "text": [
      "Train: 100% 2000/2000 [00:31<00:00, 63.92 step/s, accuracy=0.84, loss=0.76, step=142000]\n",
      "Valid: 100% 6944/6944 [00:01<00:00, 5571.36 uttr/s, accuracy=0.75, loss=1.08]\n",
      "Train: 100% 2000/2000 [00:30<00:00, 66.66 step/s, accuracy=0.84, loss=0.65, step=144000]\n",
      "Valid: 100% 6944/6944 [00:01<00:00, 5437.81 uttr/s, accuracy=0.76, loss=1.00]\n",
      "Train: 100% 2000/2000 [00:29<00:00, 67.36 step/s, accuracy=0.91, loss=0.31, step=146000]\n",
      "Valid: 100% 6944/6944 [00:01<00:00, 5142.41 uttr/s, accuracy=0.76, loss=0.97]\n",
      "Train: 100% 2000/2000 [00:29<00:00, 67.16 step/s, accuracy=0.97, loss=0.35, step=148000]\n",
      "Valid: 100% 6944/6944 [00:01<00:00, 2389.52 uttr/s, accuracy=0.77, loss=0.99]\n",
      "Train: 100% 2000/2000 [00:29<00:00, 70.67 step/s, accuracy=0.72, loss=0.96, step=150000]\n",
      "Valid: 100% 6944/6944 [00:01<00:00, 2103.43 uttr/s, accuracy=0.78, loss=0.96]\n",
      "Train:   1% 14/2000 [00:00<00:31, 62.89 step/s, accuracy=0.88, loss=1.04, step=150014]"
     ]
    },
    {
     "name": "stdout",
     "output_type": "stream",
     "text": [
      "Step 150000, best model saved. (accuracy=0.7795)\n"
     ]
    },
    {
     "name": "stderr",
     "output_type": "stream",
     "text": [
      "Train: 100% 2000/2000 [00:29<00:00, 68.10 step/s, accuracy=0.75, loss=0.67, step=152000]\n",
      "Valid: 100% 6944/6944 [00:01<00:00, 5515.14 uttr/s, accuracy=0.77, loss=0.98]\n",
      "Train: 100% 2000/2000 [00:29<00:00, 68.34 step/s, accuracy=0.69, loss=0.91, step=154000]\n",
      "Valid: 100% 6944/6944 [00:01<00:00, 5555.79 uttr/s, accuracy=0.78, loss=0.92]\n",
      "Train: 100% 2000/2000 [00:29<00:00, 69.88 step/s, accuracy=0.84, loss=0.59, step=156000]\n",
      "Valid: 100% 6944/6944 [00:01<00:00, 5496.95 uttr/s, accuracy=0.78, loss=0.93]\n",
      "Train: 100% 2000/2000 [00:29<00:00, 68.61 step/s, accuracy=0.84, loss=0.75, step=158000]\n",
      "Valid: 100% 6944/6944 [00:01<00:00, 2105.55 uttr/s, accuracy=0.79, loss=0.93]\n",
      "Train: 100% 2000/2000 [00:29<00:00, 68.83 step/s, accuracy=0.75, loss=0.95, step=160000]\n",
      "Valid: 100% 6944/6944 [00:01<00:00, 5546.49 uttr/s, accuracy=0.78, loss=0.92]\n",
      "Train:   1% 13/2000 [00:00<00:32, 61.36 step/s, accuracy=0.81, loss=0.70, step=160013]"
     ]
    },
    {
     "name": "stdout",
     "output_type": "stream",
     "text": [
      "Step 160000, best model saved. (accuracy=0.7866)\n"
     ]
    },
    {
     "name": "stderr",
     "output_type": "stream",
     "text": [
      "Train: 100% 2000/2000 [00:29<00:00, 68.09 step/s, accuracy=0.75, loss=0.69, step=162000]\n",
      "Valid: 100% 6944/6944 [00:01<00:00, 4951.65 uttr/s, accuracy=0.76, loss=0.99]\n",
      "Train: 100% 2000/2000 [00:30<00:00, 64.54 step/s, accuracy=0.97, loss=0.19, step=164000]\n",
      "Valid: 100% 6944/6944 [00:01<00:00, 5415.60 uttr/s, accuracy=0.77, loss=0.96]\n",
      "Train: 100% 2000/2000 [00:29<00:00, 68.54 step/s, accuracy=0.88, loss=0.69, step=166000]\n",
      "Valid: 100% 6944/6944 [00:01<00:00, 5639.52 uttr/s, accuracy=0.78, loss=0.95]\n",
      "Train: 100% 2000/2000 [00:29<00:00, 66.67 step/s, accuracy=0.84, loss=0.64, step=168000]\n",
      "Valid: 100% 6944/6944 [00:01<00:00, 5092.70 uttr/s, accuracy=0.78, loss=0.91]\n",
      "Train: 100% 2000/2000 [00:29<00:00, 68.15 step/s, accuracy=0.88, loss=0.24, step=170000]\n",
      "Valid: 100% 6944/6944 [00:01<00:00, 5561.61 uttr/s, accuracy=0.79, loss=0.90]\n",
      "Train:   1% 14/2000 [00:00<00:31, 63.25 step/s, accuracy=0.78, loss=0.87, step=170014]"
     ]
    },
    {
     "name": "stdout",
     "output_type": "stream",
     "text": [
      "Step 170000, best model saved. (accuracy=0.7887)\n"
     ]
    },
    {
     "name": "stderr",
     "output_type": "stream",
     "text": [
      "Train: 100% 2000/2000 [00:29<00:00, 66.98 step/s, accuracy=0.84, loss=0.56, step=172000]\n",
      "Valid: 100% 6944/6944 [00:01<00:00, 5466.98 uttr/s, accuracy=0.77, loss=0.99]\n",
      "Train: 100% 2000/2000 [00:31<00:00, 64.15 step/s, accuracy=0.84, loss=0.55, step=174000]\n",
      "Valid: 100% 6944/6944 [00:01<00:00, 4730.92 uttr/s, accuracy=0.79, loss=0.92]\n",
      "Train: 100% 2000/2000 [00:30<00:00, 64.53 step/s, accuracy=0.81, loss=0.59, step=176000]\n",
      "Valid: 100% 6944/6944 [00:01<00:00, 5412.60 uttr/s, accuracy=0.79, loss=0.91]\n",
      "Train: 100% 2000/2000 [00:29<00:00, 66.97 step/s, accuracy=0.81, loss=0.71, step=178000]\n",
      "Valid: 100% 6944/6944 [00:01<00:00, 5209.21 uttr/s, accuracy=0.78, loss=0.95]\n",
      "Train: 100% 2000/2000 [00:29<00:00, 69.47 step/s, accuracy=0.84, loss=0.63, step=180000]\n",
      "Valid: 100% 6944/6944 [00:01<00:00, 5254.58 uttr/s, accuracy=0.78, loss=0.94]\n",
      "Train:   1% 14/2000 [00:00<00:31, 63.70 step/s, accuracy=0.97, loss=0.32, step=180014]"
     ]
    },
    {
     "name": "stdout",
     "output_type": "stream",
     "text": [
      "Step 180000, best model saved. (accuracy=0.7918)\n"
     ]
    },
    {
     "name": "stderr",
     "output_type": "stream",
     "text": [
      "Train: 100% 2000/2000 [00:30<00:00, 65.32 step/s, accuracy=0.81, loss=0.83, step=182000]\n",
      "Valid: 100% 6944/6944 [00:01<00:00, 5095.35 uttr/s, accuracy=0.78, loss=0.92]\n",
      "Train: 100% 2000/2000 [00:30<00:00, 60.37 step/s, accuracy=0.84, loss=0.38, step=184000]\n",
      "Valid: 100% 6944/6944 [00:01<00:00, 4802.98 uttr/s, accuracy=0.78, loss=0.94]\n",
      "Train: 100% 2000/2000 [00:31<00:00, 63.51 step/s, accuracy=0.91, loss=0.37, step=186000]\n",
      "Valid: 100% 6944/6944 [00:01<00:00, 5435.32 uttr/s, accuracy=0.79, loss=0.90]\n",
      "Train: 100% 2000/2000 [00:29<00:00, 68.30 step/s, accuracy=0.88, loss=0.38, step=188000]\n",
      "Valid: 100% 6944/6944 [00:01<00:00, 5451.40 uttr/s, accuracy=0.79, loss=0.92]\n",
      "Train: 100% 2000/2000 [00:29<00:00, 67.76 step/s, accuracy=0.69, loss=0.95, step=190000]\n",
      "Valid: 100% 6944/6944 [00:01<00:00, 5450.30 uttr/s, accuracy=0.77, loss=0.97]\n",
      "Train:   1% 13/2000 [00:00<00:31, 62.71 step/s, accuracy=0.81, loss=0.59, step=190013]"
     ]
    },
    {
     "name": "stdout",
     "output_type": "stream",
     "text": [
      "Step 190000, best model saved. (accuracy=0.7918)\n"
     ]
    },
    {
     "name": "stderr",
     "output_type": "stream",
     "text": [
      "Train: 100% 2000/2000 [00:29<00:00, 67.54 step/s, accuracy=0.97, loss=0.18, step=192000]\n",
      "Valid: 100% 6944/6944 [00:01<00:00, 5569.54 uttr/s, accuracy=0.77, loss=0.98]\n",
      "Train: 100% 2000/2000 [00:29<00:00, 67.90 step/s, accuracy=0.78, loss=0.79, step=194000]\n",
      "Valid: 100% 6944/6944 [00:01<00:00, 5222.74 uttr/s, accuracy=0.77, loss=0.97]\n",
      "Train: 100% 2000/2000 [00:29<00:00, 68.04 step/s, accuracy=0.91, loss=0.27, step=196000]\n",
      "Valid: 100% 6944/6944 [00:01<00:00, 5466.02 uttr/s, accuracy=0.79, loss=0.92]\n",
      "Train: 100% 2000/2000 [00:29<00:00, 67.29 step/s, accuracy=0.75, loss=0.91, step=198000]\n",
      "Valid: 100% 6944/6944 [00:01<00:00, 5307.37 uttr/s, accuracy=0.78, loss=0.96]\n",
      "Train: 100% 2000/2000 [00:30<00:00, 66.45 step/s, accuracy=0.75, loss=0.60, step=2e+5]  \n",
      "Valid: 100% 6944/6944 [00:01<00:00, 5365.02 uttr/s, accuracy=0.78, loss=0.93]\n",
      "Train:   1% 12/2000 [00:00<00:36, 55.13 step/s, accuracy=0.78, loss=0.58, step=2e+5]"
     ]
    },
    {
     "name": "stdout",
     "output_type": "stream",
     "text": [
      "Step 200000, best model saved. (accuracy=0.7918)\n"
     ]
    },
    {
     "name": "stderr",
     "output_type": "stream",
     "text": [
      "Train: 100% 2000/2000 [00:29<00:00, 66.83 step/s, accuracy=0.88, loss=0.33, step=202000]\n",
      "Valid: 100% 6944/6944 [00:01<00:00, 5501.11 uttr/s, accuracy=0.79, loss=0.88]\n",
      "Train: 100% 2000/2000 [00:29<00:00, 67.25 step/s, accuracy=0.69, loss=1.29, step=204000]\n",
      "Valid: 100% 6944/6944 [00:01<00:00, 5393.34 uttr/s, accuracy=0.78, loss=0.93]\n",
      "Train: 100% 2000/2000 [00:29<00:00, 68.45 step/s, accuracy=0.91, loss=0.27, step=206000]\n",
      "Valid: 100% 6944/6944 [00:01<00:00, 5195.29 uttr/s, accuracy=0.79, loss=0.90]\n",
      "Train: 100% 2000/2000 [00:29<00:00, 67.60 step/s, accuracy=0.88, loss=0.51, step=208000]\n",
      "Valid: 100% 6944/6944 [00:01<00:00, 5466.92 uttr/s, accuracy=0.79, loss=0.90]\n",
      "Train: 100% 2000/2000 [00:29<00:00, 68.04 step/s, accuracy=0.88, loss=0.91, step=210000]\n",
      "Valid: 100% 6944/6944 [00:01<00:00, 5210.55 uttr/s, accuracy=0.79, loss=0.88]\n",
      "Train:   1% 12/2000 [00:00<00:35, 55.44 step/s, accuracy=0.91, loss=0.19, step=210012]"
     ]
    },
    {
     "name": "stdout",
     "output_type": "stream",
     "text": [
      "Step 210000, best model saved. (accuracy=0.7941)\n"
     ]
    },
    {
     "name": "stderr",
     "output_type": "stream",
     "text": [
      "Train: 100% 2000/2000 [00:29<00:00, 67.55 step/s, accuracy=0.81, loss=0.50, step=212000]\n",
      "Valid: 100% 6944/6944 [00:01<00:00, 5018.83 uttr/s, accuracy=0.78, loss=0.93]\n",
      "Train: 100% 2000/2000 [00:29<00:00, 67.58 step/s, accuracy=0.84, loss=0.51, step=214000]\n",
      "Valid: 100% 6944/6944 [00:01<00:00, 5352.93 uttr/s, accuracy=0.79, loss=0.93]\n",
      "Train: 100% 2000/2000 [00:29<00:00, 68.33 step/s, accuracy=0.69, loss=1.57, step=216000]\n",
      "Valid: 100% 6944/6944 [00:01<00:00, 5456.43 uttr/s, accuracy=0.79, loss=0.92]\n",
      "Train: 100% 2000/2000 [00:29<00:00, 69.19 step/s, accuracy=0.91, loss=0.41, step=218000]\n",
      "Valid: 100% 6944/6944 [00:01<00:00, 4948.34 uttr/s, accuracy=0.79, loss=0.90]\n",
      "Train: 100% 2000/2000 [00:29<00:00, 69.51 step/s, accuracy=0.84, loss=0.82, step=220000]\n",
      "Valid: 100% 6944/6944 [00:01<00:00, 5416.42 uttr/s, accuracy=0.79, loss=0.87]\n",
      "Train:   1% 13/2000 [00:00<00:31, 62.91 step/s, accuracy=0.81, loss=0.64, step=220013]"
     ]
    },
    {
     "name": "stdout",
     "output_type": "stream",
     "text": [
      "Step 220000, best model saved. (accuracy=0.7941)\n"
     ]
    },
    {
     "name": "stderr",
     "output_type": "stream",
     "text": [
      "Train: 100% 2000/2000 [00:29<00:00, 67.76 step/s, accuracy=0.84, loss=0.63, step=222000]\n",
      "Valid: 100% 6944/6944 [00:01<00:00, 5414.73 uttr/s, accuracy=0.78, loss=0.95]\n",
      "Train: 100% 2000/2000 [00:29<00:00, 67.57 step/s, accuracy=0.75, loss=0.94, step=224000]\n",
      "Valid: 100% 6944/6944 [00:01<00:00, 5497.70 uttr/s, accuracy=0.79, loss=0.92]\n",
      "Train: 100% 2000/2000 [00:29<00:00, 67.84 step/s, accuracy=0.84, loss=0.82, step=226000]\n",
      "Valid: 100% 6944/6944 [00:01<00:00, 5362.92 uttr/s, accuracy=0.78, loss=0.95]\n",
      "Train: 100% 2000/2000 [00:29<00:00, 68.48 step/s, accuracy=0.84, loss=0.40, step=228000]\n",
      "Valid: 100% 6944/6944 [00:01<00:00, 5495.78 uttr/s, accuracy=0.80, loss=0.87]\n",
      "Train: 100% 2000/2000 [00:30<00:00, 66.49 step/s, accuracy=0.94, loss=0.29, step=230000]\n",
      "Valid: 100% 6944/6944 [00:01<00:00, 5489.68 uttr/s, accuracy=0.80, loss=0.90]\n",
      "Train:   1% 13/2000 [00:00<00:31, 62.21 step/s, accuracy=0.78, loss=0.65, step=230013]"
     ]
    },
    {
     "name": "stdout",
     "output_type": "stream",
     "text": [
      "Step 230000, best model saved. (accuracy=0.8020)\n"
     ]
    },
    {
     "name": "stderr",
     "output_type": "stream",
     "text": [
      "Train: 100% 2000/2000 [00:29<00:00, 67.19 step/s, accuracy=0.84, loss=0.49, step=232000]\n",
      "Valid: 100% 6944/6944 [00:01<00:00, 5265.93 uttr/s, accuracy=0.78, loss=0.92]\n",
      "Train: 100% 2000/2000 [00:29<00:00, 67.38 step/s, accuracy=0.88, loss=0.35, step=234000]\n",
      "Valid: 100% 6944/6944 [00:01<00:00, 5423.13 uttr/s, accuracy=0.79, loss=0.88]\n",
      "Train: 100% 2000/2000 [00:29<00:00, 68.16 step/s, accuracy=0.81, loss=0.65, step=236000]\n",
      "Valid: 100% 6944/6944 [00:01<00:00, 5562.71 uttr/s, accuracy=0.79, loss=0.90]\n",
      "Train: 100% 2000/2000 [00:29<00:00, 68.27 step/s, accuracy=0.84, loss=0.41, step=238000]\n",
      "Valid: 100% 6944/6944 [00:01<00:00, 4992.47 uttr/s, accuracy=0.79, loss=0.93]\n",
      "Train: 100% 2000/2000 [00:31<00:00, 64.49 step/s, accuracy=0.91, loss=0.48, step=240000]\n",
      "Valid: 100% 6944/6944 [00:01<00:00, 5028.46 uttr/s, accuracy=0.79, loss=0.90]\n",
      "Train:   1% 12/2000 [00:00<00:33, 58.86 step/s, accuracy=0.91, loss=0.30, step=240012]"
     ]
    },
    {
     "name": "stdout",
     "output_type": "stream",
     "text": [
      "Step 240000, best model saved. (accuracy=0.8020)\n"
     ]
    },
    {
     "name": "stderr",
     "output_type": "stream",
     "text": [
      "Train: 100% 2000/2000 [00:30<00:00, 65.57 step/s, accuracy=0.94, loss=0.41, step=242000]\n",
      "Valid: 100% 6944/6944 [00:01<00:00, 5202.27 uttr/s, accuracy=0.79, loss=0.88]\n",
      "Train: 100% 2000/2000 [00:30<00:00, 65.95 step/s, accuracy=0.78, loss=0.67, step=244000]\n",
      "Valid: 100% 6944/6944 [00:01<00:00, 5223.93 uttr/s, accuracy=0.78, loss=0.95]\n",
      "Train: 100% 2000/2000 [00:30<00:00, 65.03 step/s, accuracy=0.78, loss=0.77, step=246000]\n",
      "Valid: 100% 6944/6944 [00:01<00:00, 5277.98 uttr/s, accuracy=0.80, loss=0.89]\n",
      "Train: 100% 2000/2000 [00:29<00:00, 68.32 step/s, accuracy=0.84, loss=0.54, step=248000]\n",
      "Valid: 100% 6944/6944 [00:01<00:00, 5503.31 uttr/s, accuracy=0.80, loss=0.89]\n",
      "Train: 100% 2000/2000 [00:29<00:00, 67.48 step/s, accuracy=0.94, loss=0.26, step=250000]\n",
      "Valid: 100% 6944/6944 [00:01<00:00, 5308.82 uttr/s, accuracy=0.79, loss=0.92]\n",
      "Train:   1% 12/2000 [00:00<00:34, 58.01 step/s, accuracy=0.84, loss=0.36, step=250012]"
     ]
    },
    {
     "name": "stdout",
     "output_type": "stream",
     "text": [
      "Step 250000, best model saved. (accuracy=0.8020)\n"
     ]
    },
    {
     "name": "stderr",
     "output_type": "stream",
     "text": [
      "Train: 100% 2000/2000 [00:30<00:00, 66.41 step/s, accuracy=0.84, loss=0.42, step=252000]\n",
      "Valid: 100% 6944/6944 [00:01<00:00, 5376.15 uttr/s, accuracy=0.80, loss=0.85]\n",
      "Train: 100% 2000/2000 [00:29<00:00, 68.18 step/s, accuracy=0.94, loss=0.21, step=254000]\n",
      "Valid: 100% 6944/6944 [00:01<00:00, 5470.62 uttr/s, accuracy=0.78, loss=0.93]\n",
      "Train: 100% 2000/2000 [00:29<00:00, 68.64 step/s, accuracy=0.88, loss=0.58, step=256000]\n",
      "Valid: 100% 6944/6944 [00:01<00:00, 5416.78 uttr/s, accuracy=0.79, loss=0.89]\n",
      "Train: 100% 2000/2000 [00:29<00:00, 68.21 step/s, accuracy=0.91, loss=0.39, step=258000]\n",
      "Valid: 100% 6944/6944 [00:01<00:00, 5474.16 uttr/s, accuracy=0.80, loss=0.89]\n",
      "Train: 100% 2000/2000 [00:29<00:00, 68.13 step/s, accuracy=0.88, loss=0.51, step=260000]\n",
      "Valid: 100% 6944/6944 [00:01<00:00, 5516.83 uttr/s, accuracy=0.80, loss=0.93]\n",
      "Train:   1% 14/2000 [00:00<00:30, 64.48 step/s, accuracy=0.88, loss=0.50, step=260014]"
     ]
    },
    {
     "name": "stdout",
     "output_type": "stream",
     "text": [
      "Step 260000, best model saved. (accuracy=0.8024)\n"
     ]
    },
    {
     "name": "stderr",
     "output_type": "stream",
     "text": [
      "Train: 100% 2000/2000 [00:29<00:00, 68.48 step/s, accuracy=0.88, loss=0.39, step=262000]\n",
      "Valid: 100% 6944/6944 [00:01<00:00, 5375.24 uttr/s, accuracy=0.80, loss=0.85]\n",
      "Train: 100% 2000/2000 [00:29<00:00, 69.05 step/s, accuracy=0.84, loss=0.70, step=264000]\n",
      "Valid: 100% 6944/6944 [00:01<00:00, 5471.47 uttr/s, accuracy=0.80, loss=0.87]\n",
      "Train: 100% 2000/2000 [00:29<00:00, 67.87 step/s, accuracy=0.91, loss=0.43, step=266000]\n",
      "Valid: 100% 6944/6944 [00:01<00:00, 5012.69 uttr/s, accuracy=0.81, loss=0.84]\n",
      "Train: 100% 2000/2000 [00:30<00:00, 66.25 step/s, accuracy=0.88, loss=0.28, step=268000]\n",
      "Valid: 100% 6944/6944 [00:01<00:00, 5267.04 uttr/s, accuracy=0.81, loss=0.83]\n",
      "Train: 100% 2000/2000 [00:30<00:00, 65.27 step/s, accuracy=0.88, loss=0.37, step=270000]\n",
      "Valid: 100% 6944/6944 [00:01<00:00, 5263.01 uttr/s, accuracy=0.80, loss=0.85]\n",
      "Train:   1% 13/2000 [00:00<00:32, 61.19 step/s, accuracy=0.94, loss=0.28, step=270013]"
     ]
    },
    {
     "name": "stdout",
     "output_type": "stream",
     "text": [
      "Step 270000, best model saved. (accuracy=0.8056)\n"
     ]
    },
    {
     "name": "stderr",
     "output_type": "stream",
     "text": [
      "Train: 100% 2000/2000 [00:30<00:00, 65.91 step/s, accuracy=0.91, loss=0.41, step=272000]\n",
      "Valid: 100% 6944/6944 [00:01<00:00, 5256.05 uttr/s, accuracy=0.80, loss=0.87]\n",
      "Train: 100% 2000/2000 [00:30<00:00, 64.92 step/s, accuracy=0.81, loss=0.69, step=274000]\n",
      "Valid: 100% 6944/6944 [00:01<00:00, 4946.16 uttr/s, accuracy=0.80, loss=0.87]\n",
      "Train: 100% 2000/2000 [00:30<00:00, 65.47 step/s, accuracy=0.88, loss=0.60, step=276000]\n",
      "Valid: 100% 6944/6944 [00:01<00:00, 5254.20 uttr/s, accuracy=0.81, loss=0.82]\n",
      "Train: 100% 2000/2000 [00:30<00:00, 66.51 step/s, accuracy=0.84, loss=0.52, step=278000]\n",
      "Valid: 100% 6944/6944 [00:01<00:00, 5262.19 uttr/s, accuracy=0.81, loss=0.83]\n",
      "Train: 100% 2000/2000 [00:29<00:00, 66.79 step/s, accuracy=0.81, loss=0.65, step=280000]\n",
      "Valid: 100% 6944/6944 [00:01<00:00, 5258.07 uttr/s, accuracy=0.80, loss=0.86]\n",
      "Train:   1% 12/2000 [00:00<00:35, 55.77 step/s, accuracy=0.75, loss=0.56, step=280012]"
     ]
    },
    {
     "name": "stdout",
     "output_type": "stream",
     "text": [
      "Step 280000, best model saved. (accuracy=0.8080)\n"
     ]
    },
    {
     "name": "stderr",
     "output_type": "stream",
     "text": [
      "Train: 100% 2000/2000 [00:30<00:00, 66.33 step/s, accuracy=0.88, loss=0.34, step=282000]\n",
      "Valid: 100% 6944/6944 [00:01<00:00, 5236.10 uttr/s, accuracy=0.81, loss=0.86]\n",
      "Train: 100% 2000/2000 [00:30<00:00, 66.63 step/s, accuracy=0.75, loss=0.69, step=284000]\n",
      "Valid: 100% 6944/6944 [00:01<00:00, 5253.80 uttr/s, accuracy=0.81, loss=0.84]\n",
      "Train: 100% 2000/2000 [00:30<00:00, 65.95 step/s, accuracy=0.94, loss=0.26, step=286000]\n",
      "Valid: 100% 6944/6944 [00:01<00:00, 5243.76 uttr/s, accuracy=0.81, loss=0.80]\n",
      "Train: 100% 2000/2000 [00:30<00:00, 65.95 step/s, accuracy=0.84, loss=0.71, step=288000]\n",
      "Valid: 100% 6944/6944 [00:01<00:00, 5213.61 uttr/s, accuracy=0.80, loss=0.86]\n",
      "Train: 100% 2000/2000 [00:30<00:00, 66.24 step/s, accuracy=0.91, loss=0.48, step=290000]\n",
      "Valid: 100% 6944/6944 [00:01<00:00, 5141.92 uttr/s, accuracy=0.81, loss=0.85]\n",
      "Train:   1% 13/2000 [00:00<00:32, 61.22 step/s, accuracy=0.81, loss=1.04, step=290013]"
     ]
    },
    {
     "name": "stdout",
     "output_type": "stream",
     "text": [
      "Step 290000, best model saved. (accuracy=0.8109)\n"
     ]
    },
    {
     "name": "stderr",
     "output_type": "stream",
     "text": [
      "Train: 100% 2000/2000 [00:30<00:00, 65.66 step/s, accuracy=0.78, loss=0.53, step=292000]\n",
      "Valid: 100% 6944/6944 [00:01<00:00, 5253.80 uttr/s, accuracy=0.80, loss=0.87]\n",
      "Train: 100% 2000/2000 [00:31<00:00, 64.50 step/s, accuracy=0.91, loss=0.34, step=294000]\n",
      "Valid: 100% 6944/6944 [00:01<00:00, 4871.84 uttr/s, accuracy=0.80, loss=0.85]\n",
      "Train: 100% 2000/2000 [00:31<00:00, 64.51 step/s, accuracy=0.75, loss=0.52, step=296000]\n",
      "Valid: 100% 6944/6944 [00:01<00:00, 5285.69 uttr/s, accuracy=0.80, loss=0.85]\n",
      "Train: 100% 2000/2000 [00:31<00:00, 64.15 step/s, accuracy=0.84, loss=0.43, step=298000]\n",
      "Valid: 100% 6944/6944 [00:01<00:00, 4839.00 uttr/s, accuracy=0.80, loss=0.86]\n",
      "Train: 100% 2000/2000 [00:30<00:00, 64.79 step/s, accuracy=0.78, loss=1.11, step=3e+5]  \n",
      "Valid: 100% 6944/6944 [00:01<00:00, 5290.91 uttr/s, accuracy=0.80, loss=0.88]\n",
      "Train:   1% 13/2000 [00:00<00:32, 61.44 step/s, accuracy=0.84, loss=0.49, step=3e+5]"
     ]
    },
    {
     "name": "stdout",
     "output_type": "stream",
     "text": [
      "Step 300000, best model saved. (accuracy=0.8109)\n"
     ]
    },
    {
     "name": "stderr",
     "output_type": "stream",
     "text": [
      "Train: 100% 2000/2000 [00:30<00:00, 64.72 step/s, accuracy=0.81, loss=0.58, step=302000]\n",
      "Valid: 100% 6944/6944 [00:01<00:00, 5270.71 uttr/s, accuracy=0.80, loss=0.90]\n",
      "Train: 100% 2000/2000 [00:30<00:00, 66.13 step/s, accuracy=0.75, loss=0.70, step=304000]\n",
      "Valid: 100% 6944/6944 [00:01<00:00, 5276.99 uttr/s, accuracy=0.79, loss=0.87]\n",
      "Train: 100% 2000/2000 [00:30<00:00, 65.51 step/s, accuracy=0.84, loss=0.47, step=306000]\n",
      "Valid: 100% 6944/6944 [00:01<00:00, 5016.85 uttr/s, accuracy=0.81, loss=0.84]\n",
      "Train: 100% 2000/2000 [00:30<00:00, 65.52 step/s, accuracy=0.94, loss=0.27, step=308000]\n",
      "Valid: 100% 6944/6944 [00:01<00:00, 5075.61 uttr/s, accuracy=0.82, loss=0.81]\n",
      "Train: 100% 2000/2000 [00:31<00:00, 64.10 step/s, accuracy=0.91, loss=0.34, step=310000]\n",
      "Valid: 100% 6944/6944 [00:01<00:00, 2460.79 uttr/s, accuracy=0.82, loss=0.81]\n",
      "Train:   1% 12/2000 [00:00<00:33, 58.68 step/s, accuracy=0.84, loss=0.54, step=310012]"
     ]
    },
    {
     "name": "stdout",
     "output_type": "stream",
     "text": [
      "Step 310000, best model saved. (accuracy=0.8167)\n"
     ]
    },
    {
     "name": "stderr",
     "output_type": "stream",
     "text": [
      "Train: 100% 2000/2000 [00:30<00:00, 65.38 step/s, accuracy=0.84, loss=0.55, step=312000]\n",
      "Valid: 100% 6944/6944 [00:01<00:00, 5289.01 uttr/s, accuracy=0.81, loss=0.84]\n",
      "Train: 100% 2000/2000 [00:29<00:00, 67.05 step/s, accuracy=0.88, loss=0.60, step=314000]\n",
      "Valid: 100% 6944/6944 [00:01<00:00, 5249.84 uttr/s, accuracy=0.81, loss=0.84]\n",
      "Train: 100% 2000/2000 [00:29<00:00, 66.90 step/s, accuracy=0.94, loss=0.21, step=316000]\n",
      "Valid: 100% 6944/6944 [00:01<00:00, 5327.75 uttr/s, accuracy=0.81, loss=0.81]\n",
      "Train: 100% 2000/2000 [00:30<00:00, 66.67 step/s, accuracy=0.88, loss=0.78, step=318000]\n",
      "Valid: 100% 6944/6944 [00:01<00:00, 5319.06 uttr/s, accuracy=0.81, loss=0.80]\n",
      "Train: 100% 2000/2000 [00:29<00:00, 67.19 step/s, accuracy=0.81, loss=0.53, step=320000]\n",
      "Valid: 100% 6944/6944 [00:01<00:00, 5285.96 uttr/s, accuracy=0.82, loss=0.81]\n",
      "Train:   1% 13/2000 [00:00<00:32, 60.93 step/s, accuracy=0.88, loss=0.42, step=320013]"
     ]
    },
    {
     "name": "stdout",
     "output_type": "stream",
     "text": [
      "Step 320000, best model saved. (accuracy=0.8206)\n"
     ]
    },
    {
     "name": "stderr",
     "output_type": "stream",
     "text": [
      "Train: 100% 2000/2000 [00:29<00:00, 67.83 step/s, accuracy=0.81, loss=0.77, step=322000]\n",
      "Valid: 100% 6944/6944 [00:01<00:00, 5297.89 uttr/s, accuracy=0.81, loss=0.83]\n",
      "Train: 100% 2000/2000 [00:29<00:00, 67.87 step/s, accuracy=0.84, loss=0.58, step=324000]\n",
      "Valid: 100% 6944/6944 [00:01<00:00, 5402.90 uttr/s, accuracy=0.81, loss=0.84]\n",
      "Train: 100% 2000/2000 [00:30<00:00, 66.35 step/s, accuracy=0.88, loss=0.32, step=326000]\n",
      "Valid: 100% 6944/6944 [00:01<00:00, 5245.89 uttr/s, accuracy=0.80, loss=0.86]\n",
      "Train: 100% 2000/2000 [00:29<00:00, 67.02 step/s, accuracy=0.84, loss=0.29, step=328000]\n",
      "Valid: 100% 6944/6944 [00:01<00:00, 5234.55 uttr/s, accuracy=0.82, loss=0.79]\n",
      "Train: 100% 2000/2000 [00:29<00:00, 66.88 step/s, accuracy=0.88, loss=0.40, step=330000]\n",
      "Valid: 100% 6944/6944 [00:01<00:00, 5299.19 uttr/s, accuracy=0.82, loss=0.78]\n",
      "Train:   1% 13/2000 [00:00<00:32, 60.90 step/s, accuracy=0.84, loss=0.43, step=330013]"
     ]
    },
    {
     "name": "stdout",
     "output_type": "stream",
     "text": [
      "Step 330000, best model saved. (accuracy=0.8206)\n"
     ]
    },
    {
     "name": "stderr",
     "output_type": "stream",
     "text": [
      "Train: 100% 2000/2000 [00:29<00:00, 66.78 step/s, accuracy=0.88, loss=0.53, step=332000]\n",
      "Valid: 100% 6944/6944 [00:01<00:00, 5324.52 uttr/s, accuracy=0.81, loss=0.83]\n",
      "Train: 100% 2000/2000 [00:29<00:00, 67.22 step/s, accuracy=0.91, loss=0.26, step=334000]\n",
      "Valid: 100% 6944/6944 [00:01<00:00, 5238.38 uttr/s, accuracy=0.81, loss=0.81]\n",
      "Train: 100% 2000/2000 [00:29<00:00, 66.89 step/s, accuracy=0.88, loss=0.35, step=336000]\n",
      "Valid: 100% 6944/6944 [00:01<00:00, 5315.40 uttr/s, accuracy=0.80, loss=0.86]\n",
      "Train: 100% 2000/2000 [00:29<00:00, 66.98 step/s, accuracy=0.78, loss=0.47, step=338000]\n",
      "Valid: 100% 6944/6944 [00:01<00:00, 5218.22 uttr/s, accuracy=0.82, loss=0.75]\n",
      "Train: 100% 2000/2000 [00:29<00:00, 66.80 step/s, accuracy=0.91, loss=0.35, step=340000]\n",
      "Valid: 100% 6944/6944 [00:01<00:00, 5270.01 uttr/s, accuracy=0.81, loss=0.83]\n",
      "Train:   1% 13/2000 [00:00<00:32, 61.54 step/s, accuracy=0.69, loss=1.44, step=340013]"
     ]
    },
    {
     "name": "stdout",
     "output_type": "stream",
     "text": [
      "Step 340000, best model saved. (accuracy=0.8242)\n"
     ]
    },
    {
     "name": "stderr",
     "output_type": "stream",
     "text": [
      "Train: 100% 2000/2000 [00:29<00:00, 67.00 step/s, accuracy=0.88, loss=0.71, step=342000]\n",
      "Valid: 100% 6944/6944 [00:01<00:00, 5427.20 uttr/s, accuracy=0.81, loss=0.81]\n",
      "Train: 100% 2000/2000 [00:29<00:00, 67.12 step/s, accuracy=0.78, loss=0.76, step=344000]\n",
      "Valid: 100% 6944/6944 [00:01<00:00, 5282.49 uttr/s, accuracy=0.81, loss=0.86]\n",
      "Train: 100% 2000/2000 [00:29<00:00, 66.84 step/s, accuracy=0.88, loss=0.70, step=346000]\n",
      "Valid: 100% 6944/6944 [00:01<00:00, 5063.28 uttr/s, accuracy=0.81, loss=0.85]\n",
      "Train: 100% 2000/2000 [00:30<00:00, 66.62 step/s, accuracy=0.91, loss=0.54, step=348000]\n",
      "Valid: 100% 6944/6944 [00:01<00:00, 5373.78 uttr/s, accuracy=0.81, loss=0.83]\n",
      "Train: 100% 2000/2000 [00:29<00:00, 66.93 step/s, accuracy=0.88, loss=0.58, step=350000]\n",
      "Valid: 100% 6944/6944 [00:01<00:00, 5420.81 uttr/s, accuracy=0.82, loss=0.84]\n",
      "Train:   1% 13/2000 [00:00<00:32, 61.51 step/s, accuracy=0.94, loss=0.75, step=350013]"
     ]
    },
    {
     "name": "stdout",
     "output_type": "stream",
     "text": [
      "Step 350000, best model saved. (accuracy=0.8242)\n"
     ]
    },
    {
     "name": "stderr",
     "output_type": "stream",
     "text": [
      "Train: 100% 2000/2000 [00:29<00:00, 66.96 step/s, accuracy=0.97, loss=0.10, step=352000]\n",
      "Valid: 100% 6944/6944 [00:01<00:00, 5254.79 uttr/s, accuracy=0.80, loss=0.87]\n",
      "Train: 100% 2000/2000 [00:29<00:00, 66.45 step/s, accuracy=0.91, loss=0.62, step=354000]\n",
      "Valid: 100% 6944/6944 [00:01<00:00, 5365.23 uttr/s, accuracy=0.80, loss=0.86]\n",
      "Train: 100% 2000/2000 [00:29<00:00, 66.75 step/s, accuracy=0.97, loss=0.18, step=356000]\n",
      "Valid: 100% 6944/6944 [00:01<00:00, 5298.33 uttr/s, accuracy=0.82, loss=0.82]\n",
      "Train: 100% 2000/2000 [00:29<00:00, 66.81 step/s, accuracy=0.88, loss=0.50, step=358000]\n",
      "Valid: 100% 6944/6944 [00:01<00:00, 5426.82 uttr/s, accuracy=0.82, loss=0.81]\n",
      "Train: 100% 2000/2000 [00:29<00:00, 67.00 step/s, accuracy=0.78, loss=0.86, step=360000]\n",
      "Valid: 100% 6944/6944 [00:01<00:00, 5305.56 uttr/s, accuracy=0.82, loss=0.80]\n",
      "Train:   1% 13/2000 [00:00<00:32, 61.71 step/s, accuracy=0.94, loss=0.30, step=360013]"
     ]
    },
    {
     "name": "stdout",
     "output_type": "stream",
     "text": [
      "Step 360000, best model saved. (accuracy=0.8242)\n"
     ]
    },
    {
     "name": "stderr",
     "output_type": "stream",
     "text": [
      "Train: 100% 2000/2000 [00:29<00:00, 66.70 step/s, accuracy=0.84, loss=0.36, step=362000]\n",
      "Valid: 100% 6944/6944 [00:01<00:00, 5396.62 uttr/s, accuracy=0.82, loss=0.78]\n",
      "Train: 100% 2000/2000 [00:29<00:00, 67.18 step/s, accuracy=0.88, loss=0.38, step=364000]\n",
      "Valid: 100% 6944/6944 [00:01<00:00, 5276.35 uttr/s, accuracy=0.82, loss=0.82]\n",
      "Train: 100% 2000/2000 [00:30<00:00, 66.48 step/s, accuracy=0.88, loss=0.40, step=366000]\n",
      "Valid: 100% 6944/6944 [00:01<00:00, 5277.75 uttr/s, accuracy=0.82, loss=0.77]\n",
      "Train: 100% 2000/2000 [00:29<00:00, 66.78 step/s, accuracy=0.84, loss=0.62, step=368000]\n",
      "Valid: 100% 6944/6944 [00:01<00:00, 5368.12 uttr/s, accuracy=0.81, loss=0.81]\n",
      "Train: 100% 2000/2000 [00:29<00:00, 61.94 step/s, accuracy=0.88, loss=0.41, step=370000]\n",
      "Valid: 100% 6944/6944 [00:01<00:00, 4798.18 uttr/s, accuracy=0.83, loss=0.75]\n",
      "Train:   1% 12/2000 [00:00<00:33, 60.20 step/s, accuracy=0.94, loss=0.15, step=370012]"
     ]
    },
    {
     "name": "stdout",
     "output_type": "stream",
     "text": [
      "Step 370000, best model saved. (accuracy=0.8293)\n"
     ]
    },
    {
     "name": "stderr",
     "output_type": "stream",
     "text": [
      "Train: 100% 2000/2000 [00:30<00:00, 66.49 step/s, accuracy=0.94, loss=0.22, step=372000]\n",
      "Valid: 100% 6944/6944 [00:01<00:00, 5335.27 uttr/s, accuracy=0.81, loss=0.84]\n",
      "Train: 100% 2000/2000 [00:29<00:00, 67.09 step/s, accuracy=0.91, loss=0.19, step=374000]\n",
      "Valid: 100% 6944/6944 [00:01<00:00, 5281.10 uttr/s, accuracy=0.83, loss=0.75]\n",
      "Train: 100% 2000/2000 [00:29<00:00, 66.89 step/s, accuracy=0.94, loss=0.40, step=376000]\n",
      "Valid: 100% 6944/6944 [00:01<00:00, 5306.93 uttr/s, accuracy=0.82, loss=0.78]\n",
      "Train: 100% 2000/2000 [00:29<00:00, 66.88 step/s, accuracy=0.91, loss=0.48, step=378000]\n",
      "Valid: 100% 6944/6944 [00:01<00:00, 5256.12 uttr/s, accuracy=0.82, loss=0.79]\n",
      "Train: 100% 2000/2000 [00:29<00:00, 67.17 step/s, accuracy=0.88, loss=0.29, step=380000]\n",
      "Valid: 100% 6944/6944 [00:01<00:00, 5334.94 uttr/s, accuracy=0.80, loss=0.89]\n",
      "Train:   1% 13/2000 [00:00<00:33, 59.05 step/s, accuracy=0.91, loss=0.46, step=380013]"
     ]
    },
    {
     "name": "stdout",
     "output_type": "stream",
     "text": [
      "Step 380000, best model saved. (accuracy=0.8293)\n"
     ]
    },
    {
     "name": "stderr",
     "output_type": "stream",
     "text": [
      "Train: 100% 2000/2000 [00:29<00:00, 67.03 step/s, accuracy=0.94, loss=0.12, step=382000]\n",
      "Valid: 100% 6944/6944 [00:01<00:00, 5166.51 uttr/s, accuracy=0.82, loss=0.78]\n",
      "Train: 100% 2000/2000 [00:29<00:00, 66.78 step/s, accuracy=0.84, loss=0.36, step=384000]\n",
      "Valid: 100% 6944/6944 [00:01<00:00, 5349.33 uttr/s, accuracy=0.83, loss=0.74]\n",
      "Train: 100% 2000/2000 [00:29<00:00, 67.10 step/s, accuracy=0.94, loss=0.16, step=386000]\n",
      "Valid: 100% 6944/6944 [00:01<00:00, 5256.98 uttr/s, accuracy=0.82, loss=0.78]\n",
      "Train: 100% 2000/2000 [00:30<00:00, 66.64 step/s, accuracy=0.94, loss=0.34, step=388000]\n",
      "Valid: 100% 6944/6944 [00:01<00:00, 5270.82 uttr/s, accuracy=0.83, loss=0.77]\n",
      "Train: 100% 2000/2000 [00:29<00:00, 66.69 step/s, accuracy=0.91, loss=0.43, step=390000]\n",
      "Valid: 100% 6944/6944 [00:01<00:00, 5309.43 uttr/s, accuracy=0.82, loss=0.79]\n",
      "Train:   1% 13/2000 [00:00<00:33, 58.99 step/s, accuracy=0.97, loss=0.20, step=390013]"
     ]
    },
    {
     "name": "stdout",
     "output_type": "stream",
     "text": [
      "Step 390000, best model saved. (accuracy=0.8321)\n"
     ]
    },
    {
     "name": "stderr",
     "output_type": "stream",
     "text": [
      "Train: 100% 2000/2000 [00:30<00:00, 66.57 step/s, accuracy=0.84, loss=0.49, step=392000]\n",
      "Valid: 100% 6944/6944 [00:01<00:00, 5181.05 uttr/s, accuracy=0.82, loss=0.79]\n",
      "Train: 100% 2000/2000 [00:29<00:00, 66.78 step/s, accuracy=0.81, loss=0.34, step=394000]\n",
      "Valid: 100% 6944/6944 [00:01<00:00, 5281.09 uttr/s, accuracy=0.83, loss=0.76]\n",
      "Train: 100% 2000/2000 [00:30<00:00, 66.22 step/s, accuracy=0.97, loss=0.23, step=396000]\n",
      "Valid: 100% 6944/6944 [00:01<00:00, 5253.03 uttr/s, accuracy=0.82, loss=0.81]\n",
      "Train: 100% 2000/2000 [00:29<00:00, 67.18 step/s, accuracy=0.97, loss=0.17, step=398000]\n",
      "Valid: 100% 6944/6944 [00:01<00:00, 5411.99 uttr/s, accuracy=0.82, loss=0.77]\n",
      "Train: 100% 2000/2000 [00:29<00:00, 66.88 step/s, accuracy=0.91, loss=0.45, step=4e+5]  \n",
      "Valid: 100% 6944/6944 [00:01<00:00, 5289.27 uttr/s, accuracy=0.82, loss=0.78]\n",
      "Train:   1% 13/2000 [00:00<00:32, 61.39 step/s, accuracy=0.94, loss=0.23, step=4e+5]"
     ]
    },
    {
     "name": "stdout",
     "output_type": "stream",
     "text": [
      "Step 400000, best model saved. (accuracy=0.8321)\n"
     ]
    },
    {
     "name": "stderr",
     "output_type": "stream",
     "text": [
      "Train: 100% 2000/2000 [00:30<00:00, 66.52 step/s, accuracy=0.84, loss=0.47, step=402000]\n",
      "Valid: 100% 6944/6944 [00:01<00:00, 5189.39 uttr/s, accuracy=0.82, loss=0.80]\n",
      "Train: 100% 2000/2000 [00:29<00:00, 66.76 step/s, accuracy=1.00, loss=0.09, step=404000]\n",
      "Valid: 100% 6944/6944 [00:01<00:00, 5384.53 uttr/s, accuracy=0.83, loss=0.74]\n",
      "Train: 100% 2000/2000 [00:29<00:00, 66.65 step/s, accuracy=0.94, loss=0.47, step=406000]\n",
      "Valid: 100% 6944/6944 [00:01<00:00, 5113.61 uttr/s, accuracy=0.82, loss=0.79]\n",
      "Train: 100% 2000/2000 [00:30<00:00, 66.24 step/s, accuracy=0.91, loss=0.41, step=408000]\n",
      "Valid: 100% 6944/6944 [00:01<00:00, 5416.16 uttr/s, accuracy=0.83, loss=0.74]\n",
      "Train: 100% 2000/2000 [00:29<00:00, 66.97 step/s, accuracy=0.91, loss=0.43, step=410000]\n",
      "Valid: 100% 6944/6944 [00:01<00:00, 5277.77 uttr/s, accuracy=0.83, loss=0.75]\n",
      "Train:   1% 13/2000 [00:00<00:32, 60.45 step/s, accuracy=0.88, loss=0.46, step=410013]"
     ]
    },
    {
     "name": "stdout",
     "output_type": "stream",
     "text": [
      "Step 410000, best model saved. (accuracy=0.8329)\n"
     ]
    },
    {
     "name": "stderr",
     "output_type": "stream",
     "text": [
      "Train: 100% 2000/2000 [00:29<00:00, 66.74 step/s, accuracy=0.88, loss=0.45, step=412000]\n",
      "Valid: 100% 6944/6944 [00:01<00:00, 5347.94 uttr/s, accuracy=0.83, loss=0.75]\n",
      "Train: 100% 2000/2000 [00:29<00:00, 66.05 step/s, accuracy=0.94, loss=0.16, step=414000]\n",
      "Valid: 100% 6944/6944 [00:01<00:00, 5394.65 uttr/s, accuracy=0.84, loss=0.73]\n",
      "Train: 100% 2000/2000 [00:29<00:00, 67.18 step/s, accuracy=1.00, loss=0.16, step=416000]\n",
      "Valid: 100% 6944/6944 [00:01<00:00, 5300.84 uttr/s, accuracy=0.83, loss=0.77]\n",
      "Train: 100% 2000/2000 [00:29<00:00, 67.18 step/s, accuracy=0.94, loss=0.32, step=418000]\n",
      "Valid: 100% 6944/6944 [00:01<00:00, 5336.07 uttr/s, accuracy=0.84, loss=0.73]\n",
      "Train: 100% 2000/2000 [00:30<00:00, 66.56 step/s, accuracy=0.94, loss=0.22, step=420000]\n",
      "Valid: 100% 6944/6944 [00:01<00:00, 5238.54 uttr/s, accuracy=0.82, loss=0.79]\n",
      "Train:   1% 13/2000 [00:00<00:33, 59.72 step/s, accuracy=0.91, loss=0.48, step=420013]"
     ]
    },
    {
     "name": "stdout",
     "output_type": "stream",
     "text": [
      "Step 420000, best model saved. (accuracy=0.8401)\n"
     ]
    },
    {
     "name": "stderr",
     "output_type": "stream",
     "text": [
      "Train: 100% 2000/2000 [00:29<00:00, 66.98 step/s, accuracy=0.94, loss=0.22, step=422000]\n",
      "Valid: 100% 6944/6944 [00:01<00:00, 5360.58 uttr/s, accuracy=0.83, loss=0.76]\n",
      "Train: 100% 2000/2000 [00:29<00:00, 66.83 step/s, accuracy=0.97, loss=0.09, step=424000]\n",
      "Valid: 100% 6944/6944 [00:01<00:00, 5337.22 uttr/s, accuracy=0.83, loss=0.74]\n",
      "Train: 100% 2000/2000 [00:30<00:00, 66.63 step/s, accuracy=0.91, loss=0.24, step=426000]\n",
      "Valid: 100% 6944/6944 [00:01<00:00, 5326.09 uttr/s, accuracy=0.84, loss=0.72]\n",
      "Train: 100% 2000/2000 [00:29<00:00, 66.71 step/s, accuracy=0.88, loss=0.45, step=428000]\n",
      "Valid: 100% 6944/6944 [00:01<00:00, 5272.26 uttr/s, accuracy=0.83, loss=0.74]\n",
      "Train: 100% 2000/2000 [00:29<00:00, 66.80 step/s, accuracy=0.84, loss=0.54, step=430000]\n",
      "Valid: 100% 6944/6944 [00:01<00:00, 5321.56 uttr/s, accuracy=0.83, loss=0.78]\n",
      "Train:   1% 12/2000 [00:00<00:35, 55.27 step/s, accuracy=0.78, loss=0.59, step=430012]"
     ]
    },
    {
     "name": "stdout",
     "output_type": "stream",
     "text": [
      "Step 430000, best model saved. (accuracy=0.8401)\n"
     ]
    },
    {
     "name": "stderr",
     "output_type": "stream",
     "text": [
      "Train: 100% 2000/2000 [00:30<00:00, 66.52 step/s, accuracy=0.88, loss=0.38, step=432000]\n",
      "Valid: 100% 6944/6944 [00:01<00:00, 5364.01 uttr/s, accuracy=0.83, loss=0.76]\n",
      "Train: 100% 2000/2000 [00:30<00:00, 66.31 step/s, accuracy=0.84, loss=0.71, step=434000]\n",
      "Valid: 100% 6944/6944 [00:01<00:00, 5233.41 uttr/s, accuracy=0.84, loss=0.72]\n",
      "Train: 100% 2000/2000 [00:29<00:00, 66.95 step/s, accuracy=0.97, loss=0.18, step=436000]\n",
      "Valid: 100% 6944/6944 [00:01<00:00, 5238.04 uttr/s, accuracy=0.84, loss=0.72]\n",
      "Train: 100% 2000/2000 [00:29<00:00, 66.95 step/s, accuracy=0.88, loss=0.45, step=438000]\n",
      "Valid: 100% 6944/6944 [00:01<00:00, 5402.73 uttr/s, accuracy=0.83, loss=0.72]\n",
      "Train: 100% 2000/2000 [00:29<00:00, 67.22 step/s, accuracy=0.94, loss=0.37, step=440000]\n",
      "Valid: 100% 6944/6944 [00:01<00:00, 5325.37 uttr/s, accuracy=0.83, loss=0.76]\n",
      "Train:   1% 13/2000 [00:00<00:32, 61.29 step/s, accuracy=0.88, loss=0.47, step=440013]"
     ]
    },
    {
     "name": "stdout",
     "output_type": "stream",
     "text": [
      "Step 440000, best model saved. (accuracy=0.8401)\n"
     ]
    },
    {
     "name": "stderr",
     "output_type": "stream",
     "text": [
      "Train: 100% 2000/2000 [00:29<00:00, 66.70 step/s, accuracy=0.84, loss=0.30, step=442000]\n",
      "Valid: 100% 6944/6944 [00:01<00:00, 5238.76 uttr/s, accuracy=0.83, loss=0.78]\n",
      "Train: 100% 2000/2000 [00:30<00:00, 66.45 step/s, accuracy=0.88, loss=0.50, step=444000]\n",
      "Valid: 100% 6944/6944 [00:01<00:00, 5460.38 uttr/s, accuracy=0.84, loss=0.72]\n",
      "Train: 100% 2000/2000 [00:29<00:00, 66.91 step/s, accuracy=0.84, loss=0.45, step=446000]\n",
      "Valid: 100% 6944/6944 [00:01<00:00, 5250.83 uttr/s, accuracy=0.84, loss=0.71]\n",
      "Train: 100% 2000/2000 [00:29<00:00, 66.85 step/s, accuracy=0.84, loss=0.42, step=448000]\n",
      "Valid: 100% 6944/6944 [00:01<00:00, 5397.14 uttr/s, accuracy=0.83, loss=0.77]\n",
      "Train: 100% 2000/2000 [00:30<00:00, 66.55 step/s, accuracy=0.91, loss=0.52, step=450000]\n",
      "Valid: 100% 6944/6944 [00:01<00:00, 5394.57 uttr/s, accuracy=0.82, loss=0.75]\n",
      "Train:   1% 13/2000 [00:00<00:33, 59.94 step/s, accuracy=0.97, loss=0.15, step=450013]"
     ]
    },
    {
     "name": "stdout",
     "output_type": "stream",
     "text": [
      "Step 450000, best model saved. (accuracy=0.8401)\n"
     ]
    },
    {
     "name": "stderr",
     "output_type": "stream",
     "text": [
      "Train: 100% 2000/2000 [00:30<00:00, 66.18 step/s, accuracy=0.94, loss=0.16, step=452000]\n",
      "Valid: 100% 6944/6944 [00:01<00:00, 5132.07 uttr/s, accuracy=0.84, loss=0.73]\n",
      "Train: 100% 2000/2000 [00:31<00:00, 64.35 step/s, accuracy=0.91, loss=0.46, step=454000]\n",
      "Valid: 100% 6944/6944 [00:01<00:00, 5128.89 uttr/s, accuracy=0.84, loss=0.71]\n",
      "Train: 100% 2000/2000 [00:31<00:00, 64.00 step/s, accuracy=0.88, loss=0.27, step=456000]\n",
      "Valid: 100% 6944/6944 [00:01<00:00, 5077.30 uttr/s, accuracy=0.84, loss=0.75]\n",
      "Train: 100% 2000/2000 [00:32<00:00, 61.53 step/s, accuracy=0.94, loss=0.21, step=458000]\n",
      "Valid: 100% 6944/6944 [00:01<00:00, 4922.83 uttr/s, accuracy=0.84, loss=0.72]\n",
      "Train: 100% 2000/2000 [00:32<00:00, 61.41 step/s, accuracy=0.78, loss=0.78, step=460000]\n",
      "Valid: 100% 6944/6944 [00:01<00:00, 4943.78 uttr/s, accuracy=0.84, loss=0.71]\n",
      "Train:   1% 12/2000 [00:00<00:36, 54.94 step/s, accuracy=0.91, loss=0.42, step=460012]"
     ]
    },
    {
     "name": "stdout",
     "output_type": "stream",
     "text": [
      "Step 460000, best model saved. (accuracy=0.8443)\n"
     ]
    },
    {
     "name": "stderr",
     "output_type": "stream",
     "text": [
      "Train: 100% 2000/2000 [00:31<00:00, 64.24 step/s, accuracy=0.97, loss=0.20, step=462000]\n",
      "Valid: 100% 6944/6944 [00:01<00:00, 5154.97 uttr/s, accuracy=0.84, loss=0.75]\n",
      "Train: 100% 2000/2000 [00:30<00:00, 65.02 step/s, accuracy=0.88, loss=0.35, step=464000]\n",
      "Valid: 100% 6944/6944 [00:01<00:00, 5313.74 uttr/s, accuracy=0.84, loss=0.72]\n",
      "Train: 100% 2000/2000 [00:30<00:00, 66.21 step/s, accuracy=0.97, loss=0.20, step=466000]\n",
      "Valid: 100% 6944/6944 [00:01<00:00, 5181.94 uttr/s, accuracy=0.84, loss=0.74]\n",
      "Train: 100% 2000/2000 [00:30<00:00, 65.87 step/s, accuracy=0.88, loss=0.43, step=468000]\n",
      "Valid: 100% 6944/6944 [00:01<00:00, 5213.08 uttr/s, accuracy=0.85, loss=0.68]\n",
      "Train: 100% 2000/2000 [00:30<00:00, 66.20 step/s, accuracy=0.91, loss=0.22, step=470000]\n",
      "Valid: 100% 6944/6944 [00:01<00:00, 5291.03 uttr/s, accuracy=0.84, loss=0.70]\n",
      "Train:   1% 13/2000 [00:00<00:32, 61.63 step/s, accuracy=0.88, loss=0.41, step=470013]"
     ]
    },
    {
     "name": "stdout",
     "output_type": "stream",
     "text": [
      "Step 470000, best model saved. (accuracy=0.8481)\n"
     ]
    },
    {
     "name": "stderr",
     "output_type": "stream",
     "text": [
      "Train: 100% 2000/2000 [00:30<00:00, 66.31 step/s, accuracy=0.88, loss=0.47, step=472000]\n",
      "Valid: 100% 6944/6944 [00:01<00:00, 5189.04 uttr/s, accuracy=0.83, loss=0.74]\n",
      "Train: 100% 2000/2000 [00:30<00:00, 68.22 step/s, accuracy=0.84, loss=0.41, step=474000]\n",
      "Valid: 100% 6944/6944 [00:01<00:00, 5210.34 uttr/s, accuracy=0.83, loss=0.73]\n",
      "Train: 100% 2000/2000 [00:29<00:00, 66.85 step/s, accuracy=0.94, loss=0.29, step=476000]\n",
      "Valid: 100% 6944/6944 [00:01<00:00, 5358.99 uttr/s, accuracy=0.84, loss=0.71]\n",
      "Train: 100% 2000/2000 [00:30<00:00, 66.10 step/s, accuracy=0.81, loss=0.53, step=478000]\n",
      "Valid: 100% 6944/6944 [00:01<00:00, 5228.10 uttr/s, accuracy=0.84, loss=0.71]\n",
      "Train: 100% 2000/2000 [00:30<00:00, 66.21 step/s, accuracy=1.00, loss=0.10, step=480000]\n",
      "Valid: 100% 6944/6944 [00:01<00:00, 5229.05 uttr/s, accuracy=0.83, loss=0.75]\n",
      "Train:   1% 12/2000 [00:00<00:37, 52.73 step/s, accuracy=0.94, loss=0.31, step=480012]"
     ]
    },
    {
     "name": "stdout",
     "output_type": "stream",
     "text": [
      "Step 480000, best model saved. (accuracy=0.8481)\n"
     ]
    },
    {
     "name": "stderr",
     "output_type": "stream",
     "text": [
      "Train: 100% 2000/2000 [00:30<00:00, 66.64 step/s, accuracy=0.91, loss=0.26, step=482000]\n",
      "Valid: 100% 6944/6944 [00:01<00:00, 5236.47 uttr/s, accuracy=0.84, loss=0.73]\n",
      "Train: 100% 2000/2000 [00:30<00:00, 66.43 step/s, accuracy=0.88, loss=0.37, step=484000]\n",
      "Valid: 100% 6944/6944 [00:01<00:00, 5306.74 uttr/s, accuracy=0.83, loss=0.73]\n",
      "Train: 100% 2000/2000 [00:30<00:00, 68.61 step/s, accuracy=0.91, loss=0.26, step=486000]\n",
      "Valid: 100% 6944/6944 [00:01<00:00, 5286.54 uttr/s, accuracy=0.84, loss=0.69]\n",
      "Train: 100% 2000/2000 [00:29<00:00, 66.90 step/s, accuracy=0.94, loss=0.16, step=488000]\n",
      "Valid: 100% 6944/6944 [00:01<00:00, 5319.27 uttr/s, accuracy=0.85, loss=0.68]\n",
      "Train: 100% 2000/2000 [00:30<00:00, 65.96 step/s, accuracy=0.94, loss=0.24, step=490000]\n",
      "Valid: 100% 6944/6944 [00:01<00:00, 5274.51 uttr/s, accuracy=0.85, loss=0.71]\n",
      "Train:   1% 13/2000 [00:00<00:32, 61.29 step/s, accuracy=0.88, loss=0.47, step=490013]"
     ]
    },
    {
     "name": "stdout",
     "output_type": "stream",
     "text": [
      "Step 490000, best model saved. (accuracy=0.8502)\n"
     ]
    },
    {
     "name": "stderr",
     "output_type": "stream",
     "text": [
      "Train: 100% 2000/2000 [00:30<00:00, 66.53 step/s, accuracy=0.91, loss=0.28, step=492000]\n",
      "Valid: 100% 6944/6944 [00:01<00:00, 5380.96 uttr/s, accuracy=0.84, loss=0.71]\n",
      "Train: 100% 2000/2000 [00:30<00:00, 66.21 step/s, accuracy=0.88, loss=0.53, step=494000]\n",
      "Valid: 100% 6944/6944 [00:01<00:00, 5266.46 uttr/s, accuracy=0.83, loss=0.74]\n",
      "Train: 100% 2000/2000 [00:29<00:00, 66.99 step/s, accuracy=0.88, loss=0.35, step=496000]\n",
      "Valid: 100% 6944/6944 [00:01<00:00, 5284.56 uttr/s, accuracy=0.83, loss=0.73]\n",
      "Train: 100% 2000/2000 [00:30<00:00, 66.33 step/s, accuracy=0.97, loss=0.16, step=498000]\n",
      "Valid: 100% 6944/6944 [00:01<00:00, 5158.11 uttr/s, accuracy=0.85, loss=0.64]\n",
      "Train: 100% 2000/2000 [00:29<00:00, 67.58 step/s, accuracy=0.91, loss=0.26, step=5e+5]  \n",
      "Valid: 100% 6944/6944 [00:01<00:00, 5008.12 uttr/s, accuracy=0.84, loss=0.71]\n",
      "Train:   1% 13/2000 [00:00<00:32, 60.88 step/s, accuracy=0.88, loss=0.36, step=5e+5]"
     ]
    },
    {
     "name": "stdout",
     "output_type": "stream",
     "text": [
      "Step 500000, best model saved. (accuracy=0.8502)\n"
     ]
    },
    {
     "name": "stderr",
     "output_type": "stream",
     "text": [
      "Train: 100% 2000/2000 [00:29<00:00, 66.71 step/s, accuracy=0.88, loss=0.30, step=502000]\n",
      "Valid: 100% 6944/6944 [00:01<00:00, 5301.16 uttr/s, accuracy=0.84, loss=0.75]\n",
      "Train: 100% 2000/2000 [00:29<00:00, 66.85 step/s, accuracy=0.94, loss=0.24, step=504000]\n",
      "Valid: 100% 6944/6944 [00:01<00:00, 5300.86 uttr/s, accuracy=0.85, loss=0.67]\n",
      "Train: 100% 2000/2000 [00:30<00:00, 66.59 step/s, accuracy=0.94, loss=0.15, step=506000]\n",
      "Valid: 100% 6944/6944 [00:01<00:00, 5287.61 uttr/s, accuracy=0.85, loss=0.70]\n",
      "Train: 100% 2000/2000 [00:29<00:00, 66.77 step/s, accuracy=0.94, loss=0.35, step=508000]\n",
      "Valid: 100% 6944/6944 [00:01<00:00, 5197.04 uttr/s, accuracy=0.84, loss=0.70]\n",
      "Train: 100% 2000/2000 [00:29<00:00, 66.68 step/s, accuracy=0.94, loss=0.27, step=510000]\n",
      "Valid: 100% 6944/6944 [00:01<00:00, 5198.81 uttr/s, accuracy=0.85, loss=0.66]\n",
      "Train:   1% 13/2000 [00:00<00:33, 59.25 step/s, accuracy=0.94, loss=0.39, step=510013]"
     ]
    },
    {
     "name": "stdout",
     "output_type": "stream",
     "text": [
      "Step 510000, best model saved. (accuracy=0.8502)\n"
     ]
    },
    {
     "name": "stderr",
     "output_type": "stream",
     "text": [
      "Train: 100% 2000/2000 [00:29<00:00, 67.04 step/s, accuracy=0.91, loss=0.26, step=512000]\n",
      "Valid: 100% 6944/6944 [00:01<00:00, 5377.86 uttr/s, accuracy=0.85, loss=0.71]\n",
      "Train: 100% 2000/2000 [00:29<00:00, 67.04 step/s, accuracy=0.84, loss=0.41, step=514000]\n",
      "Valid: 100% 6944/6944 [00:01<00:00, 5384.87 uttr/s, accuracy=0.85, loss=0.68]\n",
      "Train: 100% 2000/2000 [00:29<00:00, 66.83 step/s, accuracy=0.91, loss=0.20, step=516000]\n",
      "Valid: 100% 6944/6944 [00:01<00:00, 5266.97 uttr/s, accuracy=0.84, loss=0.72]\n",
      "Train: 100% 2000/2000 [00:29<00:00, 66.72 step/s, accuracy=0.97, loss=0.18, step=518000]\n",
      "Valid: 100% 6944/6944 [00:01<00:00, 5159.87 uttr/s, accuracy=0.84, loss=0.72]\n",
      "Train: 100% 2000/2000 [00:29<00:00, 66.86 step/s, accuracy=0.97, loss=0.14, step=520000]\n",
      "Valid: 100% 6944/6944 [00:01<00:00, 5222.23 uttr/s, accuracy=0.86, loss=0.65]\n",
      "Train:   1% 13/2000 [00:00<00:32, 61.48 step/s, accuracy=0.81, loss=0.52, step=520013]"
     ]
    },
    {
     "name": "stdout",
     "output_type": "stream",
     "text": [
      "Step 520000, best model saved. (accuracy=0.8573)\n"
     ]
    },
    {
     "name": "stderr",
     "output_type": "stream",
     "text": [
      "Train: 100% 2000/2000 [00:30<00:00, 66.54 step/s, accuracy=0.94, loss=0.36, step=522000]\n",
      "Valid: 100% 6944/6944 [00:01<00:00, 5359.47 uttr/s, accuracy=0.85, loss=0.68]\n",
      "Train: 100% 2000/2000 [00:29<00:00, 67.05 step/s, accuracy=0.94, loss=0.11, step=524000]\n",
      "Valid: 100% 6944/6944 [00:01<00:00, 5385.32 uttr/s, accuracy=0.85, loss=0.69]\n",
      "Train: 100% 2000/2000 [00:30<00:00, 66.49 step/s, accuracy=0.94, loss=0.33, step=526000]\n",
      "Valid: 100% 6944/6944 [00:01<00:00, 5220.25 uttr/s, accuracy=0.85, loss=0.67]\n",
      "Train: 100% 2000/2000 [00:30<00:00, 66.60 step/s, accuracy=1.00, loss=0.09, step=528000]\n",
      "Valid: 100% 6944/6944 [00:01<00:00, 5283.86 uttr/s, accuracy=0.85, loss=0.69]\n",
      "Train: 100% 2000/2000 [00:29<00:00, 66.99 step/s, accuracy=0.88, loss=0.29, step=530000]\n",
      "Valid: 100% 6944/6944 [00:01<00:00, 5294.68 uttr/s, accuracy=0.86, loss=0.67]\n",
      "Train:   1% 13/2000 [00:00<00:33, 59.23 step/s, accuracy=0.97, loss=0.13, step=530013]"
     ]
    },
    {
     "name": "stdout",
     "output_type": "stream",
     "text": [
      "Step 530000, best model saved. (accuracy=0.8573)\n"
     ]
    },
    {
     "name": "stderr",
     "output_type": "stream",
     "text": [
      "Train: 100% 2000/2000 [00:30<00:00, 66.33 step/s, accuracy=0.94, loss=0.16, step=532000]\n",
      "Valid: 100% 6944/6944 [00:01<00:00, 5161.64 uttr/s, accuracy=0.85, loss=0.72]\n",
      "Train: 100% 2000/2000 [00:30<00:00, 66.53 step/s, accuracy=0.88, loss=0.43, step=534000]\n",
      "Valid: 100% 6944/6944 [00:01<00:00, 5220.01 uttr/s, accuracy=0.85, loss=0.71]\n",
      "Train: 100% 2000/2000 [00:30<00:00, 66.44 step/s, accuracy=0.91, loss=0.20, step=536000]\n",
      "Valid: 100% 6944/6944 [00:01<00:00, 5384.13 uttr/s, accuracy=0.85, loss=0.67]\n",
      "Train: 100% 2000/2000 [00:29<00:00, 68.36 step/s, accuracy=0.84, loss=0.46, step=538000]\n",
      "Valid: 100% 6944/6944 [00:01<00:00, 5189.62 uttr/s, accuracy=0.85, loss=0.68]\n",
      "Train: 100% 2000/2000 [00:29<00:00, 69.06 step/s, accuracy=0.94, loss=0.36, step=540000]\n",
      "Valid: 100% 6944/6944 [00:01<00:00, 5335.38 uttr/s, accuracy=0.86, loss=0.66]\n",
      "Train:   1% 12/2000 [00:00<00:37, 52.87 step/s, accuracy=0.94, loss=0.10, step=540012]"
     ]
    },
    {
     "name": "stdout",
     "output_type": "stream",
     "text": [
      "Step 540000, best model saved. (accuracy=0.8573)\n"
     ]
    },
    {
     "name": "stderr",
     "output_type": "stream",
     "text": [
      "Train: 100% 2000/2000 [00:29<00:00, 66.91 step/s, accuracy=0.94, loss=0.15, step=542000]\n",
      "Valid: 100% 6944/6944 [00:01<00:00, 5257.12 uttr/s, accuracy=0.85, loss=0.69]\n",
      "Train: 100% 2000/2000 [00:29<00:00, 66.89 step/s, accuracy=0.91, loss=0.30, step=544000]\n",
      "Valid: 100% 6944/6944 [00:01<00:00, 5303.12 uttr/s, accuracy=0.86, loss=0.64]\n",
      "Train: 100% 2000/2000 [00:29<00:00, 66.97 step/s, accuracy=0.88, loss=0.24, step=546000]\n",
      "Valid: 100% 6944/6944 [00:01<00:00, 5339.21 uttr/s, accuracy=0.86, loss=0.64]\n",
      "Train: 100% 2000/2000 [00:29<00:00, 66.73 step/s, accuracy=0.97, loss=0.09, step=548000]\n",
      "Valid: 100% 6944/6944 [00:01<00:00, 5352.77 uttr/s, accuracy=0.85, loss=0.65]\n",
      "Train: 100% 2000/2000 [00:29<00:00, 66.68 step/s, accuracy=0.97, loss=0.16, step=550000]\n",
      "Valid: 100% 6944/6944 [00:01<00:00, 5174.90 uttr/s, accuracy=0.85, loss=0.70]\n",
      "Train:   1% 13/2000 [00:00<00:32, 60.50 step/s, accuracy=0.97, loss=0.08, step=550013]"
     ]
    },
    {
     "name": "stdout",
     "output_type": "stream",
     "text": [
      "Step 550000, best model saved. (accuracy=0.8573)\n"
     ]
    },
    {
     "name": "stderr",
     "output_type": "stream",
     "text": [
      "Train: 100% 2000/2000 [00:29<00:00, 66.79 step/s, accuracy=0.94, loss=0.20, step=552000]\n",
      "Valid: 100% 6944/6944 [00:01<00:00, 5265.34 uttr/s, accuracy=0.86, loss=0.70]\n",
      "Train: 100% 2000/2000 [00:30<00:00, 66.57 step/s, accuracy=0.88, loss=0.52, step=554000]\n",
      "Valid: 100% 6944/6944 [00:01<00:00, 5373.18 uttr/s, accuracy=0.85, loss=0.66]\n",
      "Train: 100% 2000/2000 [00:30<00:00, 66.62 step/s, accuracy=0.97, loss=0.15, step=556000]\n",
      "Valid: 100% 6944/6944 [00:01<00:00, 5294.70 uttr/s, accuracy=0.85, loss=0.66]\n",
      "Train: 100% 2000/2000 [00:29<00:00, 66.72 step/s, accuracy=0.91, loss=0.28, step=558000]\n",
      "Valid: 100% 6944/6944 [00:01<00:00, 5170.27 uttr/s, accuracy=0.86, loss=0.65]\n",
      "Train: 100% 2000/2000 [00:30<00:00, 66.66 step/s, accuracy=0.97, loss=0.06, step=560000]\n",
      "Valid: 100% 6944/6944 [00:01<00:00, 5307.64 uttr/s, accuracy=0.86, loss=0.63]\n",
      "Train:   1% 13/2000 [00:00<00:33, 59.96 step/s, accuracy=0.88, loss=0.45, step=560013]"
     ]
    },
    {
     "name": "stdout",
     "output_type": "stream",
     "text": [
      "Step 560000, best model saved. (accuracy=0.8587)\n"
     ]
    },
    {
     "name": "stderr",
     "output_type": "stream",
     "text": [
      "Train: 100% 2000/2000 [00:30<00:00, 66.64 step/s, accuracy=0.94, loss=0.37, step=562000]\n",
      "Valid: 100% 6944/6944 [00:01<00:00, 5363.83 uttr/s, accuracy=0.85, loss=0.67]\n",
      "Train: 100% 2000/2000 [00:30<00:00, 66.31 step/s, accuracy=1.00, loss=0.02, step=564000]\n",
      "Valid: 100% 6944/6944 [00:01<00:00, 5267.32 uttr/s, accuracy=0.86, loss=0.65]\n",
      "Train: 100% 2000/2000 [00:29<00:00, 66.76 step/s, accuracy=0.91, loss=0.30, step=566000]\n",
      "Valid: 100% 6944/6944 [00:01<00:00, 5256.05 uttr/s, accuracy=0.86, loss=0.65]\n",
      "Train: 100% 2000/2000 [00:29<00:00, 66.75 step/s, accuracy=0.81, loss=0.54, step=568000]\n",
      "Valid: 100% 6944/6944 [00:01<00:00, 5338.51 uttr/s, accuracy=0.86, loss=0.65]\n",
      "Train: 100% 2000/2000 [00:30<00:00, 65.67 step/s, accuracy=0.94, loss=0.12, step=570000]\n",
      "Valid: 100% 6944/6944 [00:01<00:00, 5281.42 uttr/s, accuracy=0.85, loss=0.69]\n",
      "Train:   1% 13/2000 [00:00<00:32, 61.30 step/s, accuracy=0.91, loss=0.21, step=570013]"
     ]
    },
    {
     "name": "stdout",
     "output_type": "stream",
     "text": [
      "Step 570000, best model saved. (accuracy=0.8593)\n"
     ]
    },
    {
     "name": "stderr",
     "output_type": "stream",
     "text": [
      "Train: 100% 2000/2000 [00:29<00:00, 64.94 step/s, accuracy=0.94, loss=0.18, step=572000]\n",
      "Valid: 100% 6944/6944 [00:01<00:00, 5346.78 uttr/s, accuracy=0.85, loss=0.65]\n",
      "Train: 100% 2000/2000 [00:30<00:00, 66.57 step/s, accuracy=0.88, loss=0.35, step=574000]\n",
      "Valid: 100% 6944/6944 [00:01<00:00, 5220.92 uttr/s, accuracy=0.86, loss=0.66]\n",
      "Train: 100% 2000/2000 [00:30<00:00, 66.61 step/s, accuracy=0.94, loss=0.21, step=576000]\n",
      "Valid: 100% 6944/6944 [00:01<00:00, 5305.81 uttr/s, accuracy=0.86, loss=0.61]\n",
      "Train: 100% 2000/2000 [00:30<00:00, 66.62 step/s, accuracy=0.94, loss=0.19, step=578000]\n",
      "Valid: 100% 6944/6944 [00:01<00:00, 5140.17 uttr/s, accuracy=0.87, loss=0.63]\n",
      "Train: 100% 2000/2000 [00:30<00:00, 66.63 step/s, accuracy=0.97, loss=0.19, step=580000]\n",
      "Valid: 100% 6944/6944 [00:01<00:00, 5148.29 uttr/s, accuracy=0.86, loss=0.65]\n",
      "Train:   1% 13/2000 [00:00<00:32, 60.32 step/s, accuracy=0.94, loss=0.17, step=580013]"
     ]
    },
    {
     "name": "stdout",
     "output_type": "stream",
     "text": [
      "Step 580000, best model saved. (accuracy=0.8671)\n"
     ]
    },
    {
     "name": "stderr",
     "output_type": "stream",
     "text": [
      "Train: 100% 2000/2000 [00:29<00:00, 67.05 step/s, accuracy=0.88, loss=0.46, step=582000]\n",
      "Valid: 100% 6944/6944 [00:01<00:00, 5167.18 uttr/s, accuracy=0.87, loss=0.62]\n",
      "Train: 100% 2000/2000 [00:29<00:00, 67.31 step/s, accuracy=0.97, loss=0.05, step=584000]\n",
      "Valid: 100% 6944/6944 [00:01<00:00, 5174.40 uttr/s, accuracy=0.86, loss=0.65]\n",
      "Train: 100% 2000/2000 [00:29<00:00, 68.43 step/s, accuracy=0.97, loss=0.12, step=586000]\n",
      "Valid: 100% 6944/6944 [00:01<00:00, 5213.39 uttr/s, accuracy=0.87, loss=0.60]\n",
      "Train: 100% 2000/2000 [00:30<00:00, 66.45 step/s, accuracy=0.94, loss=0.13, step=588000]\n",
      "Valid: 100% 6944/6944 [00:01<00:00, 5213.87 uttr/s, accuracy=0.87, loss=0.62]\n",
      "Train: 100% 2000/2000 [00:30<00:00, 66.41 step/s, accuracy=0.94, loss=0.26, step=590000]\n",
      "Valid: 100% 6944/6944 [00:01<00:00, 5388.03 uttr/s, accuracy=0.86, loss=0.63]\n",
      "Train:   1% 13/2000 [00:00<00:33, 59.88 step/s, accuracy=0.97, loss=0.18, step=590013]"
     ]
    },
    {
     "name": "stdout",
     "output_type": "stream",
     "text": [
      "Step 590000, best model saved. (accuracy=0.8702)\n"
     ]
    },
    {
     "name": "stderr",
     "output_type": "stream",
     "text": [
      "Train: 100% 2000/2000 [00:29<00:00, 66.95 step/s, accuracy=0.97, loss=0.08, step=592000]\n",
      "Valid: 100% 6944/6944 [00:01<00:00, 5251.15 uttr/s, accuracy=0.86, loss=0.65]\n",
      "Train: 100% 2000/2000 [00:29<00:00, 66.95 step/s, accuracy=0.97, loss=0.25, step=594000]\n",
      "Valid: 100% 6944/6944 [00:01<00:00, 5209.73 uttr/s, accuracy=0.87, loss=0.61]\n",
      "Train: 100% 2000/2000 [00:29<00:00, 66.73 step/s, accuracy=0.97, loss=0.11, step=596000]\n",
      "Valid: 100% 6944/6944 [00:01<00:00, 5318.22 uttr/s, accuracy=0.87, loss=0.63]\n",
      "Train: 100% 2000/2000 [00:30<00:00, 66.43 step/s, accuracy=0.97, loss=0.10, step=598000]\n",
      "Valid: 100% 6944/6944 [00:01<00:00, 5301.36 uttr/s, accuracy=0.86, loss=0.64]\n",
      "Train: 100% 2000/2000 [00:29<00:00, 67.13 step/s, accuracy=0.91, loss=0.19, step=6e+5]  \n",
      "Valid: 100% 6944/6944 [00:01<00:00, 5194.70 uttr/s, accuracy=0.87, loss=0.61]\n",
      "Train:   1% 13/2000 [00:00<00:32, 60.55 step/s, accuracy=0.88, loss=0.37, step=6e+5]"
     ]
    },
    {
     "name": "stdout",
     "output_type": "stream",
     "text": [
      "Step 600000, best model saved. (accuracy=0.8702)\n"
     ]
    },
    {
     "name": "stderr",
     "output_type": "stream",
     "text": [
      "Train: 100% 2000/2000 [00:29<00:00, 67.02 step/s, accuracy=0.94, loss=0.25, step=602000]\n",
      "Valid: 100% 6944/6944 [00:01<00:00, 5330.72 uttr/s, accuracy=0.86, loss=0.64]\n",
      "Train: 100% 2000/2000 [00:29<00:00, 67.26 step/s, accuracy=1.00, loss=0.05, step=604000]\n",
      "Valid: 100% 6944/6944 [00:01<00:00, 5197.07 uttr/s, accuracy=0.86, loss=0.66]\n",
      "Train: 100% 2000/2000 [00:29<00:00, 66.79 step/s, accuracy=0.94, loss=0.27, step=606000]\n",
      "Valid: 100% 6944/6944 [00:01<00:00, 5256.90 uttr/s, accuracy=0.86, loss=0.65]\n",
      "Train: 100% 2000/2000 [00:29<00:00, 66.76 step/s, accuracy=0.94, loss=0.16, step=608000]\n",
      "Valid: 100% 6944/6944 [00:01<00:00, 5197.05 uttr/s, accuracy=0.87, loss=0.62]\n",
      "Train: 100% 2000/2000 [00:30<00:00, 66.49 step/s, accuracy=0.91, loss=0.21, step=610000]\n",
      "Valid: 100% 6944/6944 [00:01<00:00, 5379.32 uttr/s, accuracy=0.87, loss=0.61]\n",
      "Train:   1% 13/2000 [00:00<00:33, 59.85 step/s, accuracy=0.91, loss=0.27, step=610013]"
     ]
    },
    {
     "name": "stdout",
     "output_type": "stream",
     "text": [
      "Step 610000, best model saved. (accuracy=0.8702)\n"
     ]
    },
    {
     "name": "stderr",
     "output_type": "stream",
     "text": [
      "Train: 100% 2000/2000 [00:29<00:00, 66.86 step/s, accuracy=0.91, loss=0.17, step=612000]\n",
      "Valid: 100% 6944/6944 [00:01<00:00, 5329.94 uttr/s, accuracy=0.87, loss=0.61]\n",
      "Train: 100% 2000/2000 [00:29<00:00, 67.32 step/s, accuracy=0.91, loss=0.26, step=614000]\n",
      "Valid: 100% 6944/6944 [00:01<00:00, 5191.67 uttr/s, accuracy=0.87, loss=0.61]\n",
      "Train: 100% 2000/2000 [00:29<00:00, 67.92 step/s, accuracy=0.94, loss=0.23, step=616000]\n",
      "Valid: 100% 6944/6944 [00:01<00:00, 5312.71 uttr/s, accuracy=0.87, loss=0.60]\n",
      "Train: 100% 2000/2000 [00:30<00:00, 65.74 step/s, accuracy=1.00, loss=0.05, step=618000]\n",
      "Valid: 100% 6944/6944 [00:01<00:00, 4998.70 uttr/s, accuracy=0.88, loss=0.55]\n",
      "Train: 100% 2000/2000 [00:32<00:00, 61.37 step/s, accuracy=1.00, loss=0.08, step=620000]\n",
      "Valid: 100% 6944/6944 [00:01<00:00, 5124.54 uttr/s, accuracy=0.87, loss=0.60]\n",
      "Train:   1% 12/2000 [00:00<00:34, 57.58 step/s, accuracy=0.94, loss=0.21, step=620012]"
     ]
    },
    {
     "name": "stdout",
     "output_type": "stream",
     "text": [
      "Step 620000, best model saved. (accuracy=0.8767)\n"
     ]
    },
    {
     "name": "stderr",
     "output_type": "stream",
     "text": [
      "Train: 100% 2000/2000 [00:31<00:00, 62.62 step/s, accuracy=0.97, loss=0.09, step=622000]\n",
      "Valid: 100% 6944/6944 [00:01<00:00, 2508.45 uttr/s, accuracy=0.87, loss=0.63]\n",
      "Train: 100% 2000/2000 [00:31<00:00, 63.76 step/s, accuracy=0.97, loss=0.08, step=624000]\n",
      "Valid: 100% 6944/6944 [00:01<00:00, 5136.20 uttr/s, accuracy=0.87, loss=0.59]\n",
      "Train: 100% 2000/2000 [00:31<00:00, 64.39 step/s, accuracy=0.94, loss=0.22, step=626000]\n",
      "Valid: 100% 6944/6944 [00:01<00:00, 5085.59 uttr/s, accuracy=0.87, loss=0.65]\n",
      "Train: 100% 2000/2000 [00:31<00:00, 65.30 step/s, accuracy=0.97, loss=0.07, step=628000]\n",
      "Valid: 100% 6944/6944 [00:01<00:00, 5114.16 uttr/s, accuracy=0.87, loss=0.62]\n",
      "Train: 100% 2000/2000 [00:31<00:00, 64.27 step/s, accuracy=0.97, loss=0.18, step=630000]\n",
      "Valid: 100% 6944/6944 [00:01<00:00, 4829.96 uttr/s, accuracy=0.87, loss=0.65]\n",
      "Train:   1% 12/2000 [00:00<00:36, 53.73 step/s, accuracy=1.00, loss=0.05, step=630012]"
     ]
    },
    {
     "name": "stdout",
     "output_type": "stream",
     "text": [
      "Step 630000, best model saved. (accuracy=0.8767)\n"
     ]
    },
    {
     "name": "stderr",
     "output_type": "stream",
     "text": [
      "Train: 100% 2000/2000 [00:31<00:00, 64.15 step/s, accuracy=1.00, loss=0.02, step=632000]\n",
      "Valid: 100% 6944/6944 [00:01<00:00, 5166.15 uttr/s, accuracy=0.87, loss=0.61]\n",
      "Train: 100% 2000/2000 [00:31<00:00, 64.26 step/s, accuracy=0.91, loss=0.42, step=634000]\n",
      "Valid: 100% 6944/6944 [00:01<00:00, 5153.10 uttr/s, accuracy=0.88, loss=0.55]\n",
      "Train: 100% 2000/2000 [00:31<00:00, 63.87 step/s, accuracy=0.94, loss=0.13, step=636000]\n",
      "Valid: 100% 6944/6944 [00:01<00:00, 4932.31 uttr/s, accuracy=0.87, loss=0.59]\n",
      "Train: 100% 2000/2000 [00:32<00:00, 63.61 step/s, accuracy=0.94, loss=0.44, step=638000]\n",
      "Valid: 100% 6944/6944 [00:01<00:00, 4831.94 uttr/s, accuracy=0.87, loss=0.59]\n",
      "Train: 100% 2000/2000 [00:32<00:00, 62.39 step/s, accuracy=1.00, loss=0.06, step=640000]\n",
      "Valid: 100% 6944/6944 [00:01<00:00, 4664.87 uttr/s, accuracy=0.88, loss=0.59]\n",
      "Train:   1% 12/2000 [00:00<00:37, 53.70 step/s, accuracy=0.97, loss=0.11, step=640012]"
     ]
    },
    {
     "name": "stdout",
     "output_type": "stream",
     "text": [
      "Step 640000, best model saved. (accuracy=0.8812)\n"
     ]
    },
    {
     "name": "stderr",
     "output_type": "stream",
     "text": [
      "Train: 100% 2000/2000 [00:31<00:00, 63.46 step/s, accuracy=0.91, loss=0.40, step=642000]\n",
      "Valid: 100% 6944/6944 [00:01<00:00, 5037.43 uttr/s, accuracy=0.87, loss=0.60]\n",
      "Train: 100% 2000/2000 [00:31<00:00, 64.28 step/s, accuracy=0.97, loss=0.14, step=644000]\n",
      "Valid: 100% 6944/6944 [00:01<00:00, 5087.92 uttr/s, accuracy=0.88, loss=0.57]\n",
      "Train: 100% 2000/2000 [00:31<00:00, 64.15 step/s, accuracy=0.94, loss=0.14, step=646000]\n",
      "Valid: 100% 6944/6944 [00:01<00:00, 5165.09 uttr/s, accuracy=0.87, loss=0.59]\n",
      "Train: 100% 2000/2000 [00:31<00:00, 64.33 step/s, accuracy=1.00, loss=0.02, step=648000]\n",
      "Valid: 100% 6944/6944 [00:01<00:00, 2522.02 uttr/s, accuracy=0.88, loss=0.61]\n",
      "Train: 100% 2000/2000 [00:31<00:00, 64.22 step/s, accuracy=0.94, loss=0.16, step=650000]\n",
      "Valid: 100% 6944/6944 [00:01<00:00, 2475.67 uttr/s, accuracy=0.88, loss=0.59]\n",
      "Train:   1% 12/2000 [00:00<00:36, 54.45 step/s, accuracy=0.94, loss=0.18, step=650012]"
     ]
    },
    {
     "name": "stdout",
     "output_type": "stream",
     "text": [
      "Step 650000, best model saved. (accuracy=0.8812)\n"
     ]
    },
    {
     "name": "stderr",
     "output_type": "stream",
     "text": [
      "Train: 100% 2000/2000 [00:31<00:00, 63.08 step/s, accuracy=0.91, loss=0.33, step=652000]\n",
      "Valid: 100% 6944/6944 [00:01<00:00, 5077.12 uttr/s, accuracy=0.88, loss=0.56]\n",
      "Train: 100% 2000/2000 [00:31<00:00, 62.21 step/s, accuracy=0.97, loss=0.42, step=654000]\n",
      "Valid: 100% 6944/6944 [00:01<00:00, 5064.70 uttr/s, accuracy=0.88, loss=0.57]\n",
      "Train: 100% 2000/2000 [00:30<00:00, 65.93 step/s, accuracy=1.00, loss=0.03, step=656000]\n",
      "Valid: 100% 6944/6944 [00:01<00:00, 5187.26 uttr/s, accuracy=0.88, loss=0.56]\n",
      "Train: 100% 2000/2000 [00:30<00:00, 66.32 step/s, accuracy=0.97, loss=0.06, step=658000]\n",
      "Valid: 100% 6944/6944 [00:01<00:00, 5213.90 uttr/s, accuracy=0.87, loss=0.61]\n",
      "Train: 100% 2000/2000 [00:30<00:00, 66.36 step/s, accuracy=1.00, loss=0.12, step=660000]\n",
      "Valid: 100% 6944/6944 [00:01<00:00, 5162.29 uttr/s, accuracy=0.87, loss=0.60]\n",
      "Train:   1% 13/2000 [00:00<00:32, 60.23 step/s, accuracy=0.91, loss=0.19, step=660013]"
     ]
    },
    {
     "name": "stdout",
     "output_type": "stream",
     "text": [
      "Step 660000, best model saved. (accuracy=0.8815)\n"
     ]
    },
    {
     "name": "stderr",
     "output_type": "stream",
     "text": [
      "Train: 100% 2000/2000 [00:30<00:00, 66.55 step/s, accuracy=0.94, loss=0.23, step=662000]\n",
      "Valid: 100% 6944/6944 [00:01<00:00, 5238.93 uttr/s, accuracy=0.89, loss=0.57]\n",
      "Train: 100% 2000/2000 [00:30<00:00, 65.99 step/s, accuracy=0.94, loss=0.13, step=664000]\n",
      "Valid: 100% 6944/6944 [00:01<00:00, 5303.63 uttr/s, accuracy=0.88, loss=0.59]\n",
      "Train: 100% 2000/2000 [00:30<00:00, 66.41 step/s, accuracy=0.97, loss=0.13, step=666000]\n",
      "Valid: 100% 6944/6944 [00:01<00:00, 5225.74 uttr/s, accuracy=0.88, loss=0.57]\n",
      "Train: 100% 2000/2000 [00:30<00:00, 66.01 step/s, accuracy=1.00, loss=0.05, step=668000]\n",
      "Valid: 100% 6944/6944 [00:01<00:00, 5208.59 uttr/s, accuracy=0.88, loss=0.60]\n",
      "Train: 100% 2000/2000 [00:30<00:00, 66.29 step/s, accuracy=0.91, loss=0.31, step=670000]\n",
      "Valid: 100% 6944/6944 [00:01<00:00, 5202.77 uttr/s, accuracy=0.88, loss=0.58]\n",
      "Train:   1% 13/2000 [00:00<00:33, 59.54 step/s, accuracy=1.00, loss=0.02, step=670013]"
     ]
    },
    {
     "name": "stdout",
     "output_type": "stream",
     "text": [
      "Step 670000, best model saved. (accuracy=0.8857)\n"
     ]
    },
    {
     "name": "stderr",
     "output_type": "stream",
     "text": [
      "Train: 100% 2000/2000 [00:30<00:00, 66.03 step/s, accuracy=0.97, loss=0.08, step=672000]\n",
      "Valid: 100% 6944/6944 [00:01<00:00, 5122.20 uttr/s, accuracy=0.88, loss=0.60]\n",
      "Train: 100% 2000/2000 [00:30<00:00, 66.21 step/s, accuracy=1.00, loss=0.05, step=674000]\n",
      "Valid: 100% 6944/6944 [00:01<00:00, 5288.48 uttr/s, accuracy=0.88, loss=0.56]\n",
      "Train: 100% 2000/2000 [00:30<00:00, 66.25 step/s, accuracy=1.00, loss=0.04, step=676000]\n",
      "Valid: 100% 6944/6944 [00:01<00:00, 5297.57 uttr/s, accuracy=0.88, loss=0.58]\n",
      "Train: 100% 2000/2000 [00:30<00:00, 66.32 step/s, accuracy=0.97, loss=0.13, step=678000]\n",
      "Valid: 100% 6944/6944 [00:01<00:00, 5330.38 uttr/s, accuracy=0.88, loss=0.58]\n",
      "Train: 100% 2000/2000 [00:30<00:00, 66.18 step/s, accuracy=1.00, loss=0.06, step=680000]\n",
      "Valid: 100% 6944/6944 [00:01<00:00, 5287.92 uttr/s, accuracy=0.87, loss=0.58]\n",
      "Train:   1% 13/2000 [00:00<00:32, 60.89 step/s, accuracy=1.00, loss=0.03, step=680013]"
     ]
    },
    {
     "name": "stdout",
     "output_type": "stream",
     "text": [
      "Step 680000, best model saved. (accuracy=0.8857)\n"
     ]
    },
    {
     "name": "stderr",
     "output_type": "stream",
     "text": [
      "Train: 100% 2000/2000 [00:30<00:00, 66.32 step/s, accuracy=0.94, loss=0.19, step=682000]\n",
      "Valid: 100% 6944/6944 [00:01<00:00, 5335.19 uttr/s, accuracy=0.88, loss=0.57]\n",
      "Train: 100% 2000/2000 [00:30<00:00, 66.12 step/s, accuracy=0.94, loss=0.16, step=684000]\n",
      "Valid: 100% 6944/6944 [00:01<00:00, 5305.99 uttr/s, accuracy=0.88, loss=0.56]\n",
      "Train: 100% 2000/2000 [00:30<00:00, 66.12 step/s, accuracy=0.97, loss=0.14, step=686000]\n",
      "Valid: 100% 6944/6944 [00:01<00:00, 5350.75 uttr/s, accuracy=0.88, loss=0.61]\n",
      "Train: 100% 2000/2000 [00:30<00:00, 66.30 step/s, accuracy=1.00, loss=0.02, step=688000]\n",
      "Valid: 100% 6944/6944 [00:01<00:00, 5343.00 uttr/s, accuracy=0.88, loss=0.57]\n",
      "Train: 100% 2000/2000 [00:30<00:00, 66.46 step/s, accuracy=0.97, loss=0.14, step=690000]\n",
      "Valid: 100% 6944/6944 [00:01<00:00, 5308.41 uttr/s, accuracy=0.88, loss=0.59]\n",
      "Train:   1% 13/2000 [00:00<00:33, 59.69 step/s, accuracy=0.97, loss=0.07, step=690013]"
     ]
    },
    {
     "name": "stdout",
     "output_type": "stream",
     "text": [
      "Step 690000, best model saved. (accuracy=0.8857)\n"
     ]
    },
    {
     "name": "stderr",
     "output_type": "stream",
     "text": [
      "Train: 100% 2000/2000 [00:30<00:00, 66.21 step/s, accuracy=1.00, loss=0.01, step=692000]\n",
      "Valid: 100% 6944/6944 [00:01<00:00, 5256.50 uttr/s, accuracy=0.88, loss=0.58]\n",
      "Train: 100% 2000/2000 [00:30<00:00, 66.44 step/s, accuracy=1.00, loss=0.05, step=694000]\n",
      "Valid: 100% 6944/6944 [00:01<00:00, 5267.20 uttr/s, accuracy=0.88, loss=0.58]\n",
      "Train: 100% 2000/2000 [00:30<00:00, 66.14 step/s, accuracy=1.00, loss=0.03, step=696000]\n",
      "Valid: 100% 6944/6944 [00:01<00:00, 5261.97 uttr/s, accuracy=0.88, loss=0.60]\n",
      "Train: 100% 2000/2000 [00:29<00:00, 66.71 step/s, accuracy=0.97, loss=0.17, step=698000]\n",
      "Valid: 100% 6944/6944 [00:01<00:00, 5258.54 uttr/s, accuracy=0.88, loss=0.57]\n",
      "Train: 100% 2000/2000 [00:29<00:00, 66.67 step/s, accuracy=0.97, loss=0.11, step=7e+5]  \n",
      "Valid: 100% 6944/6944 [00:01<00:00, 5238.34 uttr/s, accuracy=0.88, loss=0.57]\n",
      "Train:   1% 13/2000 [00:00<00:33, 58.61 step/s, accuracy=0.94, loss=0.18, step=7e+5]"
     ]
    },
    {
     "name": "stdout",
     "output_type": "stream",
     "text": [
      "Step 700000, best model saved. (accuracy=0.8857)\n"
     ]
    },
    {
     "name": "stderr",
     "output_type": "stream",
     "text": [
      "Train: 100% 2000/2000 [00:30<00:00, 66.40 step/s, accuracy=1.00, loss=0.09, step=702000]\n",
      "Valid: 100% 6944/6944 [00:01<00:00, 5143.86 uttr/s, accuracy=0.88, loss=0.55]\n",
      "Train: 100% 2000/2000 [00:29<00:00, 66.69 step/s, accuracy=0.94, loss=0.21, step=704000]\n",
      "Valid: 100% 6944/6944 [00:01<00:00, 5231.30 uttr/s, accuracy=0.88, loss=0.56]\n",
      "Train: 100% 2000/2000 [00:30<00:00, 66.60 step/s, accuracy=0.94, loss=0.11, step=706000]\n",
      "Valid: 100% 6944/6944 [00:01<00:00, 5237.39 uttr/s, accuracy=0.88, loss=0.56]\n",
      "Train: 100% 2000/2000 [00:30<00:00, 66.48 step/s, accuracy=1.00, loss=0.02, step=708000]\n",
      "Valid: 100% 6944/6944 [00:01<00:00, 5300.56 uttr/s, accuracy=0.88, loss=0.57]\n",
      "Train: 100% 2000/2000 [00:30<00:00, 66.31 step/s, accuracy=1.00, loss=0.06, step=710000]\n",
      "Valid: 100% 6944/6944 [00:01<00:00, 5170.98 uttr/s, accuracy=0.89, loss=0.55]\n",
      "Train:   1% 13/2000 [00:00<00:32, 60.35 step/s, accuracy=0.94, loss=0.25, step=710013]"
     ]
    },
    {
     "name": "stdout",
     "output_type": "stream",
     "text": [
      "Step 710000, best model saved. (accuracy=0.8857)\n"
     ]
    },
    {
     "name": "stderr",
     "output_type": "stream",
     "text": [
      "Train: 100% 2000/2000 [00:30<00:00, 66.47 step/s, accuracy=0.94, loss=0.25, step=712000]\n",
      "Valid: 100% 6944/6944 [00:01<00:00, 5265.96 uttr/s, accuracy=0.88, loss=0.59]\n",
      "Train: 100% 2000/2000 [00:30<00:00, 66.53 step/s, accuracy=0.94, loss=0.08, step=714000]\n",
      "Valid: 100% 6944/6944 [00:01<00:00, 5248.96 uttr/s, accuracy=0.89, loss=0.52]\n",
      "Train: 100% 2000/2000 [00:30<00:00, 66.23 step/s, accuracy=0.94, loss=0.24, step=716000]\n",
      "Valid: 100% 6944/6944 [00:01<00:00, 5271.34 uttr/s, accuracy=0.89, loss=0.58]\n",
      "Train: 100% 2000/2000 [00:30<00:00, 66.08 step/s, accuracy=1.00, loss=0.03, step=718000]\n",
      "Valid: 100% 6944/6944 [00:01<00:00, 5287.91 uttr/s, accuracy=0.89, loss=0.56]\n",
      "Train: 100% 2000/2000 [00:30<00:00, 66.28 step/s, accuracy=0.97, loss=0.11, step=720000]\n",
      "Valid: 100% 6944/6944 [00:01<00:00, 5410.48 uttr/s, accuracy=0.89, loss=0.57]\n",
      "Train:   1% 13/2000 [00:00<00:32, 60.47 step/s, accuracy=1.00, loss=0.02, step=720013]"
     ]
    },
    {
     "name": "stdout",
     "output_type": "stream",
     "text": [
      "Step 720000, best model saved. (accuracy=0.8903)\n"
     ]
    },
    {
     "name": "stderr",
     "output_type": "stream",
     "text": [
      "Train: 100% 2000/2000 [00:30<00:00, 65.23 step/s, accuracy=0.97, loss=0.08, step=722000]\n",
      "Valid: 100% 6944/6944 [00:01<00:00, 5060.75 uttr/s, accuracy=0.89, loss=0.53]\n",
      "Train: 100% 2000/2000 [00:31<00:00, 64.14 step/s, accuracy=1.00, loss=0.12, step=724000]\n",
      "Valid: 100% 6944/6944 [00:01<00:00, 5007.83 uttr/s, accuracy=0.89, loss=0.54]\n",
      "Train: 100% 2000/2000 [00:31<00:00, 64.03 step/s, accuracy=0.97, loss=0.13, step=726000]\n",
      "Valid: 100% 6944/6944 [00:01<00:00, 5212.35 uttr/s, accuracy=0.88, loss=0.56]\n",
      "Train: 100% 2000/2000 [00:31<00:00, 64.15 step/s, accuracy=1.00, loss=0.03, step=728000]\n",
      "Valid: 100% 6944/6944 [00:01<00:00, 2447.37 uttr/s, accuracy=0.89, loss=0.56]\n",
      "Train: 100% 2000/2000 [00:30<00:00, 64.95 step/s, accuracy=1.00, loss=0.03, step=730000]\n",
      "Valid: 100% 6944/6944 [00:01<00:00, 5178.43 uttr/s, accuracy=0.88, loss=0.57]\n",
      "Train:   1% 12/2000 [00:00<00:37, 53.65 step/s, accuracy=1.00, loss=0.05, step=730012]"
     ]
    },
    {
     "name": "stdout",
     "output_type": "stream",
     "text": [
      "Step 730000, best model saved. (accuracy=0.8920)\n"
     ]
    },
    {
     "name": "stderr",
     "output_type": "stream",
     "text": [
      "Train: 100% 2000/2000 [00:30<00:00, 66.36 step/s, accuracy=0.97, loss=0.10, step=732000]\n",
      "Valid: 100% 6944/6944 [00:01<00:00, 5212.35 uttr/s, accuracy=0.89, loss=0.57]\n",
      "Train: 100% 2000/2000 [00:30<00:00, 65.64 step/s, accuracy=1.00, loss=0.01, step=734000]\n",
      "Valid: 100% 6944/6944 [00:01<00:00, 4957.40 uttr/s, accuracy=0.89, loss=0.53]\n",
      "Train: 100% 2000/2000 [00:30<00:00, 66.60 step/s, accuracy=0.97, loss=0.21, step=736000]\n",
      "Valid: 100% 6944/6944 [00:01<00:00, 5243.02 uttr/s, accuracy=0.89, loss=0.54]\n",
      "Train: 100% 2000/2000 [00:30<00:00, 66.34 step/s, accuracy=0.97, loss=0.21, step=738000]\n",
      "Valid: 100% 6944/6944 [00:01<00:00, 5291.22 uttr/s, accuracy=0.89, loss=0.54]\n",
      "Train: 100% 2000/2000 [00:30<00:00, 66.26 step/s, accuracy=1.00, loss=0.05, step=740000]\n",
      "Valid: 100% 6944/6944 [00:01<00:00, 5311.52 uttr/s, accuracy=0.89, loss=0.55]\n",
      "Train:   1% 12/2000 [00:00<00:35, 55.79 step/s, accuracy=1.00, loss=0.05, step=740012]"
     ]
    },
    {
     "name": "stdout",
     "output_type": "stream",
     "text": [
      "Step 740000, best model saved. (accuracy=0.8949)\n"
     ]
    },
    {
     "name": "stderr",
     "output_type": "stream",
     "text": [
      "Train: 100% 2000/2000 [00:30<00:00, 66.47 step/s, accuracy=0.97, loss=0.13, step=742000]\n",
      "Valid: 100% 6944/6944 [00:01<00:00, 5093.79 uttr/s, accuracy=0.89, loss=0.56]\n",
      "Train: 100% 2000/2000 [00:30<00:00, 66.41 step/s, accuracy=0.97, loss=0.14, step=744000]\n",
      "Valid: 100% 6944/6944 [00:01<00:00, 5359.36 uttr/s, accuracy=0.89, loss=0.52]\n",
      "Train: 100% 2000/2000 [00:30<00:00, 66.45 step/s, accuracy=1.00, loss=0.05, step=746000]\n",
      "Valid: 100% 6944/6944 [00:01<00:00, 5270.35 uttr/s, accuracy=0.89, loss=0.54]\n",
      "Train: 100% 2000/2000 [00:30<00:00, 66.27 step/s, accuracy=0.97, loss=0.10, step=748000]\n",
      "Valid: 100% 6944/6944 [00:01<00:00, 5231.02 uttr/s, accuracy=0.89, loss=0.54]\n",
      "Train: 100% 2000/2000 [00:30<00:00, 66.27 step/s, accuracy=0.94, loss=0.08, step=750000]\n",
      "Valid: 100% 6944/6944 [00:01<00:00, 5254.77 uttr/s, accuracy=0.89, loss=0.54]\n",
      "Train:   1% 13/2000 [00:00<00:32, 60.35 step/s, accuracy=0.97, loss=0.06, step=750013]"
     ]
    },
    {
     "name": "stdout",
     "output_type": "stream",
     "text": [
      "Step 750000, best model saved. (accuracy=0.8949)\n"
     ]
    },
    {
     "name": "stderr",
     "output_type": "stream",
     "text": [
      "Train: 100% 2000/2000 [00:30<00:00, 66.18 step/s, accuracy=0.94, loss=0.29, step=752000]\n",
      "Valid: 100% 6944/6944 [00:01<00:00, 5216.44 uttr/s, accuracy=0.89, loss=0.53]\n",
      "Train: 100% 2000/2000 [00:30<00:00, 65.88 step/s, accuracy=1.00, loss=0.05, step=754000]\n",
      "Valid: 100% 6944/6944 [00:01<00:00, 5222.96 uttr/s, accuracy=0.90, loss=0.53]\n",
      "Train: 100% 2000/2000 [00:30<00:00, 66.13 step/s, accuracy=0.97, loss=0.09, step=756000]\n",
      "Valid: 100% 6944/6944 [00:01<00:00, 5136.14 uttr/s, accuracy=0.89, loss=0.52]\n",
      "Train: 100% 2000/2000 [00:30<00:00, 66.35 step/s, accuracy=1.00, loss=0.03, step=758000]\n",
      "Valid: 100% 6944/6944 [00:01<00:00, 5296.01 uttr/s, accuracy=0.90, loss=0.51]\n",
      "Train: 100% 2000/2000 [00:30<00:00, 66.40 step/s, accuracy=0.94, loss=0.10, step=760000]\n",
      "Valid: 100% 6944/6944 [00:01<00:00, 5305.28 uttr/s, accuracy=0.89, loss=0.54]\n",
      "Train:   1% 12/2000 [00:00<00:35, 55.41 step/s, accuracy=1.00, loss=0.02, step=760012]"
     ]
    },
    {
     "name": "stdout",
     "output_type": "stream",
     "text": [
      "Step 760000, best model saved. (accuracy=0.8965)\n"
     ]
    },
    {
     "name": "stderr",
     "output_type": "stream",
     "text": [
      "Train: 100% 2000/2000 [00:30<00:00, 66.44 step/s, accuracy=1.00, loss=0.01, step=762000]\n",
      "Valid: 100% 6944/6944 [00:01<00:00, 5323.07 uttr/s, accuracy=0.90, loss=0.51]\n",
      "Train: 100% 2000/2000 [00:29<00:00, 66.88 step/s, accuracy=1.00, loss=0.04, step=764000]\n",
      "Valid: 100% 6944/6944 [00:01<00:00, 5211.24 uttr/s, accuracy=0.90, loss=0.55]\n",
      "Train: 100% 2000/2000 [00:29<00:00, 66.92 step/s, accuracy=1.00, loss=0.02, step=766000]\n",
      "Valid: 100% 6944/6944 [00:01<00:00, 5232.54 uttr/s, accuracy=0.90, loss=0.52]\n",
      "Train: 100% 2000/2000 [00:30<00:00, 66.64 step/s, accuracy=1.00, loss=0.02, step=768000]\n",
      "Valid: 100% 6944/6944 [00:01<00:00, 5202.21 uttr/s, accuracy=0.89, loss=0.55]\n",
      "Train: 100% 2000/2000 [00:29<00:00, 66.92 step/s, accuracy=1.00, loss=0.01, step=770000]\n",
      "Valid: 100% 6944/6944 [00:01<00:00, 5300.72 uttr/s, accuracy=0.90, loss=0.54]\n",
      "Train:   1% 13/2000 [00:00<00:32, 61.11 step/s, accuracy=1.00, loss=0.01, step=770013]"
     ]
    },
    {
     "name": "stdout",
     "output_type": "stream",
     "text": [
      "Step 770000, best model saved. (accuracy=0.8993)\n"
     ]
    },
    {
     "name": "stderr",
     "output_type": "stream",
     "text": [
      "Train: 100% 2000/2000 [00:29<00:00, 67.02 step/s, accuracy=1.00, loss=0.04, step=772000]\n",
      "Valid: 100% 6944/6944 [00:01<00:00, 5259.28 uttr/s, accuracy=0.89, loss=0.55]\n",
      "Train: 100% 2000/2000 [00:29<00:00, 66.75 step/s, accuracy=0.97, loss=0.06, step=774000]\n",
      "Valid: 100% 6944/6944 [00:01<00:00, 5327.30 uttr/s, accuracy=0.90, loss=0.52]\n",
      "Train: 100% 2000/2000 [00:30<00:00, 66.59 step/s, accuracy=1.00, loss=0.01, step=776000]\n",
      "Valid: 100% 6944/6944 [00:01<00:00, 5167.92 uttr/s, accuracy=0.89, loss=0.56]\n",
      "Train: 100% 2000/2000 [00:30<00:00, 66.54 step/s, accuracy=1.00, loss=0.04, step=778000]\n",
      "Valid: 100% 6944/6944 [00:01<00:00, 5283.02 uttr/s, accuracy=0.90, loss=0.51]\n",
      "Train: 100% 2000/2000 [00:29<00:00, 66.67 step/s, accuracy=1.00, loss=0.03, step=780000]\n",
      "Valid: 100% 6944/6944 [00:01<00:00, 5327.27 uttr/s, accuracy=0.89, loss=0.56]\n",
      "Train:   1% 13/2000 [00:00<00:32, 60.55 step/s, accuracy=1.00, loss=0.02, step=780013]"
     ]
    },
    {
     "name": "stdout",
     "output_type": "stream",
     "text": [
      "Step 780000, best model saved. (accuracy=0.9008)\n"
     ]
    },
    {
     "name": "stderr",
     "output_type": "stream",
     "text": [
      "Train: 100% 2000/2000 [00:30<00:00, 66.40 step/s, accuracy=1.00, loss=0.02, step=782000]\n",
      "Valid: 100% 6944/6944 [00:01<00:00, 5284.66 uttr/s, accuracy=0.89, loss=0.54]\n",
      "Train: 100% 2000/2000 [00:30<00:00, 66.33 step/s, accuracy=1.00, loss=0.01, step=784000]\n",
      "Valid: 100% 6944/6944 [00:01<00:00, 5269.41 uttr/s, accuracy=0.90, loss=0.53]\n",
      "Train: 100% 2000/2000 [00:29<00:00, 66.71 step/s, accuracy=1.00, loss=0.03, step=786000]\n",
      "Valid: 100% 6944/6944 [00:01<00:00, 5326.44 uttr/s, accuracy=0.90, loss=0.53]\n",
      "Train: 100% 2000/2000 [00:30<00:00, 66.61 step/s, accuracy=1.00, loss=0.01, step=788000]\n",
      "Valid: 100% 6944/6944 [00:01<00:00, 5100.04 uttr/s, accuracy=0.90, loss=0.50]\n",
      "Train: 100% 2000/2000 [00:29<00:00, 66.71 step/s, accuracy=1.00, loss=0.08, step=790000]\n",
      "Valid: 100% 6944/6944 [00:01<00:00, 5227.30 uttr/s, accuracy=0.90, loss=0.52]\n",
      "Train:   1% 13/2000 [00:00<00:33, 59.59 step/s, accuracy=1.00, loss=0.06, step=790013]"
     ]
    },
    {
     "name": "stdout",
     "output_type": "stream",
     "text": [
      "Step 790000, best model saved. (accuracy=0.9008)\n"
     ]
    },
    {
     "name": "stderr",
     "output_type": "stream",
     "text": [
      "Train: 100% 2000/2000 [00:30<00:00, 66.72 step/s, accuracy=1.00, loss=0.01, step=792000]\n",
      "Valid: 100% 6944/6944 [00:01<00:00, 5176.85 uttr/s, accuracy=0.90, loss=0.52]\n",
      "Train: 100% 2000/2000 [00:30<00:00, 67.16 step/s, accuracy=0.94, loss=0.22, step=794000]\n",
      "Valid: 100% 6944/6944 [00:01<00:00, 5149.73 uttr/s, accuracy=0.90, loss=0.52]\n",
      "Train: 100% 2000/2000 [00:30<00:00, 66.43 step/s, accuracy=0.97, loss=0.17, step=796000]\n",
      "Valid: 100% 6944/6944 [00:01<00:00, 5303.96 uttr/s, accuracy=0.90, loss=0.51]\n",
      "Train: 100% 2000/2000 [00:29<00:00, 66.77 step/s, accuracy=0.94, loss=0.12, step=798000]\n",
      "Valid: 100% 6944/6944 [00:01<00:00, 5300.95 uttr/s, accuracy=0.90, loss=0.52]\n",
      "Train: 100% 2000/2000 [00:30<00:00, 66.39 step/s, accuracy=0.97, loss=0.10, step=8e+5]  \n",
      "Valid: 100% 6944/6944 [00:01<00:00, 5331.36 uttr/s, accuracy=0.90, loss=0.52]\n",
      "Train:   1% 13/2000 [00:00<00:32, 60.54 step/s, accuracy=1.00, loss=0.04, step=8e+5]"
     ]
    },
    {
     "name": "stdout",
     "output_type": "stream",
     "text": [
      "Step 800000, best model saved. (accuracy=0.9008)\n"
     ]
    },
    {
     "name": "stderr",
     "output_type": "stream",
     "text": [
      "Train: 100% 2000/2000 [00:30<00:00, 66.54 step/s, accuracy=1.00, loss=0.02, step=802000]\n",
      "Valid: 100% 6944/6944 [00:01<00:00, 5251.33 uttr/s, accuracy=0.91, loss=0.48]\n",
      "Train: 100% 2000/2000 [00:30<00:00, 66.66 step/s, accuracy=0.97, loss=0.11, step=804000]\n",
      "Valid: 100% 6944/6944 [00:01<00:00, 5257.84 uttr/s, accuracy=0.89, loss=0.56]\n",
      "Train: 100% 2000/2000 [00:29<00:00, 66.71 step/s, accuracy=0.97, loss=0.07, step=806000]\n",
      "Valid: 100% 6944/6944 [00:01<00:00, 5310.27 uttr/s, accuracy=0.90, loss=0.51]\n",
      "Train: 100% 2000/2000 [00:29<00:00, 67.01 step/s, accuracy=1.00, loss=0.01, step=808000]\n",
      "Valid: 100% 6944/6944 [00:01<00:00, 5263.62 uttr/s, accuracy=0.90, loss=0.53]\n",
      "Train: 100% 2000/2000 [00:29<00:00, 66.25 step/s, accuracy=0.97, loss=0.07, step=810000]\n",
      "Valid: 100% 6944/6944 [00:01<00:00, 5417.72 uttr/s, accuracy=0.90, loss=0.52]\n",
      "Train:   1% 13/2000 [00:00<00:33, 59.60 step/s, accuracy=0.94, loss=0.08, step=810013]"
     ]
    },
    {
     "name": "stdout",
     "output_type": "stream",
     "text": [
      "Step 810000, best model saved. (accuracy=0.9051)\n"
     ]
    },
    {
     "name": "stderr",
     "output_type": "stream",
     "text": [
      "Train: 100% 2000/2000 [00:30<00:00, 64.93 step/s, accuracy=0.97, loss=0.10, step=812000]\n",
      "Valid: 100% 6944/6944 [00:01<00:00, 5082.75 uttr/s, accuracy=0.91, loss=0.49]\n",
      "Train: 100% 2000/2000 [00:31<00:00, 45.28 step/s, accuracy=0.94, loss=0.11, step=814000]\n",
      "Valid: 100% 6944/6944 [00:01<00:00, 5119.02 uttr/s, accuracy=0.90, loss=0.49]\n",
      "Train: 100% 2000/2000 [00:31<00:00, 64.26 step/s, accuracy=1.00, loss=0.01, step=816000]\n",
      "Valid: 100% 6944/6944 [00:01<00:00, 5194.74 uttr/s, accuracy=0.90, loss=0.49]\n",
      "Train: 100% 2000/2000 [00:31<00:00, 63.80 step/s, accuracy=1.00, loss=0.02, step=818000]\n",
      "Valid: 100% 6944/6944 [00:01<00:00, 4790.18 uttr/s, accuracy=0.90, loss=0.52]\n",
      "Train: 100% 2000/2000 [00:31<00:00, 64.02 step/s, accuracy=0.94, loss=0.17, step=820000]\n",
      "Valid: 100% 6944/6944 [00:01<00:00, 2594.80 uttr/s, accuracy=0.90, loss=0.51]\n",
      "Train:   1% 13/2000 [00:00<00:33, 59.01 step/s, accuracy=0.97, loss=0.06, step=820013]"
     ]
    },
    {
     "name": "stdout",
     "output_type": "stream",
     "text": [
      "Step 820000, best model saved. (accuracy=0.9052)\n"
     ]
    },
    {
     "name": "stderr",
     "output_type": "stream",
     "text": [
      "Train: 100% 2000/2000 [00:31<00:00, 64.28 step/s, accuracy=1.00, loss=0.02, step=822000]\n",
      "Valid: 100% 6944/6944 [00:01<00:00, 5057.03 uttr/s, accuracy=0.91, loss=0.49]\n",
      "Train: 100% 2000/2000 [00:31<00:00, 64.22 step/s, accuracy=1.00, loss=0.04, step=824000]\n",
      "Valid: 100% 6944/6944 [00:01<00:00, 5102.57 uttr/s, accuracy=0.90, loss=0.51]\n",
      "Train: 100% 2000/2000 [00:31<00:00, 64.27 step/s, accuracy=0.97, loss=0.10, step=826000]\n",
      "Valid: 100% 6944/6944 [00:01<00:00, 5054.55 uttr/s, accuracy=0.90, loss=0.54]\n",
      "Train: 100% 2000/2000 [00:31<00:00, 64.20 step/s, accuracy=0.97, loss=0.04, step=828000]\n",
      "Valid: 100% 6944/6944 [00:01<00:00, 5006.88 uttr/s, accuracy=0.90, loss=0.51]\n",
      "Train: 100% 2000/2000 [00:31<00:00, 64.01 step/s, accuracy=1.00, loss=0.04, step=830000]\n",
      "Valid: 100% 6944/6944 [00:01<00:00, 5024.48 uttr/s, accuracy=0.90, loss=0.52]\n",
      "Train:   1% 12/2000 [00:00<00:37, 53.40 step/s, accuracy=1.00, loss=0.01, step=830012]"
     ]
    },
    {
     "name": "stdout",
     "output_type": "stream",
     "text": [
      "Step 830000, best model saved. (accuracy=0.9077)\n"
     ]
    },
    {
     "name": "stderr",
     "output_type": "stream",
     "text": [
      "Train: 100% 2000/2000 [00:31<00:00, 63.82 step/s, accuracy=1.00, loss=0.04, step=832000]\n",
      "Valid: 100% 6944/6944 [00:01<00:00, 5029.12 uttr/s, accuracy=0.90, loss=0.53]\n",
      "Train: 100% 2000/2000 [00:31<00:00, 64.34 step/s, accuracy=1.00, loss=0.03, step=834000]\n",
      "Valid: 100% 6944/6944 [00:01<00:00, 5097.59 uttr/s, accuracy=0.90, loss=0.51]\n",
      "Train: 100% 2000/2000 [00:31<00:00, 63.95 step/s, accuracy=0.97, loss=0.06, step=836000]\n",
      "Valid: 100% 6944/6944 [00:01<00:00, 2480.62 uttr/s, accuracy=0.90, loss=0.49]\n",
      "Train: 100% 2000/2000 [00:31<00:00, 64.08 step/s, accuracy=1.00, loss=0.01, step=838000]\n",
      "Valid: 100% 6944/6944 [00:01<00:00, 5138.39 uttr/s, accuracy=0.90, loss=0.50]\n",
      "Train: 100% 2000/2000 [00:31<00:00, 63.57 step/s, accuracy=1.00, loss=0.02, step=840000]\n",
      "Valid: 100% 6944/6944 [00:01<00:00, 2489.23 uttr/s, accuracy=0.91, loss=0.50]\n",
      "Train:   1% 12/2000 [00:00<00:35, 55.29 step/s, accuracy=1.00, loss=0.02, step=840012]"
     ]
    },
    {
     "name": "stdout",
     "output_type": "stream",
     "text": [
      "Step 840000, best model saved. (accuracy=0.9077)\n"
     ]
    },
    {
     "name": "stderr",
     "output_type": "stream",
     "text": [
      "Train: 100% 2000/2000 [00:31<00:00, 63.63 step/s, accuracy=1.00, loss=0.03, step=842000]\n",
      "Valid: 100% 6944/6944 [00:01<00:00, 5088.11 uttr/s, accuracy=0.90, loss=0.52]\n",
      "Train: 100% 2000/2000 [00:31<00:00, 64.02 step/s, accuracy=1.00, loss=0.03, step=844000]\n",
      "Valid: 100% 6944/6944 [00:01<00:00, 5050.21 uttr/s, accuracy=0.90, loss=0.51]\n",
      "Train: 100% 2000/2000 [00:31<00:00, 64.22 step/s, accuracy=0.97, loss=0.09, step=846000]\n",
      "Valid: 100% 6944/6944 [00:01<00:00, 5065.74 uttr/s, accuracy=0.91, loss=0.51]\n",
      "Train: 100% 2000/2000 [00:31<00:00, 64.14 step/s, accuracy=1.00, loss=0.06, step=848000]\n",
      "Valid: 100% 6944/6944 [00:01<00:00, 5049.09 uttr/s, accuracy=0.90, loss=0.51]\n",
      "Train: 100% 2000/2000 [00:31<00:00, 63.90 step/s, accuracy=1.00, loss=0.01, step=850000]\n",
      "Valid: 100% 6944/6944 [00:01<00:00, 2497.40 uttr/s, accuracy=0.90, loss=0.52]\n",
      "Train:   1% 12/2000 [00:00<00:35, 55.85 step/s, accuracy=1.00, loss=0.00, step=850012]"
     ]
    },
    {
     "name": "stdout",
     "output_type": "stream",
     "text": [
      "Step 850000, best model saved. (accuracy=0.9077)\n"
     ]
    },
    {
     "name": "stderr",
     "output_type": "stream",
     "text": [
      "Train: 100% 2000/2000 [00:31<00:00, 64.31 step/s, accuracy=1.00, loss=0.00, step=852000]\n",
      "Valid: 100% 6944/6944 [00:01<00:00, 5030.81 uttr/s, accuracy=0.90, loss=0.51]\n",
      "Train: 100% 2000/2000 [00:31<00:00, 64.02 step/s, accuracy=0.97, loss=0.05, step=854000]\n",
      "Valid: 100% 6944/6944 [00:01<00:00, 5107.40 uttr/s, accuracy=0.91, loss=0.51]\n",
      "Train: 100% 2000/2000 [00:31<00:00, 64.07 step/s, accuracy=0.97, loss=0.06, step=856000]\n",
      "Valid: 100% 6944/6944 [00:01<00:00, 5075.94 uttr/s, accuracy=0.91, loss=0.49]\n",
      "Train: 100% 2000/2000 [00:31<00:00, 64.11 step/s, accuracy=1.00, loss=0.01, step=858000]\n",
      "Valid: 100% 6944/6944 [00:01<00:00, 2552.55 uttr/s, accuracy=0.90, loss=0.53]\n",
      "Train: 100% 2000/2000 [00:31<00:00, 63.85 step/s, accuracy=1.00, loss=0.02, step=860000]\n",
      "Valid: 100% 6944/6944 [00:01<00:00, 5069.82 uttr/s, accuracy=0.91, loss=0.51]\n",
      "Train:   1% 12/2000 [00:00<00:36, 53.99 step/s, accuracy=1.00, loss=0.02, step=860012]"
     ]
    },
    {
     "name": "stdout",
     "output_type": "stream",
     "text": [
      "Step 860000, best model saved. (accuracy=0.9077)\n"
     ]
    },
    {
     "name": "stderr",
     "output_type": "stream",
     "text": [
      "Train: 100% 2000/2000 [00:31<00:00, 64.21 step/s, accuracy=1.00, loss=0.04, step=862000]\n",
      "Valid: 100% 6944/6944 [00:01<00:00, 5017.30 uttr/s, accuracy=0.91, loss=0.50]\n",
      "Train: 100% 2000/2000 [00:31<00:00, 64.23 step/s, accuracy=1.00, loss=0.00, step=864000]\n",
      "Valid: 100% 6944/6944 [00:01<00:00, 2504.60 uttr/s, accuracy=0.91, loss=0.51]\n",
      "Train: 100% 2000/2000 [00:31<00:00, 64.07 step/s, accuracy=1.00, loss=0.00, step=866000]\n",
      "Valid: 100% 6944/6944 [00:01<00:00, 5086.05 uttr/s, accuracy=0.91, loss=0.47]\n",
      "Train: 100% 2000/2000 [00:31<00:00, 63.78 step/s, accuracy=0.97, loss=0.07, step=868000]\n",
      "Valid: 100% 6944/6944 [00:01<00:00, 5182.55 uttr/s, accuracy=0.91, loss=0.48]\n",
      "Train: 100% 2000/2000 [00:31<00:00, 63.75 step/s, accuracy=0.97, loss=0.06, step=870000]\n",
      "Valid: 100% 6944/6944 [00:01<00:00, 5071.29 uttr/s, accuracy=0.91, loss=0.48]\n",
      "Train:   1% 12/2000 [00:00<00:36, 54.91 step/s, accuracy=1.00, loss=0.02, step=870012]"
     ]
    },
    {
     "name": "stdout",
     "output_type": "stream",
     "text": [
      "Step 870000, best model saved. (accuracy=0.9099)\n"
     ]
    },
    {
     "name": "stderr",
     "output_type": "stream",
     "text": [
      "Train: 100% 2000/2000 [00:31<00:00, 63.77 step/s, accuracy=0.94, loss=0.13, step=872000]\n",
      "Valid: 100% 6944/6944 [00:01<00:00, 5141.80 uttr/s, accuracy=0.90, loss=0.52]\n",
      "Train: 100% 2000/2000 [00:31<00:00, 63.99 step/s, accuracy=1.00, loss=0.02, step=874000]\n",
      "Valid: 100% 6944/6944 [00:01<00:00, 5085.74 uttr/s, accuracy=0.91, loss=0.50]\n",
      "Train: 100% 2000/2000 [00:31<00:00, 63.88 step/s, accuracy=0.94, loss=0.09, step=876000]\n",
      "Valid: 100% 6944/6944 [00:01<00:00, 5098.01 uttr/s, accuracy=0.90, loss=0.53]\n",
      "Train: 100% 2000/2000 [00:31<00:00, 64.37 step/s, accuracy=0.97, loss=0.05, step=878000]\n",
      "Valid: 100% 6944/6944 [00:01<00:00, 2465.42 uttr/s, accuracy=0.91, loss=0.48]\n",
      "Train: 100% 2000/2000 [00:31<00:00, 63.90 step/s, accuracy=0.97, loss=0.05, step=880000]\n",
      "Valid: 100% 6944/6944 [00:01<00:00, 5039.07 uttr/s, accuracy=0.91, loss=0.50]\n",
      "Train:   1% 12/2000 [00:00<00:35, 56.53 step/s, accuracy=1.00, loss=0.01, step=880012]"
     ]
    },
    {
     "name": "stdout",
     "output_type": "stream",
     "text": [
      "Step 880000, best model saved. (accuracy=0.9099)\n"
     ]
    },
    {
     "name": "stderr",
     "output_type": "stream",
     "text": [
      "Train: 100% 2000/2000 [00:31<00:00, 64.01 step/s, accuracy=1.00, loss=0.02, step=882000]\n",
      "Valid: 100% 6944/6944 [00:01<00:00, 5058.67 uttr/s, accuracy=0.91, loss=0.49]\n",
      "Train: 100% 2000/2000 [00:31<00:00, 64.22 step/s, accuracy=1.00, loss=0.01, step=884000]\n",
      "Valid: 100% 6944/6944 [00:01<00:00, 5151.83 uttr/s, accuracy=0.91, loss=0.47]\n",
      "Train: 100% 2000/2000 [00:31<00:00, 64.14 step/s, accuracy=1.00, loss=0.01, step=886000]\n",
      "Valid: 100% 6944/6944 [00:01<00:00, 5204.58 uttr/s, accuracy=0.91, loss=0.47]\n",
      "Train: 100% 2000/2000 [00:31<00:00, 64.29 step/s, accuracy=1.00, loss=0.01, step=888000]\n",
      "Valid: 100% 6944/6944 [00:01<00:00, 5126.62 uttr/s, accuracy=0.91, loss=0.48]\n",
      "Train: 100% 2000/2000 [00:31<00:00, 65.32 step/s, accuracy=0.97, loss=0.07, step=890000]\n",
      "Valid: 100% 6944/6944 [00:01<00:00, 5087.70 uttr/s, accuracy=0.91, loss=0.52]\n",
      "Train:   1% 12/2000 [00:00<00:36, 54.22 step/s, accuracy=0.97, loss=0.06, step=890012]"
     ]
    },
    {
     "name": "stdout",
     "output_type": "stream",
     "text": [
      "Step 890000, best model saved. (accuracy=0.9104)\n"
     ]
    },
    {
     "name": "stderr",
     "output_type": "stream",
     "text": [
      "Train: 100% 2000/2000 [00:31<00:00, 63.86 step/s, accuracy=1.00, loss=0.01, step=892000]\n",
      "Valid: 100% 6944/6944 [00:01<00:00, 4882.66 uttr/s, accuracy=0.91, loss=0.48]\n",
      "Train: 100% 2000/2000 [00:31<00:00, 64.15 step/s, accuracy=1.00, loss=0.01, step=894000]\n",
      "Valid: 100% 6944/6944 [00:01<00:00, 5130.52 uttr/s, accuracy=0.91, loss=0.49]\n",
      "Train: 100% 2000/2000 [00:31<00:00, 63.96 step/s, accuracy=1.00, loss=0.03, step=896000]\n",
      "Valid: 100% 6944/6944 [00:01<00:00, 5391.87 uttr/s, accuracy=0.91, loss=0.51]\n",
      "Train: 100% 2000/2000 [00:31<00:00, 64.13 step/s, accuracy=1.00, loss=0.03, step=898000]\n",
      "Valid: 100% 6944/6944 [00:01<00:00, 5058.39 uttr/s, accuracy=0.90, loss=0.51]\n",
      "Train: 100% 2000/2000 [00:31<00:00, 63.50 step/s, accuracy=1.00, loss=0.00, step=9e+5]  \n",
      "Valid: 100% 6944/6944 [00:01<00:00, 5135.48 uttr/s, accuracy=0.91, loss=0.48]\n",
      "Train:   1% 13/2000 [00:00<00:34, 58.26 step/s, accuracy=1.00, loss=0.02, step=9e+5]"
     ]
    },
    {
     "name": "stdout",
     "output_type": "stream",
     "text": [
      "Step 900000, best model saved. (accuracy=0.9113)\n"
     ]
    },
    {
     "name": "stderr",
     "output_type": "stream",
     "text": [
      "Train: 100% 2000/2000 [00:31<00:00, 64.79 step/s, accuracy=0.94, loss=0.06, step=902000]\n",
      "Valid: 100% 6944/6944 [00:01<00:00, 5027.96 uttr/s, accuracy=0.91, loss=0.48]\n",
      "Train: 100% 2000/2000 [00:31<00:00, 63.82 step/s, accuracy=1.00, loss=0.01, step=904000]\n",
      "Valid: 100% 6944/6944 [00:01<00:00, 5111.41 uttr/s, accuracy=0.91, loss=0.49]\n",
      "Train: 100% 2000/2000 [00:31<00:00, 63.94 step/s, accuracy=1.00, loss=0.02, step=906000]\n",
      "Valid: 100% 6944/6944 [00:01<00:00, 5015.20 uttr/s, accuracy=0.91, loss=0.47]\n",
      "Train: 100% 2000/2000 [00:31<00:00, 63.52 step/s, accuracy=0.97, loss=0.06, step=908000]\n",
      "Valid: 100% 6944/6944 [00:01<00:00, 5143.64 uttr/s, accuracy=0.91, loss=0.49]\n",
      "Train: 100% 2000/2000 [00:31<00:00, 63.62 step/s, accuracy=1.00, loss=0.02, step=910000]\n",
      "Valid: 100% 6944/6944 [00:01<00:00, 5126.53 uttr/s, accuracy=0.91, loss=0.50]\n",
      "Train:   1% 12/2000 [00:00<00:36, 54.62 step/s, accuracy=1.00, loss=0.04, step=910012]"
     ]
    },
    {
     "name": "stdout",
     "output_type": "stream",
     "text": [
      "Step 910000, best model saved. (accuracy=0.9113)\n"
     ]
    },
    {
     "name": "stderr",
     "output_type": "stream",
     "text": [
      "Train: 100% 2000/2000 [00:31<00:00, 64.21 step/s, accuracy=1.00, loss=0.04, step=912000]\n",
      "Valid: 100% 6944/6944 [00:01<00:00, 5073.86 uttr/s, accuracy=0.91, loss=0.48]\n",
      "Train: 100% 2000/2000 [00:31<00:00, 64.29 step/s, accuracy=1.00, loss=0.01, step=914000]\n",
      "Valid: 100% 6944/6944 [00:01<00:00, 5120.43 uttr/s, accuracy=0.91, loss=0.48]\n",
      "Train: 100% 2000/2000 [00:31<00:00, 65.30 step/s, accuracy=1.00, loss=0.01, step=916000]\n",
      "Valid: 100% 6944/6944 [00:01<00:00, 5018.87 uttr/s, accuracy=0.91, loss=0.46]\n",
      "Train: 100% 2000/2000 [00:31<00:00, 64.34 step/s, accuracy=1.00, loss=0.01, step=918000]\n",
      "Valid: 100% 6944/6944 [00:01<00:00, 5098.64 uttr/s, accuracy=0.91, loss=0.48]\n",
      "Train: 100% 2000/2000 [00:31<00:00, 63.91 step/s, accuracy=1.00, loss=0.01, step=920000]\n",
      "Valid: 100% 6944/6944 [00:01<00:00, 5026.70 uttr/s, accuracy=0.91, loss=0.47]\n",
      "Train:   1% 13/2000 [00:00<00:32, 60.36 step/s, accuracy=1.00, loss=0.00, step=920013]"
     ]
    },
    {
     "name": "stdout",
     "output_type": "stream",
     "text": [
      "Step 920000, best model saved. (accuracy=0.9136)\n"
     ]
    },
    {
     "name": "stderr",
     "output_type": "stream",
     "text": [
      "Train: 100% 2000/2000 [00:31<00:00, 64.39 step/s, accuracy=1.00, loss=0.01, step=922000]\n",
      "Valid: 100% 6944/6944 [00:01<00:00, 5056.61 uttr/s, accuracy=0.91, loss=0.49]\n",
      "Train: 100% 2000/2000 [00:31<00:00, 64.12 step/s, accuracy=1.00, loss=0.03, step=924000]\n",
      "Valid: 100% 6944/6944 [00:01<00:00, 5135.35 uttr/s, accuracy=0.91, loss=0.47]\n",
      "Train: 100% 2000/2000 [00:31<00:00, 63.89 step/s, accuracy=1.00, loss=0.01, step=926000]\n",
      "Valid: 100% 6944/6944 [00:01<00:00, 5091.09 uttr/s, accuracy=0.91, loss=0.49]\n",
      "Train: 100% 2000/2000 [00:31<00:00, 63.91 step/s, accuracy=1.00, loss=0.02, step=928000]\n",
      "Valid: 100% 6944/6944 [00:01<00:00, 5061.13 uttr/s, accuracy=0.91, loss=0.47]\n",
      "Train: 100% 2000/2000 [00:31<00:00, 63.80 step/s, accuracy=0.97, loss=0.04, step=930000]\n",
      "Valid: 100% 6944/6944 [00:01<00:00, 5215.45 uttr/s, accuracy=0.91, loss=0.50]\n",
      "Train:   1% 12/2000 [00:00<00:37, 53.47 step/s, accuracy=1.00, loss=0.01, step=930012]"
     ]
    },
    {
     "name": "stdout",
     "output_type": "stream",
     "text": [
      "Step 930000, best model saved. (accuracy=0.9149)\n"
     ]
    },
    {
     "name": "stderr",
     "output_type": "stream",
     "text": [
      "Train: 100% 2000/2000 [00:31<00:00, 63.97 step/s, accuracy=1.00, loss=0.01, step=932000]\n",
      "Valid: 100% 6944/6944 [00:01<00:00, 2438.83 uttr/s, accuracy=0.91, loss=0.46]\n",
      "Train: 100% 2000/2000 [00:31<00:00, 63.46 step/s, accuracy=1.00, loss=0.00, step=934000]\n",
      "Valid: 100% 6944/6944 [00:01<00:00, 5040.84 uttr/s, accuracy=0.91, loss=0.51]\n",
      "Train: 100% 2000/2000 [00:31<00:00, 63.86 step/s, accuracy=1.00, loss=0.01, step=936000]\n",
      "Valid: 100% 6944/6944 [00:01<00:00, 5123.35 uttr/s, accuracy=0.92, loss=0.46]\n",
      "Train: 100% 2000/2000 [00:31<00:00, 63.94 step/s, accuracy=1.00, loss=0.03, step=938000]\n",
      "Valid: 100% 6944/6944 [00:01<00:00, 5088.63 uttr/s, accuracy=0.91, loss=0.47]\n",
      "Train: 100% 2000/2000 [00:31<00:00, 63.95 step/s, accuracy=0.97, loss=0.26, step=940000]\n",
      "Valid: 100% 6944/6944 [00:01<00:00, 4963.28 uttr/s, accuracy=0.91, loss=0.48]\n",
      "Train:   1% 13/2000 [00:00<00:33, 58.85 step/s, accuracy=1.00, loss=0.02, step=940013]"
     ]
    },
    {
     "name": "stdout",
     "output_type": "stream",
     "text": [
      "Step 940000, best model saved. (accuracy=0.9179)\n"
     ]
    },
    {
     "name": "stderr",
     "output_type": "stream",
     "text": [
      "Train: 100% 2000/2000 [00:31<00:00, 63.83 step/s, accuracy=1.00, loss=0.04, step=942000]\n",
      "Valid: 100% 6944/6944 [00:01<00:00, 5034.95 uttr/s, accuracy=0.91, loss=0.46]\n",
      "Train: 100% 2000/2000 [00:31<00:00, 64.22 step/s, accuracy=1.00, loss=0.01, step=944000]\n",
      "Valid: 100% 6944/6944 [00:01<00:00, 5011.43 uttr/s, accuracy=0.91, loss=0.47]\n",
      "Train: 100% 2000/2000 [00:31<00:00, 64.00 step/s, accuracy=1.00, loss=0.01, step=946000]\n",
      "Valid: 100% 6944/6944 [00:01<00:00, 2472.85 uttr/s, accuracy=0.91, loss=0.49]\n",
      "Train: 100% 2000/2000 [00:31<00:00, 63.95 step/s, accuracy=1.00, loss=0.02, step=948000]\n",
      "Valid: 100% 6944/6944 [00:01<00:00, 5012.19 uttr/s, accuracy=0.91, loss=0.46]\n",
      "Train: 100% 2000/2000 [00:31<00:00, 63.80 step/s, accuracy=0.97, loss=0.05, step=950000]\n",
      "Valid: 100% 6944/6944 [00:01<00:00, 5050.81 uttr/s, accuracy=0.92, loss=0.49]\n",
      "Train:   1% 13/2000 [00:00<00:33, 58.92 step/s, accuracy=1.00, loss=0.01, step=950012]"
     ]
    },
    {
     "name": "stdout",
     "output_type": "stream",
     "text": [
      "Step 950000, best model saved. (accuracy=0.9179)\n"
     ]
    },
    {
     "name": "stderr",
     "output_type": "stream",
     "text": [
      "Train: 100% 2000/2000 [00:31<00:00, 64.16 step/s, accuracy=1.00, loss=0.01, step=952000]\n",
      "Valid: 100% 6944/6944 [00:01<00:00, 2471.90 uttr/s, accuracy=0.91, loss=0.49]\n",
      "Train: 100% 2000/2000 [00:31<00:00, 64.16 step/s, accuracy=1.00, loss=0.01, step=954000]\n",
      "Valid: 100% 6944/6944 [00:01<00:00, 5101.93 uttr/s, accuracy=0.91, loss=0.46]\n",
      "Train: 100% 2000/2000 [00:31<00:00, 63.98 step/s, accuracy=1.00, loss=0.02, step=956000]\n",
      "Valid: 100% 6944/6944 [00:01<00:00, 5012.03 uttr/s, accuracy=0.91, loss=0.49]\n",
      "Train: 100% 2000/2000 [00:31<00:00, 64.14 step/s, accuracy=1.00, loss=0.02, step=958000]\n",
      "Valid: 100% 6944/6944 [00:01<00:00, 5058.66 uttr/s, accuracy=0.91, loss=0.47]\n",
      "Train: 100% 2000/2000 [00:31<00:00, 63.75 step/s, accuracy=1.00, loss=0.01, step=960000]\n",
      "Valid: 100% 6944/6944 [00:01<00:00, 5070.78 uttr/s, accuracy=0.91, loss=0.48]\n",
      "Train:   1% 12/2000 [00:00<00:37, 52.94 step/s, accuracy=0.97, loss=0.04, step=960012]"
     ]
    },
    {
     "name": "stdout",
     "output_type": "stream",
     "text": [
      "Step 960000, best model saved. (accuracy=0.9179)\n"
     ]
    },
    {
     "name": "stderr",
     "output_type": "stream",
     "text": [
      "Train: 100% 2000/2000 [00:31<00:00, 66.03 step/s, accuracy=1.00, loss=0.01, step=962000]\n",
      "Valid: 100% 6944/6944 [00:01<00:00, 2531.30 uttr/s, accuracy=0.91, loss=0.48]\n",
      "Train: 100% 2000/2000 [00:31<00:00, 63.81 step/s, accuracy=1.00, loss=0.01, step=964000]\n",
      "Valid: 100% 6944/6944 [00:01<00:00, 5070.31 uttr/s, accuracy=0.91, loss=0.49]\n",
      "Train: 100% 2000/2000 [00:31<00:00, 63.95 step/s, accuracy=1.00, loss=0.04, step=966000]\n",
      "Valid: 100% 6944/6944 [00:01<00:00, 5047.29 uttr/s, accuracy=0.91, loss=0.50]\n",
      "Train: 100% 2000/2000 [00:31<00:00, 63.72 step/s, accuracy=1.00, loss=0.00, step=968000]\n",
      "Valid: 100% 6944/6944 [00:01<00:00, 5149.58 uttr/s, accuracy=0.91, loss=0.49]\n",
      "Train: 100% 2000/2000 [00:31<00:00, 63.71 step/s, accuracy=0.97, loss=0.07, step=970000]\n",
      "Valid: 100% 6944/6944 [00:01<00:00, 2493.51 uttr/s, accuracy=0.91, loss=0.45]\n",
      "Train:   1% 12/2000 [00:00<00:36, 54.54 step/s, accuracy=1.00, loss=0.01, step=970012]"
     ]
    },
    {
     "name": "stdout",
     "output_type": "stream",
     "text": [
      "Step 970000, best model saved. (accuracy=0.9179)\n"
     ]
    },
    {
     "name": "stderr",
     "output_type": "stream",
     "text": [
      "Train: 100% 2000/2000 [00:31<00:00, 64.09 step/s, accuracy=0.94, loss=0.10, step=972000]\n",
      "Valid: 100% 6944/6944 [00:01<00:00, 2360.58 uttr/s, accuracy=0.91, loss=0.47]\n",
      "Train: 100% 2000/2000 [00:31<00:00, 64.02 step/s, accuracy=1.00, loss=0.01, step=974000]\n",
      "Valid: 100% 6944/6944 [00:01<00:00, 5114.99 uttr/s, accuracy=0.91, loss=0.46]\n",
      "Train: 100% 2000/2000 [00:31<00:00, 63.75 step/s, accuracy=1.00, loss=0.00, step=976000]\n",
      "Valid: 100% 6944/6944 [00:01<00:00, 2565.31 uttr/s, accuracy=0.91, loss=0.49]\n",
      "Train: 100% 2000/2000 [00:31<00:00, 62.84 step/s, accuracy=1.00, loss=0.01, step=978000]\n",
      "Valid: 100% 6944/6944 [00:01<00:00, 5102.78 uttr/s, accuracy=0.91, loss=0.49]\n",
      "Train: 100% 2000/2000 [00:31<00:00, 63.69 step/s, accuracy=1.00, loss=0.03, step=980000]\n",
      "Valid: 100% 6944/6944 [00:01<00:00, 5141.65 uttr/s, accuracy=0.92, loss=0.45]\n",
      "Train:   1% 13/2000 [00:00<00:32, 60.28 step/s, accuracy=1.00, loss=0.03, step=980012]"
     ]
    },
    {
     "name": "stdout",
     "output_type": "stream",
     "text": [
      "Step 980000, best model saved. (accuracy=0.9179)\n"
     ]
    },
    {
     "name": "stderr",
     "output_type": "stream",
     "text": [
      "Train: 100% 2000/2000 [00:31<00:00, 63.61 step/s, accuracy=0.97, loss=0.09, step=982000]\n",
      "Valid: 100% 6944/6944 [00:01<00:00, 4990.12 uttr/s, accuracy=0.92, loss=0.47]\n",
      "Train: 100% 2000/2000 [00:31<00:00, 64.30 step/s, accuracy=1.00, loss=0.01, step=984000]\n",
      "Valid: 100% 6944/6944 [00:01<00:00, 5110.75 uttr/s, accuracy=0.92, loss=0.46]\n",
      "Train: 100% 2000/2000 [00:31<00:00, 64.13 step/s, accuracy=1.00, loss=0.02, step=986000]\n",
      "Valid: 100% 6944/6944 [00:01<00:00, 5226.75 uttr/s, accuracy=0.91, loss=0.49]\n",
      "Train: 100% 2000/2000 [00:31<00:00, 64.08 step/s, accuracy=1.00, loss=0.01, step=988000]\n",
      "Valid: 100% 6944/6944 [00:01<00:00, 2498.64 uttr/s, accuracy=0.91, loss=0.48]\n",
      "Train: 100% 2000/2000 [00:31<00:00, 63.85 step/s, accuracy=1.00, loss=0.01, step=990000]\n",
      "Valid: 100% 6944/6944 [00:01<00:00, 5125.20 uttr/s, accuracy=0.91, loss=0.47]\n",
      "Train:   1% 12/2000 [00:00<00:35, 55.39 step/s, accuracy=1.00, loss=0.02, step=990012]"
     ]
    },
    {
     "name": "stdout",
     "output_type": "stream",
     "text": [
      "Step 990000, best model saved. (accuracy=0.9179)\n"
     ]
    },
    {
     "name": "stderr",
     "output_type": "stream",
     "text": [
      "Train: 100% 2000/2000 [00:31<00:00, 64.34 step/s, accuracy=1.00, loss=0.02, step=992000]\n",
      "Valid: 100% 6944/6944 [00:01<00:00, 5090.59 uttr/s, accuracy=0.91, loss=0.47]\n",
      "Train: 100% 2000/2000 [00:31<00:00, 64.06 step/s, accuracy=1.00, loss=0.01, step=994000]\n",
      "Valid: 100% 6944/6944 [00:01<00:00, 5100.04 uttr/s, accuracy=0.92, loss=0.45]\n",
      "Train: 100% 2000/2000 [00:31<00:00, 63.94 step/s, accuracy=1.00, loss=0.00, step=996000]\n",
      "Valid: 100% 6944/6944 [00:01<00:00, 5011.76 uttr/s, accuracy=0.91, loss=0.47]\n",
      "Train: 100% 2000/2000 [00:31<00:00, 63.87 step/s, accuracy=1.00, loss=0.02, step=998000]\n",
      "Valid: 100% 6944/6944 [00:01<00:00, 5154.47 uttr/s, accuracy=0.92, loss=0.48]\n",
      "Train: 100% 2000/2000 [00:31<00:00, 63.23 step/s, accuracy=1.00, loss=0.00, step=1e+6]  \n",
      "Valid: 100% 6944/6944 [00:01<00:00, 2444.14 uttr/s, accuracy=0.92, loss=0.47]\n",
      "Train:   0% 0/2000 [00:00<?, ? step/s]\n"
     ]
    },
    {
     "name": "stdout",
     "output_type": "stream",
     "text": [
      "Step 1000000, best model saved. (accuracy=0.9179)\n"
     ]
    }
   ],
   "source": [
    "from tqdm import tqdm\n",
    "\n",
    "import torch\n",
    "import torch.nn as nn\n",
    "from torch.optim import AdamW\n",
    "from torch.utils.data import DataLoader, random_split\n",
    "\n",
    "\n",
    "def parse_args():\n",
    "  \"\"\"arguments\"\"\"\n",
    "  config = {\n",
    "    \"data_dir\": \"./Dataset\",\n",
    "    \"save_path\": \"model.ckpt\",\n",
    "    \"batch_size\": 32,\n",
    "    \"n_workers\": 8,\n",
    "    \"valid_steps\": 2000,\n",
    "    \"warmup_steps\": 1000,\n",
    "    \"save_steps\": 10000,\n",
    "    \"total_steps\": 1000000,\n",
    "  }\n",
    "\n",
    "  return config\n",
    "\n",
    "\n",
    "def main(\n",
    "  data_dir,\n",
    "  save_path,\n",
    "  batch_size,\n",
    "  n_workers,\n",
    "  valid_steps,\n",
    "  warmup_steps,\n",
    "  total_steps,\n",
    "  save_steps,\n",
    "):\n",
    "  \"\"\"Main function.\"\"\"\n",
    "  device = torch.device(\"cuda\" if torch.cuda.is_available() else \"cpu\")\n",
    "  print(f\"[Info]: Use {device} now!\")\n",
    "\n",
    "  train_loader, valid_loader, speaker_num = get_dataloader(data_dir, batch_size, n_workers)\n",
    "  train_iterator = iter(train_loader)\n",
    "  print(f\"[Info]: Finish loading data!\",flush = True)\n",
    "\n",
    "  model = Classifier(n_spks=speaker_num).to(device)\n",
    "  criterion = nn.CrossEntropyLoss()\n",
    "  optimizer = AdamW(model.parameters(), lr=1e-3)\n",
    "  scheduler = get_cosine_schedule_with_warmup(optimizer, warmup_steps, total_steps)\n",
    "  print(f\"[Info]: Finish creating model!\",flush = True)\n",
    "\n",
    "  best_accuracy = -1.0\n",
    "  best_state_dict = None\n",
    "\n",
    "  pbar = tqdm(total=valid_steps, ncols=0, desc=\"Train\", unit=\" step\")\n",
    "\n",
    "  for step in range(total_steps):\n",
    "    # Get data\n",
    "    try:\n",
    "      batch = next(train_iterator)\n",
    "    except StopIteration:\n",
    "      train_iterator = iter(train_loader)\n",
    "      batch = next(train_iterator)\n",
    "\n",
    "    loss, accuracy = model_fn(batch, model, criterion, device)\n",
    "    batch_loss = loss.item()\n",
    "    batch_accuracy = accuracy.item()\n",
    "\n",
    "    # Updata model\n",
    "    loss.backward()\n",
    "    optimizer.step()\n",
    "    scheduler.step()\n",
    "    optimizer.zero_grad()\n",
    "    \n",
    "    # Log\n",
    "    pbar.update()\n",
    "    pbar.set_postfix(\n",
    "      loss=f\"{batch_loss:.2f}\",\n",
    "      accuracy=f\"{batch_accuracy:.2f}\",\n",
    "      step=step + 1,\n",
    "    )\n",
    "\n",
    "    # Do validation\n",
    "    if (step + 1) % valid_steps == 0:\n",
    "      pbar.close()\n",
    "\n",
    "      valid_accuracy = valid(valid_loader, model, criterion, device)\n",
    "\n",
    "      # keep the best model\n",
    "      if valid_accuracy > best_accuracy:\n",
    "        best_accuracy = valid_accuracy\n",
    "        best_state_dict = model.state_dict()\n",
    "\n",
    "      pbar = tqdm(total=valid_steps, ncols=0, desc=\"Train\", unit=\" step\")\n",
    "\n",
    "    # Save the best model so far.\n",
    "    if (step + 1) % save_steps == 0 and best_state_dict is not None:\n",
    "      torch.save(best_state_dict, save_path)\n",
    "      pbar.write(f\"Step {step + 1}, best model saved. (accuracy={best_accuracy:.4f})\")\n",
    "\n",
    "  pbar.close()\n",
    "\n",
    "\n",
    "if __name__ == \"__main__\":\n",
    "  main(**parse_args())"
   ]
  },
  {
   "cell_type": "markdown",
   "metadata": {},
   "source": [
    "# Inference"
   ]
  },
  {
   "cell_type": "code",
   "execution_count": 17,
   "metadata": {},
   "outputs": [],
   "source": [
    "import os\n",
    "import json\n",
    "import torch\n",
    "from pathlib import Path\n",
    "from torch.utils.data import Dataset\n",
    "\n",
    "\n",
    "class InferenceDataset(Dataset):\n",
    "  def __init__(self, data_dir):\n",
    "    testdata_path = Path(data_dir) / \"testdata.json\"\n",
    "    metadata = json.load(testdata_path.open())\n",
    "    self.data_dir = data_dir\n",
    "    self.data = metadata[\"utterances\"]\n",
    "\n",
    "  def __len__(self):\n",
    "    return len(self.data)\n",
    "\n",
    "  def __getitem__(self, index):\n",
    "    utterance = self.data[index]\n",
    "    feat_path = utterance[\"feature_path\"]\n",
    "    mel = torch.load(os.path.join(self.data_dir, feat_path))\n",
    "\n",
    "    return feat_path, mel\n",
    "\n",
    "\n",
    "def inference_collate_batch(batch):\n",
    "  \"\"\"Collate a batch of data.\"\"\"\n",
    "  feat_paths, mels = zip(*batch)\n",
    "\n",
    "  return feat_paths, torch.stack(mels)"
   ]
  },
  {
   "cell_type": "code",
   "execution_count": 18,
   "metadata": {},
   "outputs": [
    {
     "name": "stdout",
     "output_type": "stream",
     "text": [
      "[Info]: Use cuda now!\n",
      "[Info]: Finish loading data!\n",
      "[Info]: Finish creating model!\n"
     ]
    },
    {
     "name": "stderr",
     "output_type": "stream",
     "text": [
      "100%|██████████| 6000/6000 [00:20<00:00, 290.67it/s]\n"
     ]
    }
   ],
   "source": [
    "import json\n",
    "import csv\n",
    "from pathlib import Path\n",
    "from tqdm import tqdm\n",
    "\n",
    "import torch\n",
    "from torch.utils.data import DataLoader\n",
    "\n",
    "def parse_args():\n",
    "  \"\"\"arguments\"\"\"\n",
    "  config = {\n",
    "    \"data_dir\": \"./Dataset\",\n",
    "    \"model_path\": \"./model.ckpt\",\n",
    "    \"output_path\": \"./output2.csv\",\n",
    "  }\n",
    "\n",
    "  return config\n",
    "\n",
    "\n",
    "def main(\n",
    "  data_dir,\n",
    "  model_path,\n",
    "  output_path,\n",
    "):\n",
    "  \"\"\"Main function.\"\"\"\n",
    "  device = torch.device(\"cuda\" if torch.cuda.is_available() else \"cpu\")\n",
    "  print(f\"[Info]: Use {device} now!\")\n",
    "\n",
    "  mapping_path = Path(data_dir) / \"mapping.json\"\n",
    "  mapping = json.load(mapping_path.open())\n",
    "\n",
    "  dataset = InferenceDataset(data_dir)\n",
    "  dataloader = DataLoader(\n",
    "    dataset,\n",
    "    batch_size=1,\n",
    "    shuffle=False,\n",
    "    drop_last=False,\n",
    "    num_workers=8,\n",
    "    collate_fn=inference_collate_batch,\n",
    "  )\n",
    "  print(f\"[Info]: Finish loading data!\",flush = True)\n",
    "\n",
    "  speaker_num = len(mapping[\"id2speaker\"])\n",
    "  model = Classifier(n_spks=speaker_num).to(device)\n",
    "  model.load_state_dict(torch.load(model_path))\n",
    "  model.eval()\n",
    "  print(f\"[Info]: Finish creating model!\",flush = True)\n",
    "\n",
    "  results = [[\"Id\", \"Category\"]]\n",
    "  for feat_paths, mels in tqdm(dataloader):\n",
    "    with torch.no_grad():\n",
    "      mels = mels.to(device)\n",
    "      outs = model(mels)\n",
    "      preds = outs.argmax(1).cpu().numpy()\n",
    "      for feat_path, pred in zip(feat_paths, preds):\n",
    "        results.append([feat_path, mapping[\"id2speaker\"][str(pred)]])\n",
    "  \n",
    "  with open(output_path, 'w', newline='') as csvfile:\n",
    "    writer = csv.writer(csvfile)\n",
    "    writer.writerows(results)\n",
    "\n",
    "\n",
    "if __name__ == \"__main__\":\n",
    "  main(**parse_args())"
   ]
  },
  {
   "cell_type": "code",
   "execution_count": null,
   "metadata": {},
   "outputs": [],
   "source": []
  }
 ],
 "metadata": {
  "celltoolbar": "Raw Cell Format",
  "kernelspec": {
   "display_name": "Python 3",
   "language": "python",
   "name": "python3"
  },
  "language_info": {
   "codemirror_mode": {
    "name": "ipython",
    "version": 3
   },
   "file_extension": ".py",
   "mimetype": "text/x-python",
   "name": "python",
   "nbconvert_exporter": "python",
   "pygments_lexer": "ipython3",
   "version": "3.7.3"
  }
 },
 "nbformat": 4,
 "nbformat_minor": 2
}
