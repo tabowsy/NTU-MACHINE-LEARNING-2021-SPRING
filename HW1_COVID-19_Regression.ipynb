{
  "nbformat": 4,
  "nbformat_minor": 0,
  "metadata": {
    "colab": {
      "name": "r09631017_hw1.ipynb",
      "provenance": [],
      "collapsed_sections": [
        "qDuYVF7WHmcf",
        "bV4iPcoRGjRQ",
        "HfVlq_YeYlMg",
        "0fFzkhLpfJ6s"
      ],
      "toc_visible": true,
      "authorship_tag": "ABX9TyMyXqZPKLgVsIWG8pqHalqQ",
      "include_colab_link": true
    },
    "kernelspec": {
      "name": "python3",
      "display_name": "Python 3"
    },
    "accelerator": "GPU"
  },
  "cells": [
    {
      "cell_type": "markdown",
      "metadata": {
        "id": "view-in-github",
        "colab_type": "text"
      },
      "source": [
        "<a href=\"https://colab.research.google.com/github/tabowsy/NTU-MACHINE-LEARNING-2021-SPRING/blob/main/HW1_COVID-19_Regression.ipynb\" target=\"_parent\"><img src=\"https://colab.research.google.com/assets/colab-badge.svg\" alt=\"Open In Colab\"/></a>"
      ]
    },
    {
      "cell_type": "markdown",
      "metadata": {
        "id": "qDuYVF7WHmcf"
      },
      "source": [
        "#Import Package"
      ]
    },
    {
      "cell_type": "code",
      "metadata": {
        "id": "FskezB-UHrXi"
      },
      "source": [
        "# PyTorch\n",
        "import torch\n",
        "import torch.nn as nn\n",
        "from torch.utils.data import Dataset, DataLoader\n",
        "\n",
        "# For data preprocess\n",
        "import numpy as np\n",
        "import csv\n",
        "import os\n",
        "\n",
        "# For plotting\n",
        "import matplotlib.pyplot as plt\n",
        "from matplotlib.pyplot import figure\n",
        "\n",
        "myseed = 42069  # set a random seed for reproducibility\n",
        "torch.backends.cudnn.deterministic = True\n",
        "torch.backends.cudnn.benchmark = False\n",
        "np.random.seed(myseed)\n",
        "torch.manual_seed(myseed)\n",
        "if torch.cuda.is_available():\n",
        "    torch.cuda.manual_seed_all(myseed)"
      ],
      "execution_count": null,
      "outputs": []
    },
    {
      "cell_type": "markdown",
      "metadata": {
        "id": "bV4iPcoRGjRQ"
      },
      "source": [
        "# Download Data"
      ]
    },
    {
      "cell_type": "code",
      "metadata": {
        "colab": {
          "base_uri": "https://localhost:8080/"
        },
        "id": "z3uOjBe0FZEn",
        "outputId": "06fe7dbc-0495-44ff-e098-598bf28405d9"
      },
      "source": [
        "tr_path = 'covid.train.csv'  # path to training data\n",
        "tt_path = 'covid.test.csv'   # path to testing data\n",
        "\n",
        "!gdown --id '19CCyCgJrUxtvgZF53vnctJiOJ23T5mqF' --output covid.train.csv\n",
        "!gdown --id '1CE240jLm2npU-tdz81-oVKEF3T2yfT1O' --output covid.test.csv"
      ],
      "execution_count": null,
      "outputs": [
        {
          "output_type": "stream",
          "text": [
            "Downloading...\n",
            "From: https://drive.google.com/uc?id=19CCyCgJrUxtvgZF53vnctJiOJ23T5mqF\n",
            "To: /content/covid.train.csv\n",
            "100% 2.00M/2.00M [00:00<00:00, 63.0MB/s]\n",
            "Downloading...\n",
            "From: https://drive.google.com/uc?id=1CE240jLm2npU-tdz81-oVKEF3T2yfT1O\n",
            "To: /content/covid.test.csv\n",
            "100% 651k/651k [00:00<00:00, 87.1MB/s]\n"
          ],
          "name": "stdout"
        }
      ]
    },
    {
      "cell_type": "markdown",
      "metadata": {
        "id": "PcuQi5wzI0gx"
      },
      "source": [
        "#Some Utilities\n",
        "Do not modify!!!\n"
      ]
    },
    {
      "cell_type": "code",
      "metadata": {
        "id": "7uFqJdk8Iz7W"
      },
      "source": [
        "def get_device():\n",
        "    ''' Get device (if GPU is available, use GPU) '''\n",
        "    return 'cuda' if torch.cuda.is_available() else 'cpu'\n",
        "\n",
        "def plot_learning_curve(loss_record, title=''):\n",
        "    ''' Plot learning curve of your DNN (train & dev loss) '''\n",
        "    total_steps = len(loss_record['train'])\n",
        "    x_1 = range(total_steps)\n",
        "    x_2 = x_1[::len(loss_record['train']) // len(loss_record['dev'])]\n",
        "    figure(figsize=(6, 4))\n",
        "    plt.plot(x_1, loss_record['train'], c='tab:red', label='train')\n",
        "    plt.plot(x_2, loss_record['dev'], c='tab:cyan', label='dev')\n",
        "    plt.ylim(0.0, 5.0)\n",
        "    plt.xlabel('Training steps')\n",
        "    plt.ylabel('MSE loss')\n",
        "    plt.title('Learning curve of {}'.format(title))\n",
        "    plt.legend()\n",
        "    plt.show()\n",
        "\n",
        "\n",
        "def plot_pred(dv_set, model, device, lim=35., preds=None, targets=None):\n",
        "    ''' Plot prediction of your DNN '''\n",
        "    if preds is None or targets is None:\n",
        "        model.eval()\n",
        "        preds, targets = [], []\n",
        "        for x, y in dv_set:\n",
        "            x, y = x.to(device), y.to(device)\n",
        "            with torch.no_grad():\n",
        "                pred = model(x)\n",
        "                preds.append(pred.detach().cpu())\n",
        "                targets.append(y.detach().cpu())\n",
        "        preds = torch.cat(preds, dim=0).numpy()\n",
        "        targets = torch.cat(targets, dim=0).numpy()\n",
        "\n",
        "    figure(figsize=(5, 5))\n",
        "    plt.scatter(targets, preds, c='r', alpha=0.5)\n",
        "    plt.plot([-0.2, lim], [-0.2, lim], c='b')\n",
        "    plt.xlim(-0.2, lim)\n",
        "    plt.ylim(-0.2, lim)\n",
        "    plt.xlabel('ground truth value')\n",
        "    plt.ylabel('predicted value')\n",
        "    plt.title('Ground Truth v.s. Prediction')\n",
        "    plt.show()"
      ],
      "execution_count": null,
      "outputs": []
    },
    {
      "cell_type": "markdown",
      "metadata": {
        "id": "rkmubgZ5Js86"
      },
      "source": [
        "#Data Processing\n",
        "Finishing `TODO` below might make you pass medium baseline."
      ]
    },
    {
      "cell_type": "code",
      "metadata": {
        "id": "VPbtEuGoKPA-"
      },
      "source": [
        "class COVID19Dataset(Dataset):\n",
        "    ''' Dataset for loading and preprocessing the COVID19 dataset '''\n",
        "    def __init__(self,path, mode='train', target_only=False):\n",
        "        self.mode = mode\n",
        "\n",
        "        # Read data into numpy arrays\n",
        "        with open(path, 'r') as fp:\n",
        "            data = list(csv.reader(fp))\n",
        "            data = np.array(data[1:])[:, 1:].astype(float)\n",
        "\n",
        "        # extract features  \n",
        "        if not target_only:\n",
        "            feats = list(range(93))\n",
        "        else:\n",
        "            # [57,75]+[40,58,76]+[42,43,60,61,78,79]\n",
        "            # 40 41 42 55 57 58 59 60 73 75\n",
        "            feats = list(range(40))+[40,41,42,43,57,58,59,60,61,75,76,77,78,79] #according to relation  \n",
        "            pass\n",
        "\n",
        "            \n",
        "        #split x and y\n",
        "        if mode == 'test':\n",
        "            # Testing data (no y)\n",
        "            # data: 893 x 93 (40 states + day 1 (18) + day 2 (18) + day 3 (17))\n",
        "            data = data[:, feats]\n",
        "            self.data = torch.FloatTensor(data)\n",
        "        else:\n",
        "            # Training data (train/dev sets)\n",
        "            # data: 2700 x 94 (40 states + day 1 (18) + day 2 (18) + day 3 (18))\n",
        "            target = data[:, -1]\n",
        "            data = data[:, feats]\n",
        "            \n",
        "            # Splitting training data into train & dev sets (split row)\n",
        "            num = 0\n",
        "            if mode == 'train':\n",
        "                indices = [i for i in range(len(data)) if i % 7 != num]\n",
        "            elif mode == 'dev':\n",
        "                indices = [i for i in range(len(data)) if i % 7 == num]\n",
        "            \n",
        "            # Convert data into PyTorch tensors\n",
        "            self.data = torch.FloatTensor(data[indices])\n",
        "            self.target = torch.FloatTensor(target[indices])\n",
        "\n",
        "\n",
        "        # Normalize features (you may remove this part to see what will happen)\n",
        "        #self.data[:, 40:] = (self.data[:, 40:] - self.data[:, 40:].mean(dim=0, keepdim=True))/self.data[:, 40:].std(dim=0, keepdim=True)\n",
        "\n",
        "\n",
        "        self.dim = self.data.shape[1]\n",
        "\n",
        "        print('Finished reading the {} set of COVID19 Dataset ({} samples found, each dim = {})'\n",
        "              .format(mode, len(self.data), self.dim))\n",
        "\n",
        "    def __getitem__(self, index):\n",
        "        # Returns one sample at a time\n",
        "        if self.mode in ['train', 'dev']:\n",
        "            # For training\n",
        "            return self.data[index], self.target[index]\n",
        "        else:\n",
        "            # For testing (no target)\n",
        "            return self.data[index]\n",
        "\n",
        "    def __len__(self):\n",
        "        # Returns the size of the dataset\n",
        "        return len(self.data)"
      ],
      "execution_count": null,
      "outputs": []
    },
    {
      "cell_type": "markdown",
      "metadata": {
        "id": "HfVlq_YeYlMg"
      },
      "source": [
        "#DataLoader\n",
        "Dataloader define what `dataset` input to model and how ( `batch size`, `shuffle`...) "
      ]
    },
    {
      "cell_type": "code",
      "metadata": {
        "id": "BTaUFGP-YkQp"
      },
      "source": [
        "def prep_dataloader(path, mode, batch_size, n_jobs=0, target_only=False):\n",
        "    ''' Generates a dataset, then is put into a dataloader. '''\n",
        "    dataset = COVID19Dataset(path, mode=mode, target_only=target_only)  # Construct COVIDdataset class\n",
        "    dataloader = DataLoader(\n",
        "        dataset, batch_size,\n",
        "        shuffle=(mode == 'train'), drop_last=False,\n",
        "        num_workers=n_jobs, pin_memory=True)               # Construct dataloader\n",
        "    return dataloader"
      ],
      "execution_count": null,
      "outputs": []
    },
    {
      "cell_type": "markdown",
      "metadata": {
        "id": "ng2TA_tVa2g9"
      },
      "source": [
        "#Deep Neural Network\n",
        "Create Model\n",
        "\n",
        "TODO: How to modify this model to achieve better performance\n",
        "TODO: you may implement L2 regularization here"
      ]
    },
    {
      "cell_type": "code",
      "metadata": {
        "id": "r3O98Kjoa2Oh"
      },
      "source": [
        "class NeuralNet(nn.Module):\n",
        "    ''' A simple fully-connected deep neural network '''\n",
        "    def __init__(self, input_dim):\n",
        "        super(NeuralNet, self).__init__()   #want to use __init__ in nn.mModule\n",
        "\n",
        "        # Define your neural network here\n",
        "        # TODO: How to modify this model to achieve better performance?\n",
        "        self.net = nn.Sequential(\n",
        "            nn.Linear(input_dim,28),  #https://www.researchgate.net/post/How-to-decide-the-number-of-hidden-layers-and-nodes-in-a-hidden-layer\n",
        "            nn.ReLU(),\n",
        "\n",
        "            nn.Linear(28,1)\n",
        "            \n",
        "        )\n",
        "\n",
        "        # Mean squared error loss\n",
        "        self.criterion = nn.MSELoss(reduction='mean')\n",
        "        #self.criterion = nn.CrossEntropyLoss(reduction='mean')\n",
        "\n",
        "    def forward(self, x):\n",
        "        ''' Given input of size (batch_size x input_dim), compute output of the network '''\n",
        "        #return the last dim as output y\n",
        "        return self.net(x).squeeze(1)\n",
        "\n",
        "    def cal_loss(self, pred, target):\n",
        "        ''' Calculate loss '''\n",
        "        # TODO: you may implement L2 regularization here\n",
        "        return self.criterion(pred, target)"
      ],
      "execution_count": null,
      "outputs": []
    },
    {
      "cell_type": "markdown",
      "metadata": {
        "id": "0fFzkhLpfJ6s"
      },
      "source": [
        "# **Train/Dev/Test**"
      ]
    },
    {
      "cell_type": "markdown",
      "metadata": {
        "id": "oMIUhPpsfNA1"
      },
      "source": [
        "## **Training**"
      ]
    },
    {
      "cell_type": "code",
      "metadata": {
        "id": "xpIup3mofj6x"
      },
      "source": [
        "def train(tr_set, dv_set, model, config, device):\n",
        "    ''' DNN training '''\n",
        "\n",
        "    n_epochs = config['n_epochs']  # Maximum number of epochs\n",
        "\n",
        "    # Setup optimizer\n",
        "    optimizer = getattr(torch.optim, config['optimizer'])( model.parameters(), **config['optim_hparas'])  \n",
        "    #if torch.optim have config['optimizer'], then it will become a function and input ( model.parameters(), **config['optim_hparas'])\n",
        "\n",
        "    min_mse = 1000.\n",
        "    loss_record = {'train': [], 'dev': []}      # for recording training loss\n",
        "    early_stop_cnt = 0\n",
        "    epoch = 0\n",
        "    while epoch < n_epochs:\n",
        "        model.train()                           # set model to training mode\n",
        "        for x, y in tr_set:                     # iterate through the dataloader\n",
        "            optimizer.zero_grad()               # set gradient to zero\n",
        "            x, y = x.to(device), y.to(device)   # move data to device (cpu/cuda)\n",
        "            pred = model(x)                     # forward pass (compute output)\n",
        "            mse_loss = model.cal_loss(pred, y)  # compute loss\n",
        "            mse_loss.backward()                 # compute gradient (backpropagation)\n",
        "            optimizer.step()                    # update model with optimizer\n",
        "            loss_record['train'].append(mse_loss.detach().cpu().item())\n",
        "\n",
        "        # After each epoch, test your model on the validation (development) set.\n",
        "        dev_mse = dev(dv_set, model, device)\n",
        "        if dev_mse < min_mse:\n",
        "            # Save model if your model improved (min_mse update)\n",
        "            min_mse = dev_mse\n",
        "            print('Saving model (epoch = {:4d}, loss = {:.4f})'\n",
        "                .format(epoch + 1, min_mse))\n",
        "            torch.save(model.state_dict(), config['save_path'])  # Save model to specified path\n",
        "            early_stop_cnt = 0\n",
        "        else:\n",
        "            early_stop_cnt += 1\n",
        "\n",
        "        epoch += 1\n",
        "        loss_record['dev'].append(dev_mse)\n",
        "        if early_stop_cnt > config['early_stop']:\n",
        "            # Stop training if your model stops improving for \"config['early_stop']\" epochs.\n",
        "            break\n",
        "\n",
        "    print('Finished training after {} epochs'.format(epoch))\n",
        "    return min_mse, loss_record"
      ],
      "execution_count": null,
      "outputs": []
    },
    {
      "cell_type": "markdown",
      "metadata": {
        "id": "DZnTz3X6fUZ7"
      },
      "source": [
        "## **Validation**"
      ]
    },
    {
      "cell_type": "code",
      "metadata": {
        "id": "qmdnnwPNopVd"
      },
      "source": [
        "def dev(dv_set, model, device):\n",
        "    model.eval()                                # set model to evalutation mode\n",
        "    total_loss = 0\n",
        "    for x, y in dv_set:                         # iterate through the dataloader\n",
        "        x, y = x.to(device), y.to(device)       # move data to device (cpu/cuda)\n",
        "        with torch.no_grad():                   # disable gradient calculation\n",
        "            pred = model(x)                     # forward pass (compute output)\n",
        "            mse_loss = model.cal_loss(pred, y)  # compute loss\n",
        "        total_loss += mse_loss.detach().cpu().item() * len(x)  # accumulate loss\n",
        "    total_loss = total_loss / len(dv_set.dataset)              # compute averaged loss\n",
        "\n",
        "    return total_loss"
      ],
      "execution_count": null,
      "outputs": []
    },
    {
      "cell_type": "markdown",
      "metadata": {
        "id": "6DXeNdTGfc7w"
      },
      "source": [
        "## **Testing**"
      ]
    },
    {
      "cell_type": "code",
      "metadata": {
        "id": "GhpMDwlhqAR0"
      },
      "source": [
        "def test(tt_set, model, device):\n",
        "    model.eval()                                # set model to evalutation mode\n",
        "    preds = []\n",
        "    for x in tt_set:                            # iterate through the dataloader\n",
        "        x = x.to(device)                        # move data to device (cpu/cuda)\n",
        "        with torch.no_grad():                   # disable gradient calculation\n",
        "            pred = model(x)                     # forward pass (compute output)\n",
        "            preds.append(pred.detach().cpu())   # collect prediction\n",
        "    preds = torch.cat(preds, dim=0).numpy()     # concatenate all predictions and convert to a numpy array\n",
        "    return preds"
      ],
      "execution_count": null,
      "outputs": []
    },
    {
      "cell_type": "markdown",
      "metadata": {
        "id": "fkR5tcqgrxci"
      },
      "source": [
        "# **Setup Hyper-parameters**\n",
        "TODO: How to tune these hyper-parameters to improve your model's performance?"
      ]
    },
    {
      "cell_type": "code",
      "metadata": {
        "id": "JXN3HjCFryVg"
      },
      "source": [
        "device = get_device()                 # get the current available device ('cpu' or 'cuda')\n",
        "os.makedirs('models', exist_ok=True)  # The trained model will be saved to ./models/\n",
        "target_only = True                   # TODO: Using 40 states & 2 tested_positive features\n",
        "\n",
        "# TODO: How to tune these hyper-parameters to improve your model's performance?\n",
        "config = {\n",
        "    'n_epochs': 3000,                # maximum number of epochs\n",
        "    'batch_size': 30,               # mini-batch size for dataloader\n",
        "    'optimizer': 'Adam',              # optimization algorithm (optimizer in torch.optim)\n",
        "    'optim_hparas': {                # hyper-parameters for the optimizer (depends on which optimizer you are using)\n",
        "        'lr': 0.0001, \n",
        "        'weight_decay':0.001,              \n",
        "        #'momentum': 0.9,                \n",
        "                      \n",
        "    },\n",
        "    'early_stop':200,               # early stopping epochs (the number epochs since your model's last improvement)\n",
        "    'save_path': 'models/model.pth'  # your model will be saved here\n",
        "}"
      ],
      "execution_count": null,
      "outputs": []
    },
    {
      "cell_type": "markdown",
      "metadata": {
        "id": "MbXxexI1qiOt"
      },
      "source": [
        "# Load Data and Model"
      ]
    },
    {
      "cell_type": "code",
      "metadata": {
        "colab": {
          "base_uri": "https://localhost:8080/"
        },
        "id": "Km6BG1SCqhqh",
        "outputId": "ca84341c-6f2b-48bb-8ca0-cb6d54923edf"
      },
      "source": [
        "tr_set = prep_dataloader(tr_path, 'train', config['batch_size'], target_only=target_only)\n",
        "dv_set = prep_dataloader(tr_path, 'dev', config['batch_size'], target_only=target_only)\n",
        "tt_set = prep_dataloader(tt_path, 'test', config['batch_size'], target_only=target_only)"
      ],
      "execution_count": null,
      "outputs": [
        {
          "output_type": "stream",
          "text": [
            "Finished reading the train set of COVID19 Dataset (2314 samples found, each dim = 54)\n",
            "Finished reading the dev set of COVID19 Dataset (386 samples found, each dim = 54)\n",
            "Finished reading the test set of COVID19 Dataset (893 samples found, each dim = 54)\n"
          ],
          "name": "stdout"
        }
      ]
    },
    {
      "cell_type": "code",
      "metadata": {
        "id": "O_UhpEsOrQUa"
      },
      "source": [
        "model = NeuralNet(tr_set.dataset.dim).to(device)  # Construct model and move to device"
      ],
      "execution_count": null,
      "outputs": []
    },
    {
      "cell_type": "markdown",
      "metadata": {
        "id": "8pOlagqSrFbH"
      },
      "source": [
        "#Start Training!!!"
      ]
    },
    {
      "cell_type": "code",
      "metadata": {
        "id": "i7-D83nKraE5",
        "colab": {
          "base_uri": "https://localhost:8080/"
        },
        "outputId": "d6d4c68a-adaa-4cca-c64f-7d5bf56d0d37"
      },
      "source": [
        "model_loss, model_loss_record = train(tr_set, dv_set, model, config, device)"
      ],
      "execution_count": null,
      "outputs": [
        {
          "output_type": "stream",
          "text": [
            "Saving model (epoch =    1, loss = 166.3028)\n",
            "Saving model (epoch =    2, loss = 112.6280)\n",
            "Saving model (epoch =    3, loss = 71.2682)\n",
            "Saving model (epoch =    4, loss = 36.5802)\n",
            "Saving model (epoch =    5, loss = 19.8070)\n",
            "Saving model (epoch =    6, loss = 12.8103)\n",
            "Saving model (epoch =    7, loss = 10.3277)\n",
            "Saving model (epoch =    8, loss = 9.3322)\n",
            "Saving model (epoch =    9, loss = 8.7912)\n",
            "Saving model (epoch =   10, loss = 8.3988)\n",
            "Saving model (epoch =   11, loss = 8.0676)\n",
            "Saving model (epoch =   12, loss = 7.7520)\n",
            "Saving model (epoch =   13, loss = 7.4331)\n",
            "Saving model (epoch =   14, loss = 7.1230)\n",
            "Saving model (epoch =   15, loss = 6.8141)\n",
            "Saving model (epoch =   16, loss = 6.4963)\n",
            "Saving model (epoch =   17, loss = 6.1726)\n",
            "Saving model (epoch =   18, loss = 5.8620)\n",
            "Saving model (epoch =   19, loss = 5.5450)\n",
            "Saving model (epoch =   20, loss = 5.2387)\n",
            "Saving model (epoch =   21, loss = 4.9337)\n",
            "Saving model (epoch =   22, loss = 4.6326)\n",
            "Saving model (epoch =   23, loss = 4.3447)\n",
            "Saving model (epoch =   24, loss = 4.0738)\n",
            "Saving model (epoch =   25, loss = 3.7972)\n",
            "Saving model (epoch =   26, loss = 3.5367)\n",
            "Saving model (epoch =   27, loss = 3.2881)\n",
            "Saving model (epoch =   28, loss = 3.0479)\n",
            "Saving model (epoch =   29, loss = 2.8417)\n",
            "Saving model (epoch =   30, loss = 2.6301)\n",
            "Saving model (epoch =   31, loss = 2.4243)\n",
            "Saving model (epoch =   32, loss = 2.2483)\n",
            "Saving model (epoch =   33, loss = 2.0881)\n",
            "Saving model (epoch =   34, loss = 1.9394)\n",
            "Saving model (epoch =   35, loss = 1.8027)\n",
            "Saving model (epoch =   36, loss = 1.6835)\n",
            "Saving model (epoch =   37, loss = 1.5771)\n",
            "Saving model (epoch =   38, loss = 1.4873)\n",
            "Saving model (epoch =   39, loss = 1.4078)\n",
            "Saving model (epoch =   40, loss = 1.3378)\n",
            "Saving model (epoch =   41, loss = 1.2813)\n",
            "Saving model (epoch =   42, loss = 1.2325)\n",
            "Saving model (epoch =   43, loss = 1.1921)\n",
            "Saving model (epoch =   44, loss = 1.1583)\n",
            "Saving model (epoch =   45, loss = 1.1293)\n",
            "Saving model (epoch =   46, loss = 1.1074)\n",
            "Saving model (epoch =   47, loss = 1.0931)\n",
            "Saving model (epoch =   48, loss = 1.0749)\n",
            "Saving model (epoch =   49, loss = 1.0643)\n",
            "Saving model (epoch =   50, loss = 1.0616)\n",
            "Saving model (epoch =   51, loss = 1.0484)\n",
            "Saving model (epoch =   52, loss = 1.0406)\n",
            "Saving model (epoch =   53, loss = 1.0360)\n",
            "Saving model (epoch =   54, loss = 1.0318)\n",
            "Saving model (epoch =   56, loss = 1.0262)\n",
            "Saving model (epoch =   57, loss = 1.0249)\n",
            "Saving model (epoch =   59, loss = 1.0226)\n",
            "Saving model (epoch =   60, loss = 1.0183)\n",
            "Saving model (epoch =   63, loss = 1.0170)\n",
            "Saving model (epoch =   64, loss = 1.0103)\n",
            "Saving model (epoch =   65, loss = 1.0090)\n",
            "Saving model (epoch =   66, loss = 1.0078)\n",
            "Saving model (epoch =   67, loss = 1.0069)\n",
            "Saving model (epoch =   69, loss = 1.0031)\n",
            "Saving model (epoch =   70, loss = 1.0020)\n",
            "Saving model (epoch =   71, loss = 1.0012)\n",
            "Saving model (epoch =   72, loss = 0.9986)\n",
            "Saving model (epoch =   74, loss = 0.9949)\n",
            "Saving model (epoch =   77, loss = 0.9902)\n",
            "Saving model (epoch =   79, loss = 0.9880)\n",
            "Saving model (epoch =   80, loss = 0.9859)\n",
            "Saving model (epoch =   83, loss = 0.9813)\n",
            "Saving model (epoch =   87, loss = 0.9787)\n",
            "Saving model (epoch =   88, loss = 0.9755)\n",
            "Saving model (epoch =   89, loss = 0.9751)\n",
            "Saving model (epoch =   90, loss = 0.9751)\n",
            "Saving model (epoch =   92, loss = 0.9714)\n",
            "Saving model (epoch =   95, loss = 0.9664)\n",
            "Saving model (epoch =   96, loss = 0.9644)\n",
            "Saving model (epoch =   99, loss = 0.9609)\n",
            "Saving model (epoch =  104, loss = 0.9592)\n",
            "Saving model (epoch =  107, loss = 0.9549)\n",
            "Saving model (epoch =  108, loss = 0.9524)\n",
            "Saving model (epoch =  110, loss = 0.9488)\n",
            "Saving model (epoch =  111, loss = 0.9472)\n",
            "Saving model (epoch =  114, loss = 0.9442)\n",
            "Saving model (epoch =  116, loss = 0.9419)\n",
            "Saving model (epoch =  117, loss = 0.9413)\n",
            "Saving model (epoch =  118, loss = 0.9405)\n",
            "Saving model (epoch =  119, loss = 0.9401)\n",
            "Saving model (epoch =  121, loss = 0.9384)\n",
            "Saving model (epoch =  127, loss = 0.9319)\n",
            "Saving model (epoch =  128, loss = 0.9311)\n",
            "Saving model (epoch =  132, loss = 0.9285)\n",
            "Saving model (epoch =  134, loss = 0.9282)\n",
            "Saving model (epoch =  136, loss = 0.9254)\n",
            "Saving model (epoch =  138, loss = 0.9237)\n",
            "Saving model (epoch =  141, loss = 0.9224)\n",
            "Saving model (epoch =  142, loss = 0.9196)\n",
            "Saving model (epoch =  144, loss = 0.9177)\n",
            "Saving model (epoch =  148, loss = 0.9176)\n",
            "Saving model (epoch =  149, loss = 0.9154)\n",
            "Saving model (epoch =  153, loss = 0.9129)\n",
            "Saving model (epoch =  155, loss = 0.9100)\n",
            "Saving model (epoch =  157, loss = 0.9090)\n",
            "Saving model (epoch =  160, loss = 0.9072)\n",
            "Saving model (epoch =  161, loss = 0.9063)\n",
            "Saving model (epoch =  166, loss = 0.9036)\n",
            "Saving model (epoch =  172, loss = 0.9026)\n",
            "Saving model (epoch =  173, loss = 0.9024)\n",
            "Saving model (epoch =  175, loss = 0.8965)\n",
            "Saving model (epoch =  176, loss = 0.8950)\n",
            "Saving model (epoch =  177, loss = 0.8945)\n",
            "Saving model (epoch =  178, loss = 0.8942)\n",
            "Saving model (epoch =  179, loss = 0.8940)\n",
            "Saving model (epoch =  184, loss = 0.8933)\n",
            "Saving model (epoch =  186, loss = 0.8898)\n",
            "Saving model (epoch =  190, loss = 0.8875)\n",
            "Saving model (epoch =  195, loss = 0.8855)\n",
            "Saving model (epoch =  201, loss = 0.8817)\n",
            "Saving model (epoch =  202, loss = 0.8813)\n",
            "Saving model (epoch =  204, loss = 0.8813)\n",
            "Saving model (epoch =  207, loss = 0.8788)\n",
            "Saving model (epoch =  209, loss = 0.8771)\n",
            "Saving model (epoch =  212, loss = 0.8755)\n",
            "Saving model (epoch =  213, loss = 0.8753)\n",
            "Saving model (epoch =  217, loss = 0.8725)\n",
            "Saving model (epoch =  218, loss = 0.8714)\n",
            "Saving model (epoch =  222, loss = 0.8695)\n",
            "Saving model (epoch =  223, loss = 0.8694)\n",
            "Saving model (epoch =  225, loss = 0.8686)\n",
            "Saving model (epoch =  226, loss = 0.8673)\n",
            "Saving model (epoch =  231, loss = 0.8656)\n",
            "Saving model (epoch =  234, loss = 0.8631)\n",
            "Saving model (epoch =  235, loss = 0.8626)\n",
            "Saving model (epoch =  238, loss = 0.8619)\n",
            "Saving model (epoch =  240, loss = 0.8616)\n",
            "Saving model (epoch =  247, loss = 0.8601)\n",
            "Saving model (epoch =  249, loss = 0.8584)\n",
            "Saving model (epoch =  251, loss = 0.8576)\n",
            "Saving model (epoch =  252, loss = 0.8568)\n",
            "Saving model (epoch =  255, loss = 0.8566)\n",
            "Saving model (epoch =  263, loss = 0.8546)\n",
            "Saving model (epoch =  264, loss = 0.8544)\n",
            "Saving model (epoch =  267, loss = 0.8527)\n",
            "Saving model (epoch =  268, loss = 0.8522)\n",
            "Saving model (epoch =  269, loss = 0.8522)\n",
            "Saving model (epoch =  273, loss = 0.8509)\n",
            "Saving model (epoch =  279, loss = 0.8487)\n",
            "Saving model (epoch =  288, loss = 0.8483)\n",
            "Saving model (epoch =  290, loss = 0.8467)\n",
            "Saving model (epoch =  291, loss = 0.8460)\n",
            "Saving model (epoch =  298, loss = 0.8450)\n",
            "Saving model (epoch =  303, loss = 0.8436)\n",
            "Saving model (epoch =  304, loss = 0.8435)\n",
            "Saving model (epoch =  309, loss = 0.8433)\n",
            "Saving model (epoch =  310, loss = 0.8429)\n",
            "Saving model (epoch =  313, loss = 0.8416)\n",
            "Saving model (epoch =  317, loss = 0.8407)\n",
            "Saving model (epoch =  323, loss = 0.8391)\n",
            "Saving model (epoch =  324, loss = 0.8389)\n",
            "Saving model (epoch =  329, loss = 0.8382)\n",
            "Saving model (epoch =  331, loss = 0.8378)\n",
            "Saving model (epoch =  335, loss = 0.8378)\n",
            "Saving model (epoch =  338, loss = 0.8374)\n",
            "Saving model (epoch =  342, loss = 0.8366)\n",
            "Saving model (epoch =  347, loss = 0.8361)\n",
            "Saving model (epoch =  350, loss = 0.8354)\n",
            "Saving model (epoch =  352, loss = 0.8349)\n",
            "Saving model (epoch =  354, loss = 0.8343)\n",
            "Saving model (epoch =  362, loss = 0.8332)\n",
            "Saving model (epoch =  371, loss = 0.8319)\n",
            "Saving model (epoch =  373, loss = 0.8315)\n",
            "Saving model (epoch =  376, loss = 0.8313)\n",
            "Saving model (epoch =  384, loss = 0.8307)\n",
            "Saving model (epoch =  387, loss = 0.8298)\n",
            "Saving model (epoch =  404, loss = 0.8293)\n",
            "Saving model (epoch =  405, loss = 0.8280)\n",
            "Saving model (epoch =  417, loss = 0.8275)\n",
            "Saving model (epoch =  420, loss = 0.8275)\n",
            "Saving model (epoch =  425, loss = 0.8267)\n",
            "Saving model (epoch =  434, loss = 0.8258)\n",
            "Saving model (epoch =  435, loss = 0.8255)\n",
            "Saving model (epoch =  444, loss = 0.8245)\n",
            "Saving model (epoch =  455, loss = 0.8243)\n",
            "Saving model (epoch =  457, loss = 0.8240)\n",
            "Saving model (epoch =  459, loss = 0.8236)\n",
            "Saving model (epoch =  465, loss = 0.8232)\n",
            "Saving model (epoch =  466, loss = 0.8232)\n",
            "Saving model (epoch =  482, loss = 0.8224)\n",
            "Saving model (epoch =  488, loss = 0.8220)\n",
            "Saving model (epoch =  494, loss = 0.8216)\n",
            "Saving model (epoch =  515, loss = 0.8211)\n",
            "Saving model (epoch =  518, loss = 0.8207)\n",
            "Saving model (epoch =  529, loss = 0.8201)\n",
            "Saving model (epoch =  532, loss = 0.8196)\n",
            "Saving model (epoch =  544, loss = 0.8192)\n",
            "Saving model (epoch =  547, loss = 0.8190)\n",
            "Saving model (epoch =  554, loss = 0.8188)\n",
            "Saving model (epoch =  562, loss = 0.8180)\n",
            "Saving model (epoch =  564, loss = 0.8179)\n",
            "Saving model (epoch =  573, loss = 0.8179)\n",
            "Saving model (epoch =  588, loss = 0.8168)\n",
            "Saving model (epoch =  606, loss = 0.8167)\n",
            "Saving model (epoch =  607, loss = 0.8164)\n",
            "Saving model (epoch =  617, loss = 0.8163)\n",
            "Saving model (epoch =  634, loss = 0.8157)\n",
            "Saving model (epoch =  640, loss = 0.8153)\n",
            "Saving model (epoch =  663, loss = 0.8147)\n",
            "Saving model (epoch =  690, loss = 0.8142)\n",
            "Saving model (epoch =  709, loss = 0.8136)\n",
            "Saving model (epoch =  719, loss = 0.8132)\n",
            "Saving model (epoch =  742, loss = 0.8132)\n",
            "Saving model (epoch =  748, loss = 0.8129)\n",
            "Saving model (epoch =  770, loss = 0.8127)\n",
            "Saving model (epoch =  800, loss = 0.8117)\n",
            "Saving model (epoch =  811, loss = 0.8115)\n",
            "Saving model (epoch =  812, loss = 0.8113)\n",
            "Saving model (epoch =  816, loss = 0.8110)\n",
            "Saving model (epoch =  845, loss = 0.8109)\n",
            "Saving model (epoch =  874, loss = 0.8104)\n",
            "Saving model (epoch =  895, loss = 0.8102)\n",
            "Saving model (epoch =  896, loss = 0.8099)\n",
            "Saving model (epoch =  912, loss = 0.8098)\n",
            "Saving model (epoch =  944, loss = 0.8096)\n",
            "Saving model (epoch =  971, loss = 0.8094)\n",
            "Saving model (epoch =  996, loss = 0.8093)\n",
            "Saving model (epoch =  998, loss = 0.8088)\n",
            "Saving model (epoch = 1018, loss = 0.8082)\n",
            "Saving model (epoch = 1074, loss = 0.8081)\n",
            "Saving model (epoch = 1078, loss = 0.8079)\n",
            "Saving model (epoch = 1097, loss = 0.8077)\n",
            "Saving model (epoch = 1120, loss = 0.8076)\n",
            "Saving model (epoch = 1135, loss = 0.8074)\n",
            "Saving model (epoch = 1161, loss = 0.8074)\n",
            "Saving model (epoch = 1209, loss = 0.8066)\n",
            "Saving model (epoch = 1228, loss = 0.8064)\n",
            "Saving model (epoch = 1276, loss = 0.8063)\n",
            "Saving model (epoch = 1315, loss = 0.8062)\n",
            "Saving model (epoch = 1330, loss = 0.8062)\n",
            "Saving model (epoch = 1332, loss = 0.8060)\n",
            "Saving model (epoch = 1333, loss = 0.8059)\n",
            "Saving model (epoch = 1345, loss = 0.8058)\n",
            "Saving model (epoch = 1354, loss = 0.8057)\n",
            "Saving model (epoch = 1367, loss = 0.8057)\n",
            "Saving model (epoch = 1374, loss = 0.8051)\n",
            "Saving model (epoch = 1434, loss = 0.8051)\n",
            "Saving model (epoch = 1454, loss = 0.8046)\n",
            "Saving model (epoch = 1507, loss = 0.8046)\n",
            "Saving model (epoch = 1593, loss = 0.8045)\n",
            "Saving model (epoch = 1601, loss = 0.8043)\n",
            "Saving model (epoch = 1602, loss = 0.8041)\n",
            "Saving model (epoch = 1635, loss = 0.8038)\n",
            "Saving model (epoch = 1668, loss = 0.8037)\n",
            "Saving model (epoch = 1694, loss = 0.8033)\n",
            "Saving model (epoch = 1787, loss = 0.8032)\n",
            "Saving model (epoch = 1826, loss = 0.8032)\n",
            "Saving model (epoch = 1835, loss = 0.8031)\n",
            "Saving model (epoch = 1853, loss = 0.8030)\n",
            "Saving model (epoch = 1877, loss = 0.8027)\n",
            "Saving model (epoch = 1912, loss = 0.8027)\n",
            "Saving model (epoch = 1929, loss = 0.8024)\n",
            "Saving model (epoch = 1973, loss = 0.8023)\n",
            "Saving model (epoch = 1993, loss = 0.8022)\n",
            "Saving model (epoch = 2105, loss = 0.8022)\n",
            "Saving model (epoch = 2113, loss = 0.8021)\n",
            "Saving model (epoch = 2131, loss = 0.8019)\n",
            "Saving model (epoch = 2191, loss = 0.8019)\n",
            "Saving model (epoch = 2212, loss = 0.8017)\n",
            "Saving model (epoch = 2236, loss = 0.8016)\n",
            "Saving model (epoch = 2248, loss = 0.8014)\n",
            "Saving model (epoch = 2257, loss = 0.8013)\n",
            "Saving model (epoch = 2361, loss = 0.8011)\n",
            "Saving model (epoch = 2455, loss = 0.8009)\n",
            "Saving model (epoch = 2470, loss = 0.8007)\n",
            "Saving model (epoch = 2489, loss = 0.8006)\n",
            "Saving model (epoch = 2511, loss = 0.8005)\n",
            "Saving model (epoch = 2589, loss = 0.8004)\n",
            "Saving model (epoch = 2595, loss = 0.8002)\n",
            "Saving model (epoch = 2725, loss = 0.8002)\n",
            "Saving model (epoch = 2753, loss = 0.8000)\n",
            "Saving model (epoch = 2767, loss = 0.7997)\n",
            "Saving model (epoch = 2860, loss = 0.7996)\n",
            "Finished training after 3000 epochs\n"
          ],
          "name": "stdout"
        }
      ]
    },
    {
      "cell_type": "code",
      "metadata": {
        "id": "yebuZMqKtA4e",
        "colab": {
          "base_uri": "https://localhost:8080/",
          "height": 295
        },
        "outputId": "464db70e-b488-45af-9734-31d331eee8f8"
      },
      "source": [
        "plot_learning_curve(model_loss_record, title='deep model')"
      ],
      "execution_count": null,
      "outputs": [
        {
          "output_type": "display_data",
          "data": {
            "image/png": "[encoded data removed]",
            "text/plain": [
              "<Figure size 432x288 with 1 Axes>"
            ]
          },
          "metadata": {
            "tags": [],
            "needs_background": "light"
          }
        }
      ]
    },
    {
      "cell_type": "code",
      "metadata": {
        "id": "ZnH-oe5LtJhY",
        "colab": {
          "base_uri": "https://localhost:8080/",
          "height": 350
        },
        "outputId": "a4d84ad3-41cb-481e-e8b1-3dc365a5a959"
      },
      "source": [
        "del model\n",
        "model = NeuralNet(tr_set.dataset.dim).to(device) # rebuild empty model\n",
        "ckpt = torch.load(config['save_path'], map_location='cpu')  # Load your best model\n",
        "model.load_state_dict(ckpt)\n",
        "plot_pred(dv_set, model, device)  # Show prediction on the validation set"
      ],
      "execution_count": null,
      "outputs": [
        {
          "output_type": "display_data",
          "data": {
            "image/png": "[encoded data removed]",
            "text/plain": [
              "<Figure size 360x360 with 1 Axes>"
            ]
          },
          "metadata": {
            "tags": [],
            "needs_background": "light"
          }
        }
      ]
    },
    {
      "cell_type": "markdown",
      "metadata": {
        "id": "TGA-wf4vsP6i"
      },
      "source": [
        "# **Testing**"
      ]
    },
    {
      "cell_type": "code",
      "metadata": {
        "id": "CP0DwfRZsUfO",
        "colab": {
          "base_uri": "https://localhost:8080/"
        },
        "outputId": "86df9ab1-0af7-424f-a8de-438a9bbd28d1"
      },
      "source": [
        "def save_pred(preds, file):\n",
        "    ''' Save predictions to specified file '''\n",
        "    print('Saving results to {}'.format(file))\n",
        "    with open(file, 'w') as fp:\n",
        "        writer = csv.writer(fp)\n",
        "        writer.writerow(['id', 'tested_positive'])\n",
        "        for i, p in enumerate(preds):\n",
        "            writer.writerow([i, p])\n",
        "\n",
        "preds = test(tt_set, model, device)  # predict COVID-19 cases with your model\n",
        "save_pred(preds, 'pred.csv')         # save prediction file to pred.csv"
      ],
      "execution_count": null,
      "outputs": [
        {
          "output_type": "stream",
          "text": [
            "Saving results to pred.csv\n"
          ],
          "name": "stdout"
        }
      ]
    }
  ]
}